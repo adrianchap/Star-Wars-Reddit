{
 "cells": [
  {
   "cell_type": "code",
   "execution_count": 419,
   "metadata": {},
   "outputs": [],
   "source": [
    "# imports\n",
    "import numpy as np\n",
    "import pandas as pd\n",
    "import matplotlib.pyplot as plt\n",
    "import seaborn as sns\n",
    "\n",
    "# Import train_test_split. Crossval score. Gridsearch CV\n",
    "from sklearn.model_selection import train_test_split, cross_val_score, GridSearchCV\n",
    "\n",
    "# Import metrics\n",
    "from sklearn import metrics\n",
    "\n",
    "# Import Pipeline\n",
    "from sklearn.pipeline import Pipeline\n",
    "\n",
    "# Import models\n",
    "\n",
    "from sklearn.ensemble import RandomForestClassifier, ExtraTreesClassifier\n",
    "from sklearn.naive_bayes import MultinomialNB\n",
    "from sklearn.metrics import confusion_matrix, plot_confusion_matrix\n",
    "from sklearn.tree import DecisionTreeClassifier\n",
    "from sklearn.ensemble import BaggingClassifier\n",
    "from sklearn.ensemble import AdaBoostClassifier, GradientBoostingClassifier, VotingClassifier\n",
    "\n",
    "\n",
    "# Import CountVectorizer and TFIDFVectorizer from feature_extraction.text.\n",
    "from sklearn.feature_extraction.text import CountVectorizer, TfidfVectorizer\n",
    "from sklearn.datasets import make_classification"
   ]
  },
  {
   "cell_type": "code",
   "execution_count": 420,
   "metadata": {},
   "outputs": [],
   "source": [
    "# Read in the modeling data\n",
    "df = pd.read_csv('./data/text_count_sentiment.csv')"
   ]
  },
  {
   "cell_type": "markdown",
   "metadata": {},
   "source": [
    "### Model 1 - Count Vectorizer and Naive Bayes with no word count or sentiment data"
   ]
  },
  {
   "cell_type": "code",
   "execution_count": 421,
   "metadata": {},
   "outputs": [],
   "source": [
    "# Step 1: Split into training & testing sets\n",
    "X = df['features']\n",
    "y = df['target']\n",
    "X_train, X_test, y_train, y_test = train_test_split(X,\n",
    "                                                    y,\n",
    "                                                    stratify=y,\n",
    "                                                    random_state=13)"
   ]
  },
  {
   "cell_type": "code",
   "execution_count": 254,
   "metadata": {},
   "outputs": [
    {
     "data": {
      "text/plain": [
       "1    0.501002\n",
       "0    0.498998\n",
       "Name: target, dtype: float64"
      ]
     },
     "execution_count": 254,
     "metadata": {},
     "output_type": "execute_result"
    }
   ],
   "source": [
    "# Get the baseline model performance\n",
    "y_test.value_counts(normalize = True)"
   ]
  },
  {
   "cell_type": "code",
   "execution_count": 255,
   "metadata": {},
   "outputs": [
    {
     "data": {
      "text/plain": [
       "(1494,)"
      ]
     },
     "execution_count": 255,
     "metadata": {},
     "output_type": "execute_result"
    }
   ],
   "source": [
    "X_train.shape"
   ]
  },
  {
   "cell_type": "code",
   "execution_count": 256,
   "metadata": {},
   "outputs": [],
   "source": [
    "# Create pipe with count vectorizer and multinomial NB\n",
    "\n",
    "pipe = Pipeline([\n",
    "    ('cvec', CountVectorizer()),\n",
    "    ('nb', MultinomialNB())\n",
    "])\n",
    "\n"
   ]
  },
  {
   "cell_type": "code",
   "execution_count": 257,
   "metadata": {},
   "outputs": [],
   "source": [
    "# Set the pipe parameters\n",
    "\n",
    "pipe_params = {\n",
    "    'cvec__max_features':[2000, 3000, 4000, 5000],\n",
    "    'cvec__min_df' : [2, 3],\n",
    "    'cvec__max_df': [.9, .95],\n",
    "    'cvec__ngram_range': [(1, 1), (1, 2)]\n",
    "}"
   ]
  },
  {
   "cell_type": "code",
   "execution_count": 258,
   "metadata": {},
   "outputs": [],
   "source": [
    "# Instantiate GridSearchCV.\n",
    "\n",
    "gs_cv = GridSearchCV(pipe, # what object are we optimizing?\n",
    "                  pipe_params, # what parameters values are we searching?\n",
    "                  cv = 5) # 5-fold cross-validation."
   ]
  },
  {
   "cell_type": "code",
   "execution_count": 260,
   "metadata": {},
   "outputs": [
    {
     "data": {
      "text/plain": [
       "GridSearchCV(cv=5,\n",
       "             estimator=Pipeline(steps=[('cvec', CountVectorizer()),\n",
       "                                       ('nb', MultinomialNB())]),\n",
       "             param_grid={'cvec__max_df': [0.9, 0.95],\n",
       "                         'cvec__max_features': [2000, 3000, 4000, 5000],\n",
       "                         'cvec__min_df': [2, 3],\n",
       "                         'cvec__ngram_range': [(1, 1), (1, 2)]})"
      ]
     },
     "execution_count": 260,
     "metadata": {},
     "output_type": "execute_result"
    }
   ],
   "source": [
    "# Fit GridSearch to training data.\n",
    "gs_cv.fit(X_train, y_train)"
   ]
  },
  {
   "cell_type": "code",
   "execution_count": 261,
   "metadata": {},
   "outputs": [
    {
     "data": {
      "text/plain": [
       "0.7483176584139525"
      ]
     },
     "execution_count": 261,
     "metadata": {},
     "output_type": "execute_result"
    }
   ],
   "source": [
    "# Get the best CV score\n",
    "gs_cv.best_score_"
   ]
  },
  {
   "cell_type": "code",
   "execution_count": 262,
   "metadata": {},
   "outputs": [
    {
     "data": {
      "text/plain": [
       "{'cvec__max_df': 0.9,\n",
       " 'cvec__max_features': 2000,\n",
       " 'cvec__min_df': 3,\n",
       " 'cvec__ngram_range': (1, 1)}"
      ]
     },
     "execution_count": 262,
     "metadata": {},
     "output_type": "execute_result"
    }
   ],
   "source": [
    "# Get the best parameters for the model\n",
    "gs_cv.best_params_"
   ]
  },
  {
   "cell_type": "code",
   "execution_count": 271,
   "metadata": {},
   "outputs": [
    {
     "name": "stdout",
     "output_type": "stream",
     "text": [
      "Train accuracy = 0.8380187416331994\n",
      "Test accuracy = 0.7555110220440882\n",
      "Specificity = 0.7228915662650602\n",
      "Recall = 0.788\n"
     ]
    }
   ],
   "source": [
    "# Score model on training set.\n",
    "print(f'Train accuracy = {gs_cv.score(X_train, y_train)}')\n",
    "# Score model on testing set.\n",
    "print(f'Test accuracy = {gs_cv.score(X_test, y_test)}')\n",
    "# Get predictions\n",
    "preds = gs_cv.predict(X_test)\n",
    "# Save confusion matrix values\n",
    "tn, fp, fn, tp = confusion_matrix(y_test, preds).ravel()\n",
    "# Calculate the specificity\n",
    "print(f'Specificity = {tn / (tn + fp)}')\n",
    "# Calculate the recall\n",
    "print(f'Recall = {tp / (tp + fn)}')"
   ]
  },
  {
   "cell_type": "markdown",
   "metadata": {},
   "source": [
    "### Model 2 - TFIDF and Naive Bayes with no word count or sentiment data"
   ]
  },
  {
   "cell_type": "code",
   "execution_count": 272,
   "metadata": {},
   "outputs": [],
   "source": [
    "# Instantiate the transformer.\n",
    "tvec = TfidfVectorizer()"
   ]
  },
  {
   "cell_type": "code",
   "execution_count": 273,
   "metadata": {},
   "outputs": [],
   "source": [
    "# Step 1: Split into training & testing sets\n",
    "X = df['features']\n",
    "y = df['target']\n",
    "X_train, X_test, y_train, y_test = train_test_split(X,\n",
    "                                                    y,\n",
    "                                                    stratify=y,\n",
    "                                                    random_state=13)"
   ]
  },
  {
   "cell_type": "code",
   "execution_count": 275,
   "metadata": {},
   "outputs": [],
   "source": [
    "# Set a pipe for TFIDF and MultinomialNB\n",
    "pipe_tvec = Pipeline([\n",
    "    ('tvec', TfidfVectorizer()),\n",
    "    ('nb', MultinomialNB())\n",
    "])"
   ]
  },
  {
   "cell_type": "code",
   "execution_count": 276,
   "metadata": {},
   "outputs": [],
   "source": [
    "# Set the TFIDF parameters\n",
    "pipe_tvec_params = {\n",
    "    'tvec__max_features': [2000, 3000, 4000, 5000],\n",
    "    'tvec__stop_words': [None, 'english'],\n",
    "    'tvec__min_df' : [2, 3],\n",
    "    'tvec__max_df': [.9, .95],\n",
    "    'tvec__ngram_range': [(1,1), (1,2)]\n",
    "}"
   ]
  },
  {
   "cell_type": "code",
   "execution_count": 277,
   "metadata": {},
   "outputs": [],
   "source": [
    "# Instantiate GridSearchCV.\n",
    "gs_tvec = GridSearchCV(pipe_tvec,\n",
    "                       pipe_tvec_params,\n",
    "                       cv = 5,\n",
    "                       verbose = 1)"
   ]
  },
  {
   "cell_type": "code",
   "execution_count": 278,
   "metadata": {},
   "outputs": [
    {
     "name": "stdout",
     "output_type": "stream",
     "text": [
      "Fitting 5 folds for each of 64 candidates, totalling 320 fits\n"
     ]
    },
    {
     "name": "stderr",
     "output_type": "stream",
     "text": [
      "[Parallel(n_jobs=1)]: Using backend SequentialBackend with 1 concurrent workers.\n",
      "[Parallel(n_jobs=1)]: Done 320 out of 320 | elapsed:   53.3s finished\n"
     ]
    },
    {
     "data": {
      "text/plain": [
       "GridSearchCV(cv=5,\n",
       "             estimator=Pipeline(steps=[('tvec', TfidfVectorizer()),\n",
       "                                       ('nb', MultinomialNB())]),\n",
       "             param_grid={'tvec__max_df': [0.9, 0.95],\n",
       "                         'tvec__max_features': [2000, 3000, 4000, 5000],\n",
       "                         'tvec__min_df': [2, 3],\n",
       "                         'tvec__ngram_range': [(1, 1), (1, 2)],\n",
       "                         'tvec__stop_words': [None, 'english']},\n",
       "             verbose=1)"
      ]
     },
     "execution_count": 278,
     "metadata": {},
     "output_type": "execute_result"
    }
   ],
   "source": [
    "# Fit GridSearch to training data.\n",
    "gs_tvec.fit(X_train, y_train)"
   ]
  },
  {
   "cell_type": "code",
   "execution_count": 280,
   "metadata": {},
   "outputs": [
    {
     "data": {
      "text/plain": [
       "0.7483356153621692"
      ]
     },
     "execution_count": 280,
     "metadata": {},
     "output_type": "execute_result"
    }
   ],
   "source": [
    "# Get the best CV score\n",
    "gs_tvec.best_score_"
   ]
  },
  {
   "cell_type": "code",
   "execution_count": 279,
   "metadata": {},
   "outputs": [
    {
     "data": {
      "text/plain": [
       "{'tvec__max_df': 0.9,\n",
       " 'tvec__max_features': 3000,\n",
       " 'tvec__min_df': 3,\n",
       " 'tvec__ngram_range': (1, 2),\n",
       " 'tvec__stop_words': None}"
      ]
     },
     "execution_count": 279,
     "metadata": {},
     "output_type": "execute_result"
    }
   ],
   "source": [
    "# Get the best parameters\n",
    "gs_tvec.best_params_"
   ]
  },
  {
   "cell_type": "code",
   "execution_count": 286,
   "metadata": {},
   "outputs": [
    {
     "name": "stdout",
     "output_type": "stream",
     "text": [
      "Train accuracy = 0.8594377510040161\n",
      "Test accuracy = 0.7314629258517034\n",
      "Specificity = 0.6414342629482072\n",
      "Recall = 0.8225806451612904\n"
     ]
    }
   ],
   "source": [
    "# Score model on training set.\n",
    "print(f'Train accuracy = {gs_tvec.score(X_train, y_train)}')\n",
    "# Score model on testing set.\n",
    "print(f'Test accuracy = {gs_tvec.score(X_test, y_test)}')\n",
    "# Get predictions\n",
    "preds = gs_tvec.predict(X_test)\n",
    "# Save confusion matrix values\n",
    "tn, fp, fn, tp = confusion_matrix(y_test, preds).ravel()\n",
    "# Calculate the specificity\n",
    "print(f'Specificity = {tn / (tn + fp)}')\n",
    "# Calculate the recall\n",
    "print(f'Recall = {tp / (tp + fn)}')"
   ]
  },
  {
   "cell_type": "markdown",
   "metadata": {},
   "source": [
    "### Model - Building a TFIDF dataframe to combine with sentiment and word count"
   ]
  },
  {
   "cell_type": "code",
   "execution_count": 451,
   "metadata": {},
   "outputs": [],
   "source": [
    "# Note that much of this section of code comes from Heather's review 10/19\n",
    "X = df[['features', 'feature_length', 'feature_word_count', 'compound', 'neg', 'neu', 'pos']]\n",
    "y = df['target']\n",
    "X_train, X_test, y_train, y_test = train_test_split(X, y, random_state=13, stratify = y)"
   ]
  },
  {
   "cell_type": "code",
   "execution_count": 452,
   "metadata": {},
   "outputs": [
    {
     "data": {
      "text/plain": [
       "(1909, 7)"
      ]
     },
     "execution_count": 452,
     "metadata": {},
     "output_type": "execute_result"
    }
   ],
   "source": [
    "X.shape"
   ]
  },
  {
   "cell_type": "code",
   "execution_count": 456,
   "metadata": {},
   "outputs": [],
   "source": [
    "# Instantiate and set params for TFIDF\n",
    "tf = TfidfVectorizer(max_features = 3000, ngram_range = (1,2), stop_words = 'english', max_df = 0.9, min_df = 3)"
   ]
  },
  {
   "cell_type": "code",
   "execution_count": 457,
   "metadata": {},
   "outputs": [],
   "source": [
    "# Fit transform train and tranform test data\n",
    "X_train_tf = tf.fit_transform(X_train['features'])\n",
    "X_test_tf = tf.transform(X_test['features'])"
   ]
  },
  {
   "cell_type": "code",
   "execution_count": 458,
   "metadata": {},
   "outputs": [],
   "source": [
    "# Create a new data frame for training and test set\n",
    "df_X_train = pd.DataFrame(X_train_tf.todense(), columns=tf.get_feature_names())\n",
    "df_X_test = pd.DataFrame(X_test_tf.todense(), columns = tf.get_feature_names())"
   ]
  },
  {
   "cell_type": "code",
   "execution_count": 460,
   "metadata": {},
   "outputs": [],
   "source": [
    "# Reset indicies for all dataframes\n",
    "df_X_train.reset_index(drop=True, inplace=True)\n",
    "X_train.reset_index(drop=True, inplace=True)\n",
    "df_X_test.reset_index(drop=True, inplace = True)\n",
    "X_test.reset_index(drop=True, inplace=True)"
   ]
  },
  {
   "cell_type": "code",
   "execution_count": 464,
   "metadata": {
    "scrolled": false
   },
   "outputs": [
    {
     "data": {
      "text/html": [
       "<div>\n",
       "<style scoped>\n",
       "    .dataframe tbody tr th:only-of-type {\n",
       "        vertical-align: middle;\n",
       "    }\n",
       "\n",
       "    .dataframe tbody tr th {\n",
       "        vertical-align: top;\n",
       "    }\n",
       "\n",
       "    .dataframe thead th {\n",
       "        text-align: right;\n",
       "    }\n",
       "</style>\n",
       "<table border=\"1\" class=\"dataframe\">\n",
       "  <thead>\n",
       "    <tr style=\"text-align: right;\">\n",
       "      <th></th>\n",
       "      <th>10</th>\n",
       "      <th>10 years</th>\n",
       "      <th>100</th>\n",
       "      <th>12</th>\n",
       "      <th>15</th>\n",
       "      <th>17</th>\n",
       "      <th>1977</th>\n",
       "      <th>1999</th>\n",
       "      <th>20</th>\n",
       "      <th>20 years</th>\n",
       "      <th>...</th>\n",
       "      <th>yuuzhan vong</th>\n",
       "      <th>zahn</th>\n",
       "      <th>zero</th>\n",
       "      <th>features</th>\n",
       "      <th>feature_length</th>\n",
       "      <th>feature_word_count</th>\n",
       "      <th>compound</th>\n",
       "      <th>neg</th>\n",
       "      <th>neu</th>\n",
       "      <th>pos</th>\n",
       "    </tr>\n",
       "  </thead>\n",
       "  <tbody>\n",
       "    <tr>\n",
       "      <th>0</th>\n",
       "      <td>0.0</td>\n",
       "      <td>0.0</td>\n",
       "      <td>0.0</td>\n",
       "      <td>0.0</td>\n",
       "      <td>0.0</td>\n",
       "      <td>0.0</td>\n",
       "      <td>0.0</td>\n",
       "      <td>0.0</td>\n",
       "      <td>0.0</td>\n",
       "      <td>0.0</td>\n",
       "      <td>...</td>\n",
       "      <td>0.0</td>\n",
       "      <td>0.0</td>\n",
       "      <td>0.0</td>\n",
       "      <td>i had a little extra time this weekend so i ma...</td>\n",
       "      <td>281</td>\n",
       "      <td>50</td>\n",
       "      <td>-0.5574</td>\n",
       "      <td>0.077</td>\n",
       "      <td>0.923</td>\n",
       "      <td>0.0</td>\n",
       "    </tr>\n",
       "  </tbody>\n",
       "</table>\n",
       "<p>1 rows × 3007 columns</p>\n",
       "</div>"
      ],
      "text/plain": [
       "    10  10 years  100   12   15   17  1977  1999   20  20 years  ...  \\\n",
       "0  0.0       0.0  0.0  0.0  0.0  0.0   0.0   0.0  0.0       0.0  ...   \n",
       "\n",
       "   yuuzhan vong  zahn  zero  \\\n",
       "0           0.0   0.0   0.0   \n",
       "\n",
       "                                            features  feature_length  \\\n",
       "0  i had a little extra time this weekend so i ma...             281   \n",
       "\n",
       "   feature_word_count  compound    neg    neu  pos  \n",
       "0                  50   -0.5574  0.077  0.923  0.0  \n",
       "\n",
       "[1 rows x 3007 columns]"
      ]
     },
     "execution_count": 464,
     "metadata": {},
     "output_type": "execute_result"
    }
   ],
   "source": [
    "# Add sentiment scores back to data and create combined datafremes for train and test\n",
    "combined_X_train = pd.concat([df_X_train, X_train], axis =1)\n",
    "combined_X_train.head(1)"
   ]
  },
  {
   "cell_type": "code",
   "execution_count": 465,
   "metadata": {},
   "outputs": [],
   "source": [
    "combined_X_test = pd.concat([df_X_test, X_test], axis = 1)"
   ]
  },
  {
   "cell_type": "code",
   "execution_count": 466,
   "metadata": {},
   "outputs": [],
   "source": [
    "# Drop the original features column\n",
    "combined_X_train.drop(columns = 'features', inplace=True)\n",
    "combined_X_test.drop(columns = 'features', inplace = True)"
   ]
  },
  {
   "cell_type": "code",
   "execution_count": 468,
   "metadata": {
    "scrolled": false
   },
   "outputs": [
    {
     "data": {
      "text/plain": [
       "((1431, 3006), (478, 3006))"
      ]
     },
     "execution_count": 468,
     "metadata": {},
     "output_type": "execute_result"
    }
   ],
   "source": [
    "combined_X_train.shape, combined_X_test.shape"
   ]
  },
  {
   "cell_type": "code",
   "execution_count": 469,
   "metadata": {},
   "outputs": [
    {
     "data": {
      "text/plain": [
       "((1431,), (478,))"
      ]
     },
     "execution_count": 469,
     "metadata": {},
     "output_type": "execute_result"
    }
   ],
   "source": [
    "y_train.shape, y_test.shape"
   ]
  },
  {
   "cell_type": "markdown",
   "metadata": {},
   "source": [
    "### Model #3 Decision Tree Classifier with TFIDF and sentiment/word count data"
   ]
  },
  {
   "cell_type": "code",
   "execution_count": 308,
   "metadata": {},
   "outputs": [
    {
     "data": {
      "text/plain": [
       "DecisionTreeClassifier()"
      ]
     },
     "execution_count": 308,
     "metadata": {},
     "output_type": "execute_result"
    }
   ],
   "source": [
    "# Instantiate and fit Decision Tree Classifier\n",
    "dt = DecisionTreeClassifier()\n",
    "dt.fit(combined_X_train, y_train)"
   ]
  },
  {
   "cell_type": "code",
   "execution_count": 309,
   "metadata": {},
   "outputs": [
    {
     "data": {
      "text/plain": [
       "(0.9973226238286479, 0.6492985971943888)"
      ]
     },
     "execution_count": 309,
     "metadata": {},
     "output_type": "execute_result"
    }
   ],
   "source": [
    "# Accuracy scores without grid search\n",
    "dt.score(combined_X_train, y_train), dt.score(combined_X_test, y_test)"
   ]
  },
  {
   "cell_type": "code",
   "execution_count": 310,
   "metadata": {},
   "outputs": [],
   "source": [
    "# Set parameters\n",
    "params = [{'max_depth': [15, 17, 20],   #The maximum depth of the tree. If None, then nodes are expanded until all leaves are pure or until all leaves     \n",
    "            'max_features': [.65, .5, .35], #The number of features to consider when looking for the best split\n",
    "           'class_weight': [None, 'balanced'],\n",
    "          'min_samples_split' : [4, 5, 6]}]  #The minimum number of samples required to split an internal node (default is 2)"
   ]
  },
  {
   "cell_type": "code",
   "execution_count": 311,
   "metadata": {},
   "outputs": [],
   "source": [
    "# Instatiate the grid\n",
    "gs_dt = GridSearchCV(dt, param_grid = params, cv = 3)"
   ]
  },
  {
   "cell_type": "code",
   "execution_count": 312,
   "metadata": {},
   "outputs": [
    {
     "data": {
      "text/plain": [
       "GridSearchCV(cv=3, estimator=DecisionTreeClassifier(),\n",
       "             param_grid=[{'class_weight': [None, 'balanced'],\n",
       "                          'max_depth': [15, 17, 20],\n",
       "                          'max_features': [0.65, 0.5, 0.35],\n",
       "                          'min_samples_split': [4, 5, 6]}])"
      ]
     },
     "execution_count": 312,
     "metadata": {},
     "output_type": "execute_result"
    }
   ],
   "source": [
    "# Fit the decision tree on the training data\n",
    "gs_dt.fit(combined_X_train, y_train)"
   ]
  },
  {
   "cell_type": "code",
   "execution_count": 315,
   "metadata": {},
   "outputs": [
    {
     "data": {
      "text/plain": [
       "{'class_weight': 'balanced',\n",
       " 'max_depth': 20,\n",
       " 'max_features': 0.5,\n",
       " 'min_samples_split': 5}"
      ]
     },
     "execution_count": 315,
     "metadata": {},
     "output_type": "execute_result"
    }
   ],
   "source": [
    "# Get the best parameters\n",
    "gs_dt.best_params_"
   ]
  },
  {
   "cell_type": "code",
   "execution_count": 317,
   "metadata": {},
   "outputs": [
    {
     "name": "stdout",
     "output_type": "stream",
     "text": [
      "Train accuracy = 0.9089692101740294\n",
      "Test accuracy = 0.6913827655310621\n",
      "Specificity = 0.7630522088353414\n",
      "Recall = 0.62\n"
     ]
    }
   ],
   "source": [
    "# Score model on training set.\n",
    "print(f'Train accuracy = {gs_dt.score(combined_X_train, y_train)}')\n",
    "# Score model on testing set.\n",
    "print(f'Test accuracy = {gs_dt.score(combined_X_test, y_test)}')\n",
    "# Get predictions\n",
    "preds = gs_dt.predict(combined_X_test)\n",
    "# Save confusion matrix values\n",
    "tn, fp, fn, tp = confusion_matrix(y_test, preds).ravel()\n",
    "# Calculate the specificity\n",
    "print(f'Specificity = {tn / (tn + fp)}')\n",
    "# Calculate the recall\n",
    "print(f'Recall = {tp / (tp + fn)}')"
   ]
  },
  {
   "cell_type": "markdown",
   "metadata": {},
   "source": [
    "### Models #4 and #5 with Random Forest, Extra Trees, TFIDF and sentiment/word count data"
   ]
  },
  {
   "cell_type": "code",
   "execution_count": 320,
   "metadata": {},
   "outputs": [
    {
     "name": "stdout",
     "output_type": "stream",
     "text": [
      "0.7202105452178402\n"
     ]
    },
    {
     "data": {
      "text/plain": [
       "{'max_depth': None, 'max_features': 'auto', 'n_estimators': 75}"
      ]
     },
     "execution_count": 320,
     "metadata": {},
     "output_type": "execute_result"
    }
   ],
   "source": [
    "# Run Random Forrest CV - all steps combined\n",
    "rf = RandomForestClassifier(random_state=42) #Instatiate and set params\n",
    "params = {\n",
    "    'n_estimators': [75, 100, 125], \n",
    "    'max_depth': [None, 3, 4],\n",
    "    'max_features': ['auto', None]\n",
    "}\n",
    "gs_rf = GridSearchCV(rf, param_grid=params) # Instantiate teh gridsearch\n",
    "gs_rf.fit(combined_X_train, y_train) # Fit the model\n",
    "print(gs_rf.best_score_) # Get best score\n",
    "gs_rf.best_params_       # Get best parameters"
   ]
  },
  {
   "cell_type": "code",
   "execution_count": 323,
   "metadata": {},
   "outputs": [
    {
     "name": "stdout",
     "output_type": "stream",
     "text": [
      "Train accuracy = 0.9973226238286479\n",
      "Test accuracy = 0.7334669338677354\n",
      "Specificity = 0.7188755020080321\n",
      "Recall = 0.748\n"
     ]
    }
   ],
   "source": [
    "# Score model on training set.\n",
    "print(f'Train accuracy = {gs_rf.score(combined_X_train, y_train)}')\n",
    "# Score model on testing set.\n",
    "print(f'Test accuracy = {gs_rf.score(combined_X_test, y_test)}')\n",
    "# Get predictions\n",
    "preds = gs_rf.predict(combined_X_test)\n",
    "# Save confusion matrix values\n",
    "tn, fp, fn, tp = confusion_matrix(y_test, preds).ravel()\n",
    "# Calculate the specificity\n",
    "print(f'Specificity = {tn / (tn + fp)}')\n",
    "# Calculate the recall\n",
    "print(f'Recall = {tp / (tp + fn)}')"
   ]
  },
  {
   "cell_type": "code",
   "execution_count": 324,
   "metadata": {},
   "outputs": [
    {
     "name": "stdout",
     "output_type": "stream",
     "text": [
      "0.7483356153621692\n"
     ]
    },
    {
     "data": {
      "text/plain": [
       "{'max_depth': None, 'max_features': 'auto', 'n_estimators': 75}"
      ]
     },
     "execution_count": 324,
     "metadata": {},
     "output_type": "execute_result"
    }
   ],
   "source": [
    "# Run Extra Trees CV - all steps combined\n",
    "et = ExtraTreesClassifier(random_state=42)\n",
    "params = {\n",
    "    'n_estimators': [75, 100, 125], \n",
    "    'max_depth': [None, 3, 4],\n",
    "    'max_features': ['auto', None]\n",
    "}\n",
    "gs_et = GridSearchCV(et, param_grid=params)\n",
    "gs_et.fit(combined_X_train, y_train)\n",
    "print(gs_et.best_score_)\n",
    "gs_et.best_params_"
   ]
  },
  {
   "cell_type": "code",
   "execution_count": 327,
   "metadata": {},
   "outputs": [
    {
     "name": "stdout",
     "output_type": "stream",
     "text": [
      "Train accuracy = 0.9973226238286479\n",
      "Test accuracy = 0.751503006012024\n",
      "Specificity = 0.6987951807228916\n",
      "Recall = 0.804\n"
     ]
    }
   ],
   "source": [
    "# Score model on training set.\n",
    "print(f'Train accuracy = {gs_et.score(combined_X_train, y_train)}')\n",
    "# Score model on testing set.\n",
    "print(f'Test accuracy = {gs_et.score(combined_X_test, y_test)}')\n",
    "# Get predictions\n",
    "preds = gs_et.predict(combined_X_test)\n",
    "# Save confusion matrix values\n",
    "tn, fp, fn, tp = confusion_matrix(y_test, preds).ravel()\n",
    "# Calculate the specificity\n",
    "print(f'Specificity = {tn / (tn + fp)}')\n",
    "# Calculate the recall\n",
    "print(f'Recall = {tp / (tp + fn)}')"
   ]
  },
  {
   "cell_type": "markdown",
   "metadata": {},
   "source": [
    "### Model #6-8 - bagging, adaboost, and gradient boost with decision trees, TFIDF, sentiment/word count data"
   ]
  },
  {
   "cell_type": "code",
   "execution_count": 329,
   "metadata": {},
   "outputs": [
    {
     "name": "stdout",
     "output_type": "stream",
     "text": [
      "Train score:  0.9779116465863453\n",
      "Test score:  0.7034068136272545\n",
      "Specificity = 0.751004016064257\n",
      "Recall = 0.656\n"
     ]
    }
   ],
   "source": [
    "# Run the bagging classifier\n",
    "\n",
    "bc = BaggingClassifier(DecisionTreeClassifier())\n",
    "\n",
    "# Fits on a single test set\n",
    "bc.fit(combined_X_train, y_train)\n",
    "print('Train score: ', bc.score(combined_X_train, y_train))\n",
    "print('Test score: ', bc.score(combined_X_test, y_test))\n",
    "\n",
    "preds = bc.predict(combined_X_test)\n",
    "# Save confusion matrix values\n",
    "tn, fp, fn, tp = confusion_matrix(y_test, preds).ravel()\n",
    "# Calculate the specificity\n",
    "print(f'Specificity = {tn / (tn + fp)}')\n",
    "# Calculate the recall\n",
    "print(f'Recall = {tp / (tp + fn)}')"
   ]
  },
  {
   "cell_type": "code",
   "execution_count": 328,
   "metadata": {},
   "outputs": [
    {
     "name": "stdout",
     "output_type": "stream",
     "text": [
      "Train score:  0.9973226238286479\n",
      "Test score:  0.6613226452905812\n",
      "Specificity = 0.6746987951807228\n",
      "Recall = 0.648\n"
     ]
    }
   ],
   "source": [
    "# Run the AdaBoost Classifier\n",
    "ada = AdaBoostClassifier(DecisionTreeClassifier())\n",
    "\n",
    "ada.fit(combined_X_train, y_train)\n",
    "print('Train score: ', ada.score(combined_X_train, y_train))\n",
    "print('Test score: ', ada.score(combined_X_test, y_test))\n",
    "\n",
    "preds = ada.predict(combined_X_test)\n",
    "# Save confusion matrix values\n",
    "tn, fp, fn, tp = confusion_matrix(y_test, preds).ravel()\n",
    "# Calculate the specificity\n",
    "print(f'Specificity = {tn / (tn + fp)}')\n",
    "# Calculate the recall\n",
    "print(f'Recall = {tp / (tp + fn)}')"
   ]
  },
  {
   "cell_type": "code",
   "execution_count": 337,
   "metadata": {},
   "outputs": [],
   "source": [
    "# Get the most important features from adaboost\n",
    "imp_list = gs_ada.best_estimator_.feature_importances_"
   ]
  },
  {
   "cell_type": "code",
   "execution_count": 338,
   "metadata": {},
   "outputs": [],
   "source": [
    "# Get the column names from the training features\n",
    "col_names = combined_X_train.columns"
   ]
  },
  {
   "cell_type": "code",
   "execution_count": 339,
   "metadata": {},
   "outputs": [],
   "source": [
    "# Get the importance scores\n",
    "imp = pd.DataFrame(imp_list, index=col_names, columns=['feat imp'])"
   ]
  },
  {
   "cell_type": "code",
   "execution_count": 359,
   "metadata": {},
   "outputs": [
    {
     "data": {
      "image/png": "[encoded data removed]",
      "text/plain": [
       "<Figure size 504x504 with 1 Axes>"
      ]
     },
     "metadata": {
      "needs_background": "light"
     },
     "output_type": "display_data"
    }
   ],
   "source": [
    "# Plot the importance scores for the most important features\n",
    "imp.sort_values('feat imp', ascending = False).head(25).plot(kind= 'barh', color = 'red', alpha = 0.7, figsize = (7,7))\n",
    "#plt.yticks(rotation = 70)\n",
    "plt.xlabel('Coefficient')\n",
    "plt.title('Words with Highest Importance Score from Ada Boost')\n",
    "plt.savefig(\"./figs/importance_scores.png\")"
   ]
  },
  {
   "cell_type": "code",
   "execution_count": 336,
   "metadata": {},
   "outputs": [
    {
     "name": "stdout",
     "output_type": "stream",
     "text": [
      "0.7235810239279723\n"
     ]
    },
    {
     "data": {
      "text/plain": [
       "{'learning_rate': 0.12, 'max_depth': 3, 'n_estimators': 150}"
      ]
     },
     "execution_count": 336,
     "metadata": {},
     "output_type": "execute_result"
    }
   ],
   "source": [
    "# Run the GradientBoost Classifier\n",
    "gboost = GradientBoostingClassifier()\n",
    "gboost_params = {\n",
    "    'max_depth': [2,3,4],\n",
    "    'n_estimators': [100, 125, 150],\n",
    "    'learning_rate': [.08, .1, .12]\n",
    "}\n",
    "gb_gs = GridSearchCV(gboost, param_grid=gboost_params, cv=4)\n",
    "gb_gs.fit(combined_X_train, y_train)\n",
    "print(gb_gs.best_score_)\n",
    "gb_gs.best_params_"
   ]
  },
  {
   "cell_type": "code",
   "execution_count": 340,
   "metadata": {},
   "outputs": [
    {
     "name": "stdout",
     "output_type": "stream",
     "text": [
      "Train score:  0.9176706827309237\n",
      "Test score:  0.7835671342685371\n",
      "Specificity = 0.8112449799196787\n",
      "Recall = 0.756\n"
     ]
    }
   ],
   "source": [
    "print('Train score: ', gb_gs.score(combined_X_train, y_train))\n",
    "print('Test score: ', gb_gs.score(combined_X_test, y_test))\n",
    "preds = gb_gs.predict(combined_X_test)\n",
    "# Save confusion matrix values\n",
    "tn, fp, fn, tp = confusion_matrix(y_test, preds).ravel()\n",
    "# Calculate the specificity\n",
    "print(f'Specificity = {tn / (tn + fp)}')\n",
    "# Calculate the recall\n",
    "print(f'Recall = {tp / (tp + fn)}')"
   ]
  },
  {
   "cell_type": "markdown",
   "metadata": {},
   "source": [
    "### Model 9 - voting classifier using the best params from Extra Trees, AdaBoost, and Gradient Boost models"
   ]
  },
  {
   "cell_type": "code",
   "execution_count": 470,
   "metadata": {},
   "outputs": [
    {
     "name": "stdout",
     "output_type": "stream",
     "text": [
      "0.7288609364081062\n"
     ]
    },
    {
     "data": {
      "text/plain": [
       "{'ada__learning_rate': 0.1,\n",
       " 'ada__n_estimators': 100,\n",
       " 'gb__learning_rate': 0.12,\n",
       " 'gb__max_depth': 4,\n",
       " 'gb__n_estimators': 125,\n",
       " 'tree__max_depth': None,\n",
       " 'tree__max_features': 'auto',\n",
       " 'tree__n_estimators': 125}"
      ]
     },
     "execution_count": 470,
     "metadata": {},
     "output_type": "execute_result"
    }
   ],
   "source": [
    "vote = VotingClassifier([\n",
    "    ('tree', ExtraTreesClassifier()),\n",
    "    ('ada', AdaBoostClassifier()),\n",
    "    ('gb', GradientBoostingClassifier())\n",
    "])\n",
    "vote_params = {\n",
    "    'tree__max_depth': [None],\n",
    "    'tree__max_features': ['auto'],\n",
    "    'tree__n_estimators': [125],\n",
    "    #'ada__base_estimator__max_depth': [2],\n",
    "    'ada__learning_rate': [0.1],\n",
    "    'ada__n_estimators': [100],\n",
    "    'gb__learning_rate': [.12],\n",
    "    'gb__max_depth': [4],\n",
    "    'gb__n_estimators': [125]\n",
    "}\n",
    "gs_vote = GridSearchCV(vote, param_grid=vote_params, cv=3)\n",
    "gs_vote.fit(combined_X_train, y_train)\n",
    "print(gs_vote.best_score_)\n",
    "gs_vote.best_params_"
   ]
  },
  {
   "cell_type": "code",
   "execution_count": 416,
   "metadata": {},
   "outputs": [],
   "source": [
    "# Get predictions\n",
    "preds = gs_vote.predict(combined_X_test)\n",
    "\n",
    "# Save confusion matrix values\n",
    "tn, fp, fn, tp = confusion_matrix(y_test, preds).ravel()\n"
   ]
  },
  {
   "cell_type": "code",
   "execution_count": 417,
   "metadata": {},
   "outputs": [
    {
     "data": {
      "image/png": "[encoded data removed]",
      "text/plain": [
       "<Figure size 432x288 with 2 Axes>"
      ]
     },
     "metadata": {
      "needs_background": "light"
     },
     "output_type": "display_data"
    }
   ],
   "source": [
    "# View confusion matrix\n",
    "plot_confusion_matrix(gs_vote, combined_X_test, y_test, cmap='Reds', values_format='d')\n",
    "plt.title(\"Confusion Matrix for Voting Classifier\")\n",
    "plt.savefig(\"./figs/confusion_matrix.png\");"
   ]
  },
  {
   "cell_type": "code",
   "execution_count": 418,
   "metadata": {},
   "outputs": [
    {
     "data": {
      "text/plain": [
       "0.7735042735042735"
      ]
     },
     "execution_count": 418,
     "metadata": {},
     "output_type": "execute_result"
    }
   ],
   "source": [
    "# Calculate the specificity\n",
    "tn / (tn + fp) # there are 5 real emails that got tagged as spam - that's bad! can we bring this to 0?"
   ]
  },
  {
   "cell_type": "code",
   "execution_count": 354,
   "metadata": {},
   "outputs": [
    {
     "name": "stdout",
     "output_type": "stream",
     "text": [
      "Train score:  0.9323962516733602\n",
      "Test score:  0.779559118236473\n",
      "Specificity = 0.8072289156626506\n",
      "Recall = 0.752\n",
      "Precision = 0.7966101694915254\n"
     ]
    }
   ],
   "source": [
    "print('Train score: ', gs_vote.score(combined_X_train, y_train))\n",
    "print('Test score: ', gs_vote.score(combined_X_test, y_test))\n",
    "preds = gs_vote.predict(combined_X_test)\n",
    "# Save confusion matrix values\n",
    "tn, fp, fn, tp = confusion_matrix(y_test, preds).ravel()\n",
    "# Calculate the specificity\n",
    "print(f'Specificity = {tn / (tn + fp)}')\n",
    "# Calculate the recall\n",
    "print(f'Recall = {tp / (tp + fn)}')\n",
    "print(f'Precision = {tp / (tp + fp)}')"
   ]
  },
  {
   "cell_type": "markdown",
   "metadata": {},
   "source": [
    "# Explore misclassified text"
   ]
  },
  {
   "cell_type": "code",
   "execution_count": 360,
   "metadata": {},
   "outputs": [],
   "source": [
    "# Create a copy of the test set\n",
    "pred_df = X_test.copy()\n"
   ]
  },
  {
   "cell_type": "code",
   "execution_count": 361,
   "metadata": {},
   "outputs": [],
   "source": [
    "# Convert y_test to a numpy array\n",
    "y_np = y_test.to_numpy()"
   ]
  },
  {
   "cell_type": "code",
   "execution_count": 362,
   "metadata": {},
   "outputs": [],
   "source": [
    "# Add y_test as the target variable\n",
    "pred_df['target'] = y_np"
   ]
  },
  {
   "cell_type": "code",
   "execution_count": 363,
   "metadata": {},
   "outputs": [],
   "source": [
    "# Add in the predictions from our model\n",
    "pred_df['predictions'] = preds"
   ]
  },
  {
   "cell_type": "code",
   "execution_count": 364,
   "metadata": {},
   "outputs": [
    {
     "data": {
      "text/html": [
       "<div>\n",
       "<style scoped>\n",
       "    .dataframe tbody tr th:only-of-type {\n",
       "        vertical-align: middle;\n",
       "    }\n",
       "\n",
       "    .dataframe tbody tr th {\n",
       "        vertical-align: top;\n",
       "    }\n",
       "\n",
       "    .dataframe thead th {\n",
       "        text-align: right;\n",
       "    }\n",
       "</style>\n",
       "<table border=\"1\" class=\"dataframe\">\n",
       "  <thead>\n",
       "    <tr style=\"text-align: right;\">\n",
       "      <th></th>\n",
       "      <th>features</th>\n",
       "      <th>feature_length</th>\n",
       "      <th>feature_word_count</th>\n",
       "      <th>compound</th>\n",
       "      <th>neg</th>\n",
       "      <th>neu</th>\n",
       "      <th>pos</th>\n",
       "      <th>target</th>\n",
       "      <th>predictions</th>\n",
       "    </tr>\n",
       "  </thead>\n",
       "  <tbody>\n",
       "    <tr>\n",
       "      <th>0</th>\n",
       "      <td>regardless of whether it was necessary what gr...</td>\n",
       "      <td>121</td>\n",
       "      <td>14</td>\n",
       "      <td>0.0000</td>\n",
       "      <td>0.000</td>\n",
       "      <td>1.00</td>\n",
       "      <td>0.000</td>\n",
       "      <td>1</td>\n",
       "      <td>0</td>\n",
       "    </tr>\n",
       "    <tr>\n",
       "      <th>1</th>\n",
       "      <td>incrediblies 2 suffers from very similar seque...</td>\n",
       "      <td>2999</td>\n",
       "      <td>534</td>\n",
       "      <td>0.9923</td>\n",
       "      <td>0.084</td>\n",
       "      <td>0.77</td>\n",
       "      <td>0.147</td>\n",
       "      <td>1</td>\n",
       "      <td>1</td>\n",
       "    </tr>\n",
       "    <tr>\n",
       "      <th>2</th>\n",
       "      <td>perhaps we treated vector prime too harshly</td>\n",
       "      <td>44</td>\n",
       "      <td>7</td>\n",
       "      <td>0.0000</td>\n",
       "      <td>0.000</td>\n",
       "      <td>1.00</td>\n",
       "      <td>0.000</td>\n",
       "      <td>1</td>\n",
       "      <td>0</td>\n",
       "    </tr>\n",
       "    <tr>\n",
       "      <th>3</th>\n",
       "      <td>hmmmmmm</td>\n",
       "      <td>8</td>\n",
       "      <td>1</td>\n",
       "      <td>0.0000</td>\n",
       "      <td>0.000</td>\n",
       "      <td>1.00</td>\n",
       "      <td>0.000</td>\n",
       "      <td>0</td>\n",
       "      <td>0</td>\n",
       "    </tr>\n",
       "    <tr>\n",
       "      <th>4</th>\n",
       "      <td>complete canon timeline of the sequel era</td>\n",
       "      <td>42</td>\n",
       "      <td>7</td>\n",
       "      <td>0.0000</td>\n",
       "      <td>0.000</td>\n",
       "      <td>1.00</td>\n",
       "      <td>0.000</td>\n",
       "      <td>0</td>\n",
       "      <td>0</td>\n",
       "    </tr>\n",
       "  </tbody>\n",
       "</table>\n",
       "</div>"
      ],
      "text/plain": [
       "                                            features  feature_length  \\\n",
       "0  regardless of whether it was necessary what gr...             121   \n",
       "1  incrediblies 2 suffers from very similar seque...            2999   \n",
       "2       perhaps we treated vector prime too harshly               44   \n",
       "3                                           hmmmmmm                8   \n",
       "4         complete canon timeline of the sequel era               42   \n",
       "\n",
       "   feature_word_count  compound    neg   neu    pos  target  predictions  \n",
       "0                  14    0.0000  0.000  1.00  0.000       1            0  \n",
       "1                 534    0.9923  0.084  0.77  0.147       1            1  \n",
       "2                   7    0.0000  0.000  1.00  0.000       1            0  \n",
       "3                   1    0.0000  0.000  1.00  0.000       0            0  \n",
       "4                   7    0.0000  0.000  1.00  0.000       0            0  "
      ]
     },
     "execution_count": 364,
     "metadata": {},
     "output_type": "execute_result"
    }
   ],
   "source": [
    "pred_df.head()"
   ]
  },
  {
   "cell_type": "code",
   "execution_count": 365,
   "metadata": {},
   "outputs": [],
   "source": [
    "# Create a dataframe of the false positives\n",
    "false_pos = pred_df[(pred_df['target'] == 0) & (pred_df['predictions'] == 1)]"
   ]
  },
  {
   "cell_type": "code",
   "execution_count": 377,
   "metadata": {},
   "outputs": [
    {
     "data": {
      "text/html": [
       "<div>\n",
       "<style scoped>\n",
       "    .dataframe tbody tr th:only-of-type {\n",
       "        vertical-align: middle;\n",
       "    }\n",
       "\n",
       "    .dataframe tbody tr th {\n",
       "        vertical-align: top;\n",
       "    }\n",
       "\n",
       "    .dataframe thead th {\n",
       "        text-align: right;\n",
       "    }\n",
       "</style>\n",
       "<table border=\"1\" class=\"dataframe\">\n",
       "  <thead>\n",
       "    <tr style=\"text-align: right;\">\n",
       "      <th></th>\n",
       "      <th>features</th>\n",
       "      <th>feature_length</th>\n",
       "      <th>feature_word_count</th>\n",
       "      <th>compound</th>\n",
       "      <th>neg</th>\n",
       "      <th>neu</th>\n",
       "      <th>pos</th>\n",
       "      <th>target</th>\n",
       "      <th>predictions</th>\n",
       "    </tr>\n",
       "  </thead>\n",
       "  <tbody>\n",
       "    <tr>\n",
       "      <th>24</th>\n",
       "      <td>don’t know if this is allowed here so please t...</td>\n",
       "      <td>6477</td>\n",
       "      <td>1082</td>\n",
       "      <td>-0.9873</td>\n",
       "      <td>0.089</td>\n",
       "      <td>0.849</td>\n",
       "      <td>0.062</td>\n",
       "      <td>0</td>\n",
       "      <td>1</td>\n",
       "    </tr>\n",
       "    <tr>\n",
       "      <th>31</th>\n",
       "      <td>friendly reminder</td>\n",
       "      <td>18</td>\n",
       "      <td>2</td>\n",
       "      <td>0.4939</td>\n",
       "      <td>0.000</td>\n",
       "      <td>0.238</td>\n",
       "      <td>0.762</td>\n",
       "      <td>0</td>\n",
       "      <td>1</td>\n",
       "    </tr>\n",
       "    <tr>\n",
       "      <th>32</th>\n",
       "      <td>an autumn baby hbd mark hamill</td>\n",
       "      <td>35</td>\n",
       "      <td>6</td>\n",
       "      <td>0.0000</td>\n",
       "      <td>0.000</td>\n",
       "      <td>1.000</td>\n",
       "      <td>0.000</td>\n",
       "      <td>0</td>\n",
       "      <td>1</td>\n",
       "    </tr>\n",
       "    <tr>\n",
       "      <th>39</th>\n",
       "      <td>interesting that the uproar over whether or no...</td>\n",
       "      <td>237</td>\n",
       "      <td>40</td>\n",
       "      <td>0.2023</td>\n",
       "      <td>0.086</td>\n",
       "      <td>0.788</td>\n",
       "      <td>0.126</td>\n",
       "      <td>0</td>\n",
       "      <td>1</td>\n",
       "    </tr>\n",
       "    <tr>\n",
       "      <th>42</th>\n",
       "      <td>i dont want to see a star wars movie i want to...</td>\n",
       "      <td>1033</td>\n",
       "      <td>187</td>\n",
       "      <td>-0.8409</td>\n",
       "      <td>0.146</td>\n",
       "      <td>0.768</td>\n",
       "      <td>0.086</td>\n",
       "      <td>0</td>\n",
       "      <td>1</td>\n",
       "    </tr>\n",
       "    <tr>\n",
       "      <th>53</th>\n",
       "      <td>live fight another day boys live to fight anot...</td>\n",
       "      <td>57</td>\n",
       "      <td>10</td>\n",
       "      <td>-0.6369</td>\n",
       "      <td>0.394</td>\n",
       "      <td>0.606</td>\n",
       "      <td>0.000</td>\n",
       "      <td>0</td>\n",
       "      <td>1</td>\n",
       "    </tr>\n",
       "    <tr>\n",
       "      <th>68</th>\n",
       "      <td>at st goals</td>\n",
       "      <td>12</td>\n",
       "      <td>3</td>\n",
       "      <td>0.0000</td>\n",
       "      <td>0.000</td>\n",
       "      <td>1.000</td>\n",
       "      <td>0.000</td>\n",
       "      <td>0</td>\n",
       "      <td>1</td>\n",
       "    </tr>\n",
       "    <tr>\n",
       "      <th>84</th>\n",
       "      <td>about the sequel trilogy</td>\n",
       "      <td>26</td>\n",
       "      <td>4</td>\n",
       "      <td>0.0000</td>\n",
       "      <td>0.000</td>\n",
       "      <td>1.000</td>\n",
       "      <td>0.000</td>\n",
       "      <td>0</td>\n",
       "      <td>1</td>\n",
       "    </tr>\n",
       "    <tr>\n",
       "      <th>89</th>\n",
       "      <td>dude</td>\n",
       "      <td>5</td>\n",
       "      <td>1</td>\n",
       "      <td>0.0000</td>\n",
       "      <td>0.000</td>\n",
       "      <td>1.000</td>\n",
       "      <td>0.000</td>\n",
       "      <td>0</td>\n",
       "      <td>1</td>\n",
       "    </tr>\n",
       "    <tr>\n",
       "      <th>96</th>\n",
       "      <td>cantina patrons i humbly present to you the st...</td>\n",
       "      <td>10078</td>\n",
       "      <td>1841</td>\n",
       "      <td>-0.7289</td>\n",
       "      <td>0.070</td>\n",
       "      <td>0.855</td>\n",
       "      <td>0.075</td>\n",
       "      <td>0</td>\n",
       "      <td>1</td>\n",
       "    </tr>\n",
       "  </tbody>\n",
       "</table>\n",
       "</div>"
      ],
      "text/plain": [
       "                                             features  feature_length  \\\n",
       "24  don’t know if this is allowed here so please t...            6477   \n",
       "31                                 friendly reminder               18   \n",
       "32                    an autumn baby hbd mark hamill               35   \n",
       "39  interesting that the uproar over whether or no...             237   \n",
       "42  i dont want to see a star wars movie i want to...            1033   \n",
       "53  live fight another day boys live to fight anot...              57   \n",
       "68                                       at st goals               12   \n",
       "84                          about the sequel trilogy               26   \n",
       "89                                              dude                5   \n",
       "96  cantina patrons i humbly present to you the st...           10078   \n",
       "\n",
       "    feature_word_count  compound    neg    neu    pos  target  predictions  \n",
       "24                1082   -0.9873  0.089  0.849  0.062       0            1  \n",
       "31                   2    0.4939  0.000  0.238  0.762       0            1  \n",
       "32                   6    0.0000  0.000  1.000  0.000       0            1  \n",
       "39                  40    0.2023  0.086  0.788  0.126       0            1  \n",
       "42                 187   -0.8409  0.146  0.768  0.086       0            1  \n",
       "53                  10   -0.6369  0.394  0.606  0.000       0            1  \n",
       "68                   3    0.0000  0.000  1.000  0.000       0            1  \n",
       "84                   4    0.0000  0.000  1.000  0.000       0            1  \n",
       "89                   1    0.0000  0.000  1.000  0.000       0            1  \n",
       "96                1841   -0.7289  0.070  0.855  0.075       0            1  "
      ]
     },
     "execution_count": 377,
     "metadata": {},
     "output_type": "execute_result"
    }
   ],
   "source": [
    "false_pos.head(10)"
   ]
  },
  {
   "cell_type": "code",
   "execution_count": 373,
   "metadata": {},
   "outputs": [],
   "source": [
    "# Create a dataframe with our false negatives\n",
    "false_neg = pred_df[(pred_df['target'] == 1) & (pred_df['predictions'] == 0)]"
   ]
  },
  {
   "cell_type": "code",
   "execution_count": 375,
   "metadata": {},
   "outputs": [
    {
     "data": {
      "text/html": [
       "<div>\n",
       "<style scoped>\n",
       "    .dataframe tbody tr th:only-of-type {\n",
       "        vertical-align: middle;\n",
       "    }\n",
       "\n",
       "    .dataframe tbody tr th {\n",
       "        vertical-align: top;\n",
       "    }\n",
       "\n",
       "    .dataframe thead th {\n",
       "        text-align: right;\n",
       "    }\n",
       "</style>\n",
       "<table border=\"1\" class=\"dataframe\">\n",
       "  <thead>\n",
       "    <tr style=\"text-align: right;\">\n",
       "      <th></th>\n",
       "      <th>features</th>\n",
       "      <th>feature_length</th>\n",
       "      <th>feature_word_count</th>\n",
       "      <th>compound</th>\n",
       "      <th>neg</th>\n",
       "      <th>neu</th>\n",
       "      <th>pos</th>\n",
       "      <th>target</th>\n",
       "      <th>predictions</th>\n",
       "    </tr>\n",
       "  </thead>\n",
       "  <tbody>\n",
       "    <tr>\n",
       "      <th>0</th>\n",
       "      <td>regardless of whether it was necessary what gr...</td>\n",
       "      <td>121</td>\n",
       "      <td>14</td>\n",
       "      <td>0.0000</td>\n",
       "      <td>0.000</td>\n",
       "      <td>1.000</td>\n",
       "      <td>0.000</td>\n",
       "      <td>1</td>\n",
       "      <td>0</td>\n",
       "    </tr>\n",
       "    <tr>\n",
       "      <th>2</th>\n",
       "      <td>perhaps we treated vector prime too harshly</td>\n",
       "      <td>44</td>\n",
       "      <td>7</td>\n",
       "      <td>0.0000</td>\n",
       "      <td>0.000</td>\n",
       "      <td>1.000</td>\n",
       "      <td>0.000</td>\n",
       "      <td>1</td>\n",
       "      <td>0</td>\n",
       "    </tr>\n",
       "    <tr>\n",
       "      <th>13</th>\n",
       "      <td>ahmed best sharing some black jedi love today ...</td>\n",
       "      <td>76</td>\n",
       "      <td>13</td>\n",
       "      <td>0.9538</td>\n",
       "      <td>0.000</td>\n",
       "      <td>0.316</td>\n",
       "      <td>0.684</td>\n",
       "      <td>1</td>\n",
       "      <td>0</td>\n",
       "    </tr>\n",
       "    <tr>\n",
       "      <th>23</th>\n",
       "      <td>somebody please explain why lasers in space no...</td>\n",
       "      <td>78</td>\n",
       "      <td>12</td>\n",
       "      <td>0.3182</td>\n",
       "      <td>0.000</td>\n",
       "      <td>0.827</td>\n",
       "      <td>0.173</td>\n",
       "      <td>1</td>\n",
       "      <td>0</td>\n",
       "    </tr>\n",
       "    <tr>\n",
       "      <th>50</th>\n",
       "      <td>do you believe that george lucas himself holds...</td>\n",
       "      <td>154</td>\n",
       "      <td>20</td>\n",
       "      <td>-0.8074</td>\n",
       "      <td>0.338</td>\n",
       "      <td>0.595</td>\n",
       "      <td>0.067</td>\n",
       "      <td>1</td>\n",
       "      <td>0</td>\n",
       "    </tr>\n",
       "    <tr>\n",
       "      <th>55</th>\n",
       "      <td>an illustrated tour of john boyegas journey to...</td>\n",
       "      <td>80</td>\n",
       "      <td>13</td>\n",
       "      <td>0.0000</td>\n",
       "      <td>0.000</td>\n",
       "      <td>1.000</td>\n",
       "      <td>0.000</td>\n",
       "      <td>1</td>\n",
       "      <td>0</td>\n",
       "    </tr>\n",
       "    <tr>\n",
       "      <th>57</th>\n",
       "      <td>serious question has any other star wars chara...</td>\n",
       "      <td>408</td>\n",
       "      <td>71</td>\n",
       "      <td>-0.4570</td>\n",
       "      <td>0.056</td>\n",
       "      <td>0.944</td>\n",
       "      <td>0.000</td>\n",
       "      <td>1</td>\n",
       "      <td>0</td>\n",
       "    </tr>\n",
       "    <tr>\n",
       "      <th>59</th>\n",
       "      <td>now this is the episode ix that everyone would...</td>\n",
       "      <td>58</td>\n",
       "      <td>11</td>\n",
       "      <td>0.5994</td>\n",
       "      <td>0.000</td>\n",
       "      <td>0.719</td>\n",
       "      <td>0.281</td>\n",
       "      <td>1</td>\n",
       "      <td>0</td>\n",
       "    </tr>\n",
       "    <tr>\n",
       "      <th>73</th>\n",
       "      <td>lets be honest the reason this community was m...</td>\n",
       "      <td>184</td>\n",
       "      <td>35</td>\n",
       "      <td>0.5466</td>\n",
       "      <td>0.078</td>\n",
       "      <td>0.761</td>\n",
       "      <td>0.162</td>\n",
       "      <td>1</td>\n",
       "      <td>0</td>\n",
       "    </tr>\n",
       "    <tr>\n",
       "      <th>74</th>\n",
       "      <td>watching a node video during their soap box de...</td>\n",
       "      <td>159</td>\n",
       "      <td>30</td>\n",
       "      <td>0.0000</td>\n",
       "      <td>0.000</td>\n",
       "      <td>1.000</td>\n",
       "      <td>0.000</td>\n",
       "      <td>1</td>\n",
       "      <td>0</td>\n",
       "    </tr>\n",
       "  </tbody>\n",
       "</table>\n",
       "</div>"
      ],
      "text/plain": [
       "                                             features  feature_length  \\\n",
       "0   regardless of whether it was necessary what gr...             121   \n",
       "2        perhaps we treated vector prime too harshly               44   \n",
       "13  ahmed best sharing some black jedi love today ...              76   \n",
       "23  somebody please explain why lasers in space no...              78   \n",
       "50  do you believe that george lucas himself holds...             154   \n",
       "55  an illustrated tour of john boyegas journey to...              80   \n",
       "57  serious question has any other star wars chara...             408   \n",
       "59  now this is the episode ix that everyone would...              58   \n",
       "73  lets be honest the reason this community was m...             184   \n",
       "74  watching a node video during their soap box de...             159   \n",
       "\n",
       "    feature_word_count  compound    neg    neu    pos  target  predictions  \n",
       "0                   14    0.0000  0.000  1.000  0.000       1            0  \n",
       "2                    7    0.0000  0.000  1.000  0.000       1            0  \n",
       "13                  13    0.9538  0.000  0.316  0.684       1            0  \n",
       "23                  12    0.3182  0.000  0.827  0.173       1            0  \n",
       "50                  20   -0.8074  0.338  0.595  0.067       1            0  \n",
       "55                  13    0.0000  0.000  1.000  0.000       1            0  \n",
       "57                  71   -0.4570  0.056  0.944  0.000       1            0  \n",
       "59                  11    0.5994  0.000  0.719  0.281       1            0  \n",
       "73                  35    0.5466  0.078  0.761  0.162       1            0  \n",
       "74                  30    0.0000  0.000  1.000  0.000       1            0  "
      ]
     },
     "execution_count": 375,
     "metadata": {},
     "output_type": "execute_result"
    }
   ],
   "source": [
    "false_neg.head(10)"
   ]
  },
  {
   "cell_type": "code",
   "execution_count": 472,
   "metadata": {},
   "outputs": [],
   "source": [
    "# Save the false positives and false negatives to csv to explore\n",
    "false_pos.to_csv('./data/false_pos.csv')"
   ]
  },
  {
   "cell_type": "code",
   "execution_count": 473,
   "metadata": {},
   "outputs": [],
   "source": [
    "false_neg.to_csv('./data/false_neg.csv')"
   ]
  }
 ],
 "metadata": {
  "kernelspec": {
   "display_name": "Python 3",
   "language": "python",
   "name": "python3"
  },
  "language_info": {
   "codemirror_mode": {
    "name": "ipython",
    "version": 3
   },
   "file_extension": ".py",
   "mimetype": "text/x-python",
   "name": "python",
   "nbconvert_exporter": "python",
   "pygments_lexer": "ipython3",
   "version": "3.8.5"
  }
 },
 "nbformat": 4,
 "nbformat_minor": 4
}
