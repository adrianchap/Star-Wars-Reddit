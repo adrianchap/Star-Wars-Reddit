{
 "cells": [
  {
   "cell_type": "code",
   "execution_count": 1,
   "metadata": {
    "scrolled": true
   },
   "outputs": [
    {
     "name": "stdout",
     "output_type": "stream",
     "text": [
      "Collecting praw\n",
      "  Downloading praw-7.1.0-py3-none-any.whl (152 kB)\n",
      "\u001b[K     |████████████████████████████████| 152 kB 2.1 MB/s eta 0:00:01\n",
      "\u001b[?25hCollecting prawcore<2.0,>=1.3.0\n",
      "  Downloading prawcore-1.5.0-py3-none-any.whl (15 kB)\n",
      "Collecting update-checker>=0.17\n",
      "  Downloading update_checker-0.18.0-py3-none-any.whl (7.0 kB)\n",
      "Collecting websocket-client>=0.54.0\n",
      "  Downloading websocket_client-0.57.0-py2.py3-none-any.whl (200 kB)\n",
      "\u001b[K     |████████████████████████████████| 200 kB 10.9 MB/s eta 0:00:01\n",
      "\u001b[?25hRequirement already satisfied: requests<3.0,>=2.6.0 in /Users/adrianchapman/Dev/virtualenvs/py3/lib/python3.8/site-packages (from prawcore<2.0,>=1.3.0->praw) (2.24.0)\n",
      "Requirement already satisfied: six in /Users/adrianchapman/Dev/virtualenvs/py3/lib/python3.8/site-packages (from websocket-client>=0.54.0->praw) (1.15.0)\n",
      "Requirement already satisfied: chardet<4,>=3.0.2 in /Users/adrianchapman/Dev/virtualenvs/py3/lib/python3.8/site-packages (from requests<3.0,>=2.6.0->prawcore<2.0,>=1.3.0->praw) (3.0.4)\n",
      "Requirement already satisfied: idna<3,>=2.5 in /Users/adrianchapman/Dev/virtualenvs/py3/lib/python3.8/site-packages (from requests<3.0,>=2.6.0->prawcore<2.0,>=1.3.0->praw) (2.10)\n",
      "Requirement already satisfied: certifi>=2017.4.17 in /Users/adrianchapman/Dev/virtualenvs/py3/lib/python3.8/site-packages (from requests<3.0,>=2.6.0->prawcore<2.0,>=1.3.0->praw) (2020.6.20)\n",
      "Requirement already satisfied: urllib3!=1.25.0,!=1.25.1,<1.26,>=1.21.1 in /Users/adrianchapman/Dev/virtualenvs/py3/lib/python3.8/site-packages (from requests<3.0,>=2.6.0->prawcore<2.0,>=1.3.0->praw) (1.25.10)\n",
      "Installing collected packages: prawcore, update-checker, websocket-client, praw\n",
      "Successfully installed praw-7.1.0 prawcore-1.5.0 update-checker-0.18.0 websocket-client-0.57.0\n"
     ]
    }
   ],
   "source": [
    "!pip install praw"
   ]
  },
  {
   "cell_type": "code",
   "execution_count": 2,
   "metadata": {},
   "outputs": [],
   "source": [
    "import praw\n",
    "import pandas as pd"
   ]
  },
  {
   "cell_type": "markdown",
   "metadata": {},
   "source": [
    "# Getting the data from Reddit"
   ]
  },
  {
   "cell_type": "code",
   "execution_count": 3,
   "metadata": {},
   "outputs": [],
   "source": [
    "# Note that the majority of the code in this notebook comes from Heather's walkthrough from 10/13\n",
    "# Store credentials\n",
    "\n",
    "reddit = praw.Reddit(client_id = 'gCtE4Dwt93exGQ',     #this is that personal use script key\n",
    "                     client_secret = 'DCi1-Mqv3cYh31leaVx3ylkm1Bs', #this is that secret key\n",
    "                     user_agent = 'dsi_app',    #Whatever name you gave your application\n",
    "                     username = 'adrianchap',      #your Reddit user name\n",
    "                     password = 'zKMXE8Tp')      #your Reddit password"
   ]
  },
  {
   "cell_type": "code",
   "execution_count": 4,
   "metadata": {},
   "outputs": [],
   "source": [
    "# Specify the subreddits \n",
    "subreddit = reddit.subreddit('saltierthancrait')    #set to variable name, pick the name of a subreddit"
   ]
  },
  {
   "cell_type": "code",
   "execution_count": 5,
   "metadata": {},
   "outputs": [],
   "source": [
    "altsubreddit = reddit.subreddit('StarWarsCantina')"
   ]
  },
  {
   "cell_type": "code",
   "execution_count": 6,
   "metadata": {},
   "outputs": [],
   "source": [
    "subreddit_new = subreddit.new(limit = 1000)"
   ]
  },
  {
   "cell_type": "code",
   "execution_count": 7,
   "metadata": {},
   "outputs": [],
   "source": [
    "subreddit_new_2 = altsubreddit.new(limit = 1000)"
   ]
  },
  {
   "cell_type": "code",
   "execution_count": 8,
   "metadata": {},
   "outputs": [],
   "source": [
    "# Create a topics dictionary\n",
    "\n",
    "topics_dict = { \"title\":[],\n",
    "                \"score\":[],\n",
    "                \"id\":[],\n",
    "                \"url\":[], \n",
    "                \"comms_num\": [],\n",
    "                \"created\": [],\n",
    "                \"body\":[]}\n",
    "\n",
    "#Use a for loop to take the posts gathered by the wrapper and place them into a dictionary.\n",
    "\n",
    "for item in subreddit_new:\n",
    "    topics_dict[\"title\"].append(item.title)\n",
    "    topics_dict[\"score\"].append(item.score)\n",
    "    topics_dict[\"id\"].append(item.id)\n",
    "    topics_dict[\"url\"].append(item.url)\n",
    "    topics_dict[\"comms_num\"].append(item.num_comments)\n",
    "    topics_dict[\"created\"].append(item.created)\n",
    "    topics_dict[\"body\"].append(item.selftext)"
   ]
  },
  {
   "cell_type": "code",
   "execution_count": 11,
   "metadata": {},
   "outputs": [],
   "source": [
    "# Create topics dictionary for 2nd subreddit\n",
    "\n",
    "topics_dict2 = { \"title\":[],\n",
    "                \"score\":[],\n",
    "                \"id\":[],\n",
    "                \"url\":[], \n",
    "                \"comms_num\": [],\n",
    "                \"created\": [],\n",
    "                \"body\":[]}\n",
    "\n",
    "#Use a for loop to take the posts gathered by the wrapper and place them into a dictionary.\n",
    "\n",
    "for item in subreddit_new_2:\n",
    "    topics_dict2[\"title\"].append(item.title)\n",
    "    topics_dict2[\"score\"].append(item.score)\n",
    "    topics_dict2[\"id\"].append(item.id)\n",
    "    topics_dict2[\"url\"].append(item.url)\n",
    "    topics_dict2[\"comms_num\"].append(item.num_comments)\n",
    "    topics_dict2[\"created\"].append(item.created)\n",
    "    topics_dict2[\"body\"].append(item.selftext)"
   ]
  },
  {
   "cell_type": "code",
   "execution_count": 15,
   "metadata": {
    "scrolled": true
   },
   "outputs": [
    {
     "data": {
      "text/html": [
       "<div>\n",
       "<style scoped>\n",
       "    .dataframe tbody tr th:only-of-type {\n",
       "        vertical-align: middle;\n",
       "    }\n",
       "\n",
       "    .dataframe tbody tr th {\n",
       "        vertical-align: top;\n",
       "    }\n",
       "\n",
       "    .dataframe thead th {\n",
       "        text-align: right;\n",
       "    }\n",
       "</style>\n",
       "<table border=\"1\" class=\"dataframe\">\n",
       "  <thead>\n",
       "    <tr style=\"text-align: right;\">\n",
       "      <th></th>\n",
       "      <th>title</th>\n",
       "      <th>score</th>\n",
       "      <th>id</th>\n",
       "      <th>url</th>\n",
       "      <th>comms_num</th>\n",
       "      <th>created</th>\n",
       "      <th>body</th>\n",
       "    </tr>\n",
       "  </thead>\n",
       "  <tbody>\n",
       "    <tr>\n",
       "      <th>0</th>\n",
       "      <td>When exactly did this whole Force dyad between...</td>\n",
       "      <td>5</td>\n",
       "      <td>jakk3z</td>\n",
       "      <td>https://www.reddit.com/r/saltierthancrait/comm...</td>\n",
       "      <td>9</td>\n",
       "      <td>1.602646e+09</td>\n",
       "      <td></td>\n",
       "    </tr>\n",
       "    <tr>\n",
       "      <th>1</th>\n",
       "      <td>Hol up, can you even jam speeders?</td>\n",
       "      <td>5</td>\n",
       "      <td>jaj49d</td>\n",
       "      <td>https://www.reddit.com/r/saltierthancrait/comm...</td>\n",
       "      <td>10</td>\n",
       "      <td>1.602642e+09</td>\n",
       "      <td>Just thinking about that scene and how massive...</td>\n",
       "    </tr>\n",
       "    <tr>\n",
       "      <th>2</th>\n",
       "      <td>Remember in Battlefront 2 (newer one) when you...</td>\n",
       "      <td>86</td>\n",
       "      <td>jah2m7</td>\n",
       "      <td>https://www.reddit.com/r/saltierthancrait/comm...</td>\n",
       "      <td>13</td>\n",
       "      <td>1.602636e+09</td>\n",
       "      <td>Because The Rise of Skywalker doesn't seem to</td>\n",
       "    </tr>\n",
       "    <tr>\n",
       "      <th>3</th>\n",
       "      <td>Just a friendly reminder of how badly Star War...</td>\n",
       "      <td>324</td>\n",
       "      <td>jah1uf</td>\n",
       "      <td>https://i.redd.it/nlzsftux3ws51.png</td>\n",
       "      <td>45</td>\n",
       "      <td>1.602636e+09</td>\n",
       "      <td></td>\n",
       "    </tr>\n",
       "    <tr>\n",
       "      <th>4</th>\n",
       "      <td>Dark Empire Episode 1: The Destiny of a Jedi (...</td>\n",
       "      <td>5</td>\n",
       "      <td>jaflwe</td>\n",
       "      <td>https://www.youtube.com/watch?v=lADCO-Ar76U</td>\n",
       "      <td>2</td>\n",
       "      <td>1.602631e+09</td>\n",
       "      <td></td>\n",
       "    </tr>\n",
       "  </tbody>\n",
       "</table>\n",
       "</div>"
      ],
      "text/plain": [
       "                                               title  score      id  \\\n",
       "0  When exactly did this whole Force dyad between...      5  jakk3z   \n",
       "1                 Hol up, can you even jam speeders?      5  jaj49d   \n",
       "2  Remember in Battlefront 2 (newer one) when you...     86  jah2m7   \n",
       "3  Just a friendly reminder of how badly Star War...    324  jah1uf   \n",
       "4  Dark Empire Episode 1: The Destiny of a Jedi (...      5  jaflwe   \n",
       "\n",
       "                                                 url  comms_num       created  \\\n",
       "0  https://www.reddit.com/r/saltierthancrait/comm...          9  1.602646e+09   \n",
       "1  https://www.reddit.com/r/saltierthancrait/comm...         10  1.602642e+09   \n",
       "2  https://www.reddit.com/r/saltierthancrait/comm...         13  1.602636e+09   \n",
       "3                https://i.redd.it/nlzsftux3ws51.png         45  1.602636e+09   \n",
       "4        https://www.youtube.com/watch?v=lADCO-Ar76U          2  1.602631e+09   \n",
       "\n",
       "                                                body  \n",
       "0                                                     \n",
       "1  Just thinking about that scene and how massive...  \n",
       "2      Because The Rise of Skywalker doesn't seem to  \n",
       "3                                                     \n",
       "4                                                     "
      ]
     },
     "execution_count": 15,
     "metadata": {},
     "output_type": "execute_result"
    }
   ],
   "source": [
    "# Put the data in a dataframe\n",
    "df = pd.DataFrame(topics_dict)\n",
    "df.head()"
   ]
  },
  {
   "cell_type": "code",
   "execution_count": 17,
   "metadata": {},
   "outputs": [
    {
     "data": {
      "text/html": [
       "<div>\n",
       "<style scoped>\n",
       "    .dataframe tbody tr th:only-of-type {\n",
       "        vertical-align: middle;\n",
       "    }\n",
       "\n",
       "    .dataframe tbody tr th {\n",
       "        vertical-align: top;\n",
       "    }\n",
       "\n",
       "    .dataframe thead th {\n",
       "        text-align: right;\n",
       "    }\n",
       "</style>\n",
       "<table border=\"1\" class=\"dataframe\">\n",
       "  <thead>\n",
       "    <tr style=\"text-align: right;\">\n",
       "      <th></th>\n",
       "      <th>title</th>\n",
       "      <th>score</th>\n",
       "      <th>id</th>\n",
       "      <th>url</th>\n",
       "      <th>comms_num</th>\n",
       "      <th>created</th>\n",
       "      <th>body</th>\n",
       "    </tr>\n",
       "  </thead>\n",
       "  <tbody>\n",
       "    <tr>\n",
       "      <th>0</th>\n",
       "      <td>\"You're not alone.\" - \"Neither are you.\"</td>\n",
       "      <td>1</td>\n",
       "      <td>jam07s</td>\n",
       "      <td>https://www.reddit.com/gallery/jam07s</td>\n",
       "      <td>1</td>\n",
       "      <td>1.602651e+09</td>\n",
       "      <td></td>\n",
       "    </tr>\n",
       "    <tr>\n",
       "      <th>1</th>\n",
       "      <td>I am not the only one</td>\n",
       "      <td>4</td>\n",
       "      <td>jalddu</td>\n",
       "      <td>https://i.redd.it/q8edcctt9ws51.jpg</td>\n",
       "      <td>1</td>\n",
       "      <td>1.602649e+09</td>\n",
       "      <td></td>\n",
       "    </tr>\n",
       "    <tr>\n",
       "      <th>2</th>\n",
       "      <td>Just love the visual style and execution of th...</td>\n",
       "      <td>9</td>\n",
       "      <td>jakenf</td>\n",
       "      <td>https://i.redd.it/7on6sz7fxws51.png</td>\n",
       "      <td>2</td>\n",
       "      <td>1.602646e+09</td>\n",
       "      <td></td>\n",
       "    </tr>\n",
       "    <tr>\n",
       "      <th>3</th>\n",
       "      <td>The Rise of Skywalker by artist Matt Ferguson</td>\n",
       "      <td>30</td>\n",
       "      <td>jailjn</td>\n",
       "      <td>https://i.redd.it/65wz899ohws51.jpg</td>\n",
       "      <td>1</td>\n",
       "      <td>1.602640e+09</td>\n",
       "      <td></td>\n",
       "    </tr>\n",
       "    <tr>\n",
       "      <th>4</th>\n",
       "      <td>I've just started TCW after years of writing i...</td>\n",
       "      <td>12</td>\n",
       "      <td>jaigw0</td>\n",
       "      <td>https://i.redd.it/e74y2ciigws51.jpg</td>\n",
       "      <td>9</td>\n",
       "      <td>1.602640e+09</td>\n",
       "      <td></td>\n",
       "    </tr>\n",
       "  </tbody>\n",
       "</table>\n",
       "</div>"
      ],
      "text/plain": [
       "                                               title  score      id  \\\n",
       "0           \"You're not alone.\" - \"Neither are you.\"      1  jam07s   \n",
       "1                              I am not the only one      4  jalddu   \n",
       "2  Just love the visual style and execution of th...      9  jakenf   \n",
       "3      The Rise of Skywalker by artist Matt Ferguson     30  jailjn   \n",
       "4  I've just started TCW after years of writing i...     12  jaigw0   \n",
       "\n",
       "                                     url  comms_num       created body  \n",
       "0  https://www.reddit.com/gallery/jam07s          1  1.602651e+09       \n",
       "1    https://i.redd.it/q8edcctt9ws51.jpg          1  1.602649e+09       \n",
       "2    https://i.redd.it/7on6sz7fxws51.png          2  1.602646e+09       \n",
       "3    https://i.redd.it/65wz899ohws51.jpg          1  1.602640e+09       \n",
       "4    https://i.redd.it/e74y2ciigws51.jpg          9  1.602640e+09       "
      ]
     },
     "execution_count": 17,
     "metadata": {},
     "output_type": "execute_result"
    }
   ],
   "source": [
    "# Put the data in a dataframe\n",
    "df2 = pd.DataFrame(topics_dict2)\n",
    "df2.head()"
   ]
  },
  {
   "cell_type": "markdown",
   "metadata": {},
   "source": [
    "# Clean up the dataframes and combine"
   ]
  },
  {
   "cell_type": "code",
   "execution_count": 18,
   "metadata": {},
   "outputs": [],
   "source": [
    "# Add a column identifying which subreddit the posts came from\n",
    "df['subreddit'] = 'saltierthancrait'"
   ]
  },
  {
   "cell_type": "code",
   "execution_count": 20,
   "metadata": {
    "scrolled": true
   },
   "outputs": [
    {
     "data": {
      "text/html": [
       "<div>\n",
       "<style scoped>\n",
       "    .dataframe tbody tr th:only-of-type {\n",
       "        vertical-align: middle;\n",
       "    }\n",
       "\n",
       "    .dataframe tbody tr th {\n",
       "        vertical-align: top;\n",
       "    }\n",
       "\n",
       "    .dataframe thead th {\n",
       "        text-align: right;\n",
       "    }\n",
       "</style>\n",
       "<table border=\"1\" class=\"dataframe\">\n",
       "  <thead>\n",
       "    <tr style=\"text-align: right;\">\n",
       "      <th></th>\n",
       "      <th>title</th>\n",
       "      <th>score</th>\n",
       "      <th>id</th>\n",
       "      <th>url</th>\n",
       "      <th>comms_num</th>\n",
       "      <th>created</th>\n",
       "      <th>body</th>\n",
       "      <th>subreddit</th>\n",
       "    </tr>\n",
       "  </thead>\n",
       "  <tbody>\n",
       "    <tr>\n",
       "      <th>0</th>\n",
       "      <td>When exactly did this whole Force dyad between...</td>\n",
       "      <td>5</td>\n",
       "      <td>jakk3z</td>\n",
       "      <td>https://www.reddit.com/r/saltierthancrait/comm...</td>\n",
       "      <td>9</td>\n",
       "      <td>1.602646e+09</td>\n",
       "      <td></td>\n",
       "      <td>saltierthancrait</td>\n",
       "    </tr>\n",
       "    <tr>\n",
       "      <th>1</th>\n",
       "      <td>Hol up, can you even jam speeders?</td>\n",
       "      <td>5</td>\n",
       "      <td>jaj49d</td>\n",
       "      <td>https://www.reddit.com/r/saltierthancrait/comm...</td>\n",
       "      <td>10</td>\n",
       "      <td>1.602642e+09</td>\n",
       "      <td>Just thinking about that scene and how massive...</td>\n",
       "      <td>saltierthancrait</td>\n",
       "    </tr>\n",
       "    <tr>\n",
       "      <th>2</th>\n",
       "      <td>Remember in Battlefront 2 (newer one) when you...</td>\n",
       "      <td>86</td>\n",
       "      <td>jah2m7</td>\n",
       "      <td>https://www.reddit.com/r/saltierthancrait/comm...</td>\n",
       "      <td>13</td>\n",
       "      <td>1.602636e+09</td>\n",
       "      <td>Because The Rise of Skywalker doesn't seem to</td>\n",
       "      <td>saltierthancrait</td>\n",
       "    </tr>\n",
       "    <tr>\n",
       "      <th>3</th>\n",
       "      <td>Just a friendly reminder of how badly Star War...</td>\n",
       "      <td>324</td>\n",
       "      <td>jah1uf</td>\n",
       "      <td>https://i.redd.it/nlzsftux3ws51.png</td>\n",
       "      <td>45</td>\n",
       "      <td>1.602636e+09</td>\n",
       "      <td></td>\n",
       "      <td>saltierthancrait</td>\n",
       "    </tr>\n",
       "    <tr>\n",
       "      <th>4</th>\n",
       "      <td>Dark Empire Episode 1: The Destiny of a Jedi (...</td>\n",
       "      <td>5</td>\n",
       "      <td>jaflwe</td>\n",
       "      <td>https://www.youtube.com/watch?v=lADCO-Ar76U</td>\n",
       "      <td>2</td>\n",
       "      <td>1.602631e+09</td>\n",
       "      <td></td>\n",
       "      <td>saltierthancrait</td>\n",
       "    </tr>\n",
       "  </tbody>\n",
       "</table>\n",
       "</div>"
      ],
      "text/plain": [
       "                                               title  score      id  \\\n",
       "0  When exactly did this whole Force dyad between...      5  jakk3z   \n",
       "1                 Hol up, can you even jam speeders?      5  jaj49d   \n",
       "2  Remember in Battlefront 2 (newer one) when you...     86  jah2m7   \n",
       "3  Just a friendly reminder of how badly Star War...    324  jah1uf   \n",
       "4  Dark Empire Episode 1: The Destiny of a Jedi (...      5  jaflwe   \n",
       "\n",
       "                                                 url  comms_num       created  \\\n",
       "0  https://www.reddit.com/r/saltierthancrait/comm...          9  1.602646e+09   \n",
       "1  https://www.reddit.com/r/saltierthancrait/comm...         10  1.602642e+09   \n",
       "2  https://www.reddit.com/r/saltierthancrait/comm...         13  1.602636e+09   \n",
       "3                https://i.redd.it/nlzsftux3ws51.png         45  1.602636e+09   \n",
       "4        https://www.youtube.com/watch?v=lADCO-Ar76U          2  1.602631e+09   \n",
       "\n",
       "                                                body         subreddit  \n",
       "0                                                     saltierthancrait  \n",
       "1  Just thinking about that scene and how massive...  saltierthancrait  \n",
       "2      Because The Rise of Skywalker doesn't seem to  saltierthancrait  \n",
       "3                                                     saltierthancrait  \n",
       "4                                                     saltierthancrait  "
      ]
     },
     "execution_count": 20,
     "metadata": {},
     "output_type": "execute_result"
    }
   ],
   "source": [
    "df.head()"
   ]
  },
  {
   "cell_type": "code",
   "execution_count": 19,
   "metadata": {},
   "outputs": [],
   "source": [
    "# Add a column identifying which subreddit the posts came from\n",
    "df2['subreddit'] = 'StarWarsCantina'"
   ]
  },
  {
   "cell_type": "code",
   "execution_count": 21,
   "metadata": {},
   "outputs": [
    {
     "data": {
      "text/html": [
       "<div>\n",
       "<style scoped>\n",
       "    .dataframe tbody tr th:only-of-type {\n",
       "        vertical-align: middle;\n",
       "    }\n",
       "\n",
       "    .dataframe tbody tr th {\n",
       "        vertical-align: top;\n",
       "    }\n",
       "\n",
       "    .dataframe thead th {\n",
       "        text-align: right;\n",
       "    }\n",
       "</style>\n",
       "<table border=\"1\" class=\"dataframe\">\n",
       "  <thead>\n",
       "    <tr style=\"text-align: right;\">\n",
       "      <th></th>\n",
       "      <th>title</th>\n",
       "      <th>score</th>\n",
       "      <th>id</th>\n",
       "      <th>url</th>\n",
       "      <th>comms_num</th>\n",
       "      <th>created</th>\n",
       "      <th>body</th>\n",
       "      <th>subreddit</th>\n",
       "    </tr>\n",
       "  </thead>\n",
       "  <tbody>\n",
       "    <tr>\n",
       "      <th>0</th>\n",
       "      <td>\"You're not alone.\" - \"Neither are you.\"</td>\n",
       "      <td>1</td>\n",
       "      <td>jam07s</td>\n",
       "      <td>https://www.reddit.com/gallery/jam07s</td>\n",
       "      <td>1</td>\n",
       "      <td>1.602651e+09</td>\n",
       "      <td></td>\n",
       "      <td>StarWarsCantina</td>\n",
       "    </tr>\n",
       "    <tr>\n",
       "      <th>1</th>\n",
       "      <td>I am not the only one</td>\n",
       "      <td>4</td>\n",
       "      <td>jalddu</td>\n",
       "      <td>https://i.redd.it/q8edcctt9ws51.jpg</td>\n",
       "      <td>1</td>\n",
       "      <td>1.602649e+09</td>\n",
       "      <td></td>\n",
       "      <td>StarWarsCantina</td>\n",
       "    </tr>\n",
       "    <tr>\n",
       "      <th>2</th>\n",
       "      <td>Just love the visual style and execution of th...</td>\n",
       "      <td>9</td>\n",
       "      <td>jakenf</td>\n",
       "      <td>https://i.redd.it/7on6sz7fxws51.png</td>\n",
       "      <td>2</td>\n",
       "      <td>1.602646e+09</td>\n",
       "      <td></td>\n",
       "      <td>StarWarsCantina</td>\n",
       "    </tr>\n",
       "    <tr>\n",
       "      <th>3</th>\n",
       "      <td>The Rise of Skywalker by artist Matt Ferguson</td>\n",
       "      <td>30</td>\n",
       "      <td>jailjn</td>\n",
       "      <td>https://i.redd.it/65wz899ohws51.jpg</td>\n",
       "      <td>1</td>\n",
       "      <td>1.602640e+09</td>\n",
       "      <td></td>\n",
       "      <td>StarWarsCantina</td>\n",
       "    </tr>\n",
       "    <tr>\n",
       "      <th>4</th>\n",
       "      <td>I've just started TCW after years of writing i...</td>\n",
       "      <td>12</td>\n",
       "      <td>jaigw0</td>\n",
       "      <td>https://i.redd.it/e74y2ciigws51.jpg</td>\n",
       "      <td>9</td>\n",
       "      <td>1.602640e+09</td>\n",
       "      <td></td>\n",
       "      <td>StarWarsCantina</td>\n",
       "    </tr>\n",
       "  </tbody>\n",
       "</table>\n",
       "</div>"
      ],
      "text/plain": [
       "                                               title  score      id  \\\n",
       "0           \"You're not alone.\" - \"Neither are you.\"      1  jam07s   \n",
       "1                              I am not the only one      4  jalddu   \n",
       "2  Just love the visual style and execution of th...      9  jakenf   \n",
       "3      The Rise of Skywalker by artist Matt Ferguson     30  jailjn   \n",
       "4  I've just started TCW after years of writing i...     12  jaigw0   \n",
       "\n",
       "                                     url  comms_num       created body  \\\n",
       "0  https://www.reddit.com/gallery/jam07s          1  1.602651e+09        \n",
       "1    https://i.redd.it/q8edcctt9ws51.jpg          1  1.602649e+09        \n",
       "2    https://i.redd.it/7on6sz7fxws51.png          2  1.602646e+09        \n",
       "3    https://i.redd.it/65wz899ohws51.jpg          1  1.602640e+09        \n",
       "4    https://i.redd.it/e74y2ciigws51.jpg          9  1.602640e+09        \n",
       "\n",
       "         subreddit  \n",
       "0  StarWarsCantina  \n",
       "1  StarWarsCantina  \n",
       "2  StarWarsCantina  \n",
       "3  StarWarsCantina  \n",
       "4  StarWarsCantina  "
      ]
     },
     "execution_count": 21,
     "metadata": {},
     "output_type": "execute_result"
    }
   ],
   "source": [
    "df2.head()"
   ]
  },
  {
   "cell_type": "code",
   "execution_count": 26,
   "metadata": {},
   "outputs": [],
   "source": [
    "# Put the two dataframes together\n",
    "df_final = pd.concat([df, df2])"
   ]
  },
  {
   "cell_type": "code",
   "execution_count": 27,
   "metadata": {},
   "outputs": [
    {
     "data": {
      "text/plain": [
       "saltierthancrait    999\n",
       "StarWarsCantina     994\n",
       "Name: subreddit, dtype: int64"
      ]
     },
     "execution_count": 27,
     "metadata": {},
     "output_type": "execute_result"
    }
   ],
   "source": [
    "df_final['subreddit'].value_counts()"
   ]
  },
  {
   "cell_type": "code",
   "execution_count": 28,
   "metadata": {},
   "outputs": [],
   "source": [
    "# Write the dataframe to .csv\n",
    "df_final.to_csv('../data/rawdata.csv', index = False)"
   ]
  }
 ],
 "metadata": {
  "kernelspec": {
   "display_name": "Python 3",
   "language": "python",
   "name": "python3"
  },
  "language_info": {
   "codemirror_mode": {
    "name": "ipython",
    "version": 3
   },
   "file_extension": ".py",
   "mimetype": "text/x-python",
   "name": "python",
   "nbconvert_exporter": "python",
   "pygments_lexer": "ipython3",
   "version": "3.8.5"
  }
 },
 "nbformat": 4,
 "nbformat_minor": 2
}
