{
 "cells": [
  {
   "cell_type": "code",
   "execution_count": 137,
   "metadata": {},
   "outputs": [],
   "source": [
    "# Import required libraries\n",
    "import numpy as np\n",
    "import pandas as pd\n",
    "import matplotlib.pyplot as plt\n",
    "import seaborn as sns\n",
    "\n",
    "from nltk.stem.porter import PorterStemmer\n",
    "from sklearn.feature_extraction.text import CountVectorizer, TfidfVectorizer\n",
    "from nltk.sentiment.vader import SentimentIntensityAnalyzer"
   ]
  },
  {
   "cell_type": "code",
   "execution_count": 138,
   "metadata": {},
   "outputs": [],
   "source": [
    "# Read in the Reddit data\n",
    "df = pd.read_csv('../data/redditproject.csv')"
   ]
  },
  {
   "cell_type": "markdown",
   "metadata": {},
   "source": [
    "# Data Cleaning"
   ]
  },
  {
   "cell_type": "code",
   "execution_count": 139,
   "metadata": {},
   "outputs": [
    {
     "data": {
      "text/html": [
       "<div>\n",
       "<style scoped>\n",
       "    .dataframe tbody tr th:only-of-type {\n",
       "        vertical-align: middle;\n",
       "    }\n",
       "\n",
       "    .dataframe tbody tr th {\n",
       "        vertical-align: top;\n",
       "    }\n",
       "\n",
       "    .dataframe thead th {\n",
       "        text-align: right;\n",
       "    }\n",
       "</style>\n",
       "<table border=\"1\" class=\"dataframe\">\n",
       "  <thead>\n",
       "    <tr style=\"text-align: right;\">\n",
       "      <th></th>\n",
       "      <th>title</th>\n",
       "      <th>score</th>\n",
       "      <th>id</th>\n",
       "      <th>url</th>\n",
       "      <th>comms_num</th>\n",
       "      <th>created</th>\n",
       "      <th>body</th>\n",
       "      <th>subreddit</th>\n",
       "    </tr>\n",
       "  </thead>\n",
       "  <tbody>\n",
       "    <tr>\n",
       "      <th>0</th>\n",
       "      <td>When exactly did this whole Force dyad between...</td>\n",
       "      <td>5</td>\n",
       "      <td>jakk3z</td>\n",
       "      <td>https://www.reddit.com/r/saltierthancrait/comm...</td>\n",
       "      <td>9</td>\n",
       "      <td>1.602646e+09</td>\n",
       "      <td>NaN</td>\n",
       "      <td>saltierthancrait</td>\n",
       "    </tr>\n",
       "    <tr>\n",
       "      <th>1</th>\n",
       "      <td>Hol up, can you even jam speeders?</td>\n",
       "      <td>5</td>\n",
       "      <td>jaj49d</td>\n",
       "      <td>https://www.reddit.com/r/saltierthancrait/comm...</td>\n",
       "      <td>10</td>\n",
       "      <td>1.602642e+09</td>\n",
       "      <td>Just thinking about that scene and how massive...</td>\n",
       "      <td>saltierthancrait</td>\n",
       "    </tr>\n",
       "    <tr>\n",
       "      <th>2</th>\n",
       "      <td>Remember in Battlefront 2 (newer one) when you...</td>\n",
       "      <td>86</td>\n",
       "      <td>jah2m7</td>\n",
       "      <td>https://www.reddit.com/r/saltierthancrait/comm...</td>\n",
       "      <td>13</td>\n",
       "      <td>1.602636e+09</td>\n",
       "      <td>Because The Rise of Skywalker doesn't seem to</td>\n",
       "      <td>saltierthancrait</td>\n",
       "    </tr>\n",
       "    <tr>\n",
       "      <th>3</th>\n",
       "      <td>Just a friendly reminder of how badly Star War...</td>\n",
       "      <td>324</td>\n",
       "      <td>jah1uf</td>\n",
       "      <td>https://i.redd.it/nlzsftux3ws51.png</td>\n",
       "      <td>45</td>\n",
       "      <td>1.602636e+09</td>\n",
       "      <td>NaN</td>\n",
       "      <td>saltierthancrait</td>\n",
       "    </tr>\n",
       "    <tr>\n",
       "      <th>4</th>\n",
       "      <td>Dark Empire Episode 1: The Destiny of a Jedi (...</td>\n",
       "      <td>5</td>\n",
       "      <td>jaflwe</td>\n",
       "      <td>https://www.youtube.com/watch?v=lADCO-Ar76U</td>\n",
       "      <td>2</td>\n",
       "      <td>1.602631e+09</td>\n",
       "      <td>NaN</td>\n",
       "      <td>saltierthancrait</td>\n",
       "    </tr>\n",
       "  </tbody>\n",
       "</table>\n",
       "</div>"
      ],
      "text/plain": [
       "                                               title  score      id  \\\n",
       "0  When exactly did this whole Force dyad between...      5  jakk3z   \n",
       "1                 Hol up, can you even jam speeders?      5  jaj49d   \n",
       "2  Remember in Battlefront 2 (newer one) when you...     86  jah2m7   \n",
       "3  Just a friendly reminder of how badly Star War...    324  jah1uf   \n",
       "4  Dark Empire Episode 1: The Destiny of a Jedi (...      5  jaflwe   \n",
       "\n",
       "                                                 url  comms_num       created  \\\n",
       "0  https://www.reddit.com/r/saltierthancrait/comm...          9  1.602646e+09   \n",
       "1  https://www.reddit.com/r/saltierthancrait/comm...         10  1.602642e+09   \n",
       "2  https://www.reddit.com/r/saltierthancrait/comm...         13  1.602636e+09   \n",
       "3                https://i.redd.it/nlzsftux3ws51.png         45  1.602636e+09   \n",
       "4        https://www.youtube.com/watch?v=lADCO-Ar76U          2  1.602631e+09   \n",
       "\n",
       "                                                body         subreddit  \n",
       "0                                                NaN  saltierthancrait  \n",
       "1  Just thinking about that scene and how massive...  saltierthancrait  \n",
       "2      Because The Rise of Skywalker doesn't seem to  saltierthancrait  \n",
       "3                                                NaN  saltierthancrait  \n",
       "4                                                NaN  saltierthancrait  "
      ]
     },
     "execution_count": 139,
     "metadata": {},
     "output_type": "execute_result"
    }
   ],
   "source": [
    "df.head()"
   ]
  },
  {
   "cell_type": "code",
   "execution_count": 140,
   "metadata": {},
   "outputs": [
    {
     "name": "stdout",
     "output_type": "stream",
     "text": [
      "<class 'pandas.core.frame.DataFrame'>\n",
      "RangeIndex: 1993 entries, 0 to 1992\n",
      "Data columns (total 8 columns):\n",
      " #   Column     Non-Null Count  Dtype  \n",
      "---  ------     --------------  -----  \n",
      " 0   title      1993 non-null   object \n",
      " 1   score      1993 non-null   int64  \n",
      " 2   id         1993 non-null   object \n",
      " 3   url        1993 non-null   object \n",
      " 4   comms_num  1993 non-null   int64  \n",
      " 5   created    1993 non-null   float64\n",
      " 6   body       817 non-null    object \n",
      " 7   subreddit  1993 non-null   object \n",
      "dtypes: float64(1), int64(2), object(5)\n",
      "memory usage: 124.7+ KB\n"
     ]
    }
   ],
   "source": [
    "df.info()"
   ]
  },
  {
   "cell_type": "code",
   "execution_count": 141,
   "metadata": {},
   "outputs": [],
   "source": [
    "# Replace NaN with empty string\n",
    "df = df.replace(np.nan, '', regex=True)"
   ]
  },
  {
   "cell_type": "code",
   "execution_count": 142,
   "metadata": {},
   "outputs": [],
   "source": [
    "# Create a text feature category with title and body\n",
    "df['features'] = df['title'] + ' ' + df['body']"
   ]
  },
  {
   "cell_type": "code",
   "execution_count": 143,
   "metadata": {},
   "outputs": [],
   "source": [
    "# Recode the target variable with a binary. Our positive class is saltierthancrait\n",
    "df['target'] = df['subreddit'].map({'StarWarsCantina': 0, 'saltierthancrait': 1})"
   ]
  },
  {
   "cell_type": "code",
   "execution_count": 144,
   "metadata": {},
   "outputs": [
    {
     "data": {
      "text/plain": [
       "1    0.501254\n",
       "0    0.498746\n",
       "Name: target, dtype: float64"
      ]
     },
     "execution_count": 144,
     "metadata": {},
     "output_type": "execute_result"
    }
   ],
   "source": [
    "df.target.value_counts(normalize = True)"
   ]
  },
  {
   "cell_type": "markdown",
   "metadata": {},
   "source": [
    "# EDA - wordcount"
   ]
  },
  {
   "cell_type": "code",
   "execution_count": 145,
   "metadata": {},
   "outputs": [],
   "source": [
    "df1 = df.copy()"
   ]
  },
  {
   "cell_type": "code",
   "execution_count": 146,
   "metadata": {},
   "outputs": [
    {
     "data": {
      "text/html": [
       "<div>\n",
       "<style scoped>\n",
       "    .dataframe tbody tr th:only-of-type {\n",
       "        vertical-align: middle;\n",
       "    }\n",
       "\n",
       "    .dataframe tbody tr th {\n",
       "        vertical-align: top;\n",
       "    }\n",
       "\n",
       "    .dataframe thead th {\n",
       "        text-align: right;\n",
       "    }\n",
       "</style>\n",
       "<table border=\"1\" class=\"dataframe\">\n",
       "  <thead>\n",
       "    <tr style=\"text-align: right;\">\n",
       "      <th></th>\n",
       "      <th>title</th>\n",
       "      <th>score</th>\n",
       "      <th>id</th>\n",
       "      <th>url</th>\n",
       "      <th>comms_num</th>\n",
       "      <th>created</th>\n",
       "      <th>body</th>\n",
       "      <th>subreddit</th>\n",
       "      <th>features</th>\n",
       "      <th>target</th>\n",
       "    </tr>\n",
       "  </thead>\n",
       "  <tbody>\n",
       "    <tr>\n",
       "      <th>0</th>\n",
       "      <td>When exactly did this whole Force dyad between...</td>\n",
       "      <td>5</td>\n",
       "      <td>jakk3z</td>\n",
       "      <td>https://www.reddit.com/r/saltierthancrait/comm...</td>\n",
       "      <td>9</td>\n",
       "      <td>1.602646e+09</td>\n",
       "      <td></td>\n",
       "      <td>saltierthancrait</td>\n",
       "      <td>When exactly did this whole Force dyad between...</td>\n",
       "      <td>1</td>\n",
       "    </tr>\n",
       "    <tr>\n",
       "      <th>1</th>\n",
       "      <td>Hol up, can you even jam speeders?</td>\n",
       "      <td>5</td>\n",
       "      <td>jaj49d</td>\n",
       "      <td>https://www.reddit.com/r/saltierthancrait/comm...</td>\n",
       "      <td>10</td>\n",
       "      <td>1.602642e+09</td>\n",
       "      <td>Just thinking about that scene and how massive...</td>\n",
       "      <td>saltierthancrait</td>\n",
       "      <td>Hol up, can you even jam speeders? Just thinki...</td>\n",
       "      <td>1</td>\n",
       "    </tr>\n",
       "    <tr>\n",
       "      <th>2</th>\n",
       "      <td>Remember in Battlefront 2 (newer one) when you...</td>\n",
       "      <td>86</td>\n",
       "      <td>jah2m7</td>\n",
       "      <td>https://www.reddit.com/r/saltierthancrait/comm...</td>\n",
       "      <td>13</td>\n",
       "      <td>1.602636e+09</td>\n",
       "      <td>Because The Rise of Skywalker doesn't seem to</td>\n",
       "      <td>saltierthancrait</td>\n",
       "      <td>Remember in Battlefront 2 (newer one) when you...</td>\n",
       "      <td>1</td>\n",
       "    </tr>\n",
       "    <tr>\n",
       "      <th>3</th>\n",
       "      <td>Just a friendly reminder of how badly Star War...</td>\n",
       "      <td>324</td>\n",
       "      <td>jah1uf</td>\n",
       "      <td>https://i.redd.it/nlzsftux3ws51.png</td>\n",
       "      <td>45</td>\n",
       "      <td>1.602636e+09</td>\n",
       "      <td></td>\n",
       "      <td>saltierthancrait</td>\n",
       "      <td>Just a friendly reminder of how badly Star War...</td>\n",
       "      <td>1</td>\n",
       "    </tr>\n",
       "    <tr>\n",
       "      <th>4</th>\n",
       "      <td>Dark Empire Episode 1: The Destiny of a Jedi (...</td>\n",
       "      <td>5</td>\n",
       "      <td>jaflwe</td>\n",
       "      <td>https://www.youtube.com/watch?v=lADCO-Ar76U</td>\n",
       "      <td>2</td>\n",
       "      <td>1.602631e+09</td>\n",
       "      <td></td>\n",
       "      <td>saltierthancrait</td>\n",
       "      <td>Dark Empire Episode 1: The Destiny of a Jedi (...</td>\n",
       "      <td>1</td>\n",
       "    </tr>\n",
       "  </tbody>\n",
       "</table>\n",
       "</div>"
      ],
      "text/plain": [
       "                                               title  score      id  \\\n",
       "0  When exactly did this whole Force dyad between...      5  jakk3z   \n",
       "1                 Hol up, can you even jam speeders?      5  jaj49d   \n",
       "2  Remember in Battlefront 2 (newer one) when you...     86  jah2m7   \n",
       "3  Just a friendly reminder of how badly Star War...    324  jah1uf   \n",
       "4  Dark Empire Episode 1: The Destiny of a Jedi (...      5  jaflwe   \n",
       "\n",
       "                                                 url  comms_num       created  \\\n",
       "0  https://www.reddit.com/r/saltierthancrait/comm...          9  1.602646e+09   \n",
       "1  https://www.reddit.com/r/saltierthancrait/comm...         10  1.602642e+09   \n",
       "2  https://www.reddit.com/r/saltierthancrait/comm...         13  1.602636e+09   \n",
       "3                https://i.redd.it/nlzsftux3ws51.png         45  1.602636e+09   \n",
       "4        https://www.youtube.com/watch?v=lADCO-Ar76U          2  1.602631e+09   \n",
       "\n",
       "                                                body         subreddit  \\\n",
       "0                                                     saltierthancrait   \n",
       "1  Just thinking about that scene and how massive...  saltierthancrait   \n",
       "2      Because The Rise of Skywalker doesn't seem to  saltierthancrait   \n",
       "3                                                     saltierthancrait   \n",
       "4                                                     saltierthancrait   \n",
       "\n",
       "                                            features  target  \n",
       "0  When exactly did this whole Force dyad between...       1  \n",
       "1  Hol up, can you even jam speeders? Just thinki...       1  \n",
       "2  Remember in Battlefront 2 (newer one) when you...       1  \n",
       "3  Just a friendly reminder of how badly Star War...       1  \n",
       "4  Dark Empire Episode 1: The Destiny of a Jedi (...       1  "
      ]
     },
     "execution_count": 146,
     "metadata": {},
     "output_type": "execute_result"
    }
   ],
   "source": [
    "df1.head()"
   ]
  },
  {
   "cell_type": "code",
   "execution_count": 147,
   "metadata": {},
   "outputs": [],
   "source": [
    "# Make a new column that cointains the character length of the feature\n",
    "df1['feature_length'] = df1['features'].str.len()"
   ]
  },
  {
   "cell_type": "code",
   "execution_count": 148,
   "metadata": {},
   "outputs": [],
   "source": [
    "# Make a new column that containts the word count of the feature\n",
    "df1['feature_word_count'] = df1['features'].str.split().str.len()"
   ]
  },
  {
   "cell_type": "code",
   "execution_count": 151,
   "metadata": {},
   "outputs": [
    {
     "data": {
      "image/png": "[encoded data removed]",
      "text/plain": [
       "<Figure size 720x360 with 1 Axes>"
      ]
     },
     "metadata": {
      "needs_background": "light"
     },
     "output_type": "display_data"
    }
   ],
   "source": [
    "# Plot the average word count for the 2 subreddits\n",
    "plt.figure(figsize = (10,5))\n",
    "df1.groupby('subreddit').feature_word_count.mean().plot(kind= 'barh', color = 'red', alpha = .7)\n",
    "#plt.yticks(rotation = 70)\n",
    "plt.xlabel('Average Word Count')\n",
    "plt.title('Average Word Count by Subreddit')\n",
    "\n",
    "plt.savefig(\"../figs/word_count.png\")"
   ]
  },
  {
   "cell_type": "markdown",
   "metadata": {},
   "source": [
    "The word count does look pretty different between the two subreddits.  This could make a great feature to model with!"
   ]
  },
  {
   "cell_type": "markdown",
   "metadata": {},
   "source": [
    "# Count Vectorizer"
   ]
  },
  {
   "cell_type": "code",
   "execution_count": 152,
   "metadata": {},
   "outputs": [],
   "source": [
    "# Instantiate a CountVectorizer.\n",
    "cvec = CountVectorizer(stop_words = 'english', min_df=3)"
   ]
  },
  {
   "cell_type": "code",
   "execution_count": 153,
   "metadata": {},
   "outputs": [
    {
     "data": {
      "text/plain": [
       "CountVectorizer(min_df=3, stop_words='english')"
      ]
     },
     "execution_count": 153,
     "metadata": {},
     "output_type": "execute_result"
    }
   ],
   "source": [
    "# Fit CountVectorizer on text features\n",
    "cvec.fit(df1['features'])"
   ]
  },
  {
   "cell_type": "code",
   "execution_count": 154,
   "metadata": {},
   "outputs": [],
   "source": [
    "# Transform the features\n",
    "feature_transform = cvec.transform(df['features'])"
   ]
  },
  {
   "cell_type": "code",
   "execution_count": 155,
   "metadata": {},
   "outputs": [],
   "source": [
    "# Create a dataframe with the transformed feature data\n",
    "feature_transform_df = pd.DataFrame(feature_transform.todense(), \n",
    "                          columns=cvec.get_feature_names())\n"
   ]
  },
  {
   "cell_type": "code",
   "execution_count": 156,
   "metadata": {},
   "outputs": [
    {
     "data": {
      "text/plain": [
       "star         1000\n",
       "wars          991\n",
       "like          836\n",
       "just          811\n",
       "luke          724\n",
       "jedi          656\n",
       "rey           596\n",
       "new           550\n",
       "force         488\n",
       "movie         438\n",
       "think         399\n",
       "people        391\n",
       "trilogy       377\n",
       "palpatine     369\n",
       "time          367\n",
       "dtype: int64"
      ]
     },
     "execution_count": 156,
     "metadata": {},
     "output_type": "execute_result"
    }
   ],
   "source": [
    "# Look at the top occuring words\n",
    "feature_transform_df.sum().sort_values(ascending = False).head(15)"
   ]
  },
  {
   "cell_type": "code",
   "execution_count": 157,
   "metadata": {},
   "outputs": [
    {
     "data": {
      "text/plain": [
       "<AxesSubplot:>"
      ]
     },
     "execution_count": 157,
     "metadata": {},
     "output_type": "execute_result"
    },
    {
     "data": {
      "image/png": "[encoded data removed]",
      "text/plain": [
       "<Figure size 432x288 with 1 Axes>"
      ]
     },
     "metadata": {
      "needs_background": "light"
     },
     "output_type": "display_data"
    }
   ],
   "source": [
    "# Plot top occuring words\n",
    "feature_transform_df.sum().sort_values(ascending = False).head(15).plot(kind= 'barh', color = 'red', alpha = 0.5)"
   ]
  },
  {
   "cell_type": "code",
   "execution_count": 158,
   "metadata": {},
   "outputs": [],
   "source": [
    "# There is an issue here where 'target' is also one of our text columns, so renaming 'target' to 'tgt'\n",
    "df1['tgt'] = df1['target']"
   ]
  },
  {
   "cell_type": "code",
   "execution_count": 159,
   "metadata": {},
   "outputs": [],
   "source": [
    "# Add the target variable to the CountVec transformed data\n",
    "df_vec = pd.concat([df1['tgt'], feature_transform_df], axis =1)\n",
    "\n"
   ]
  },
  {
   "cell_type": "code",
   "execution_count": 160,
   "metadata": {},
   "outputs": [
    {
     "data": {
      "text/html": [
       "<div>\n",
       "<style scoped>\n",
       "    .dataframe tbody tr th:only-of-type {\n",
       "        vertical-align: middle;\n",
       "    }\n",
       "\n",
       "    .dataframe tbody tr th {\n",
       "        vertical-align: top;\n",
       "    }\n",
       "\n",
       "    .dataframe thead th {\n",
       "        text-align: right;\n",
       "    }\n",
       "</style>\n",
       "<table border=\"1\" class=\"dataframe\">\n",
       "  <thead>\n",
       "    <tr style=\"text-align: right;\">\n",
       "      <th></th>\n",
       "      <th>tgt</th>\n",
       "      <th>00</th>\n",
       "      <th>000</th>\n",
       "      <th>01</th>\n",
       "      <th>09</th>\n",
       "      <th>10</th>\n",
       "      <th>100</th>\n",
       "      <th>1000</th>\n",
       "      <th>1080p</th>\n",
       "      <th>11</th>\n",
       "      <th>...</th>\n",
       "      <th>youth</th>\n",
       "      <th>youtu</th>\n",
       "      <th>youtube</th>\n",
       "      <th>youtuber</th>\n",
       "      <th>youtubers</th>\n",
       "      <th>yt</th>\n",
       "      <th>yup</th>\n",
       "      <th>yuuzhan</th>\n",
       "      <th>zahn</th>\n",
       "      <th>zero</th>\n",
       "    </tr>\n",
       "  </thead>\n",
       "  <tbody>\n",
       "    <tr>\n",
       "      <th>0</th>\n",
       "      <td>1</td>\n",
       "      <td>0</td>\n",
       "      <td>0</td>\n",
       "      <td>0</td>\n",
       "      <td>0</td>\n",
       "      <td>0</td>\n",
       "      <td>0</td>\n",
       "      <td>0</td>\n",
       "      <td>0</td>\n",
       "      <td>0</td>\n",
       "      <td>...</td>\n",
       "      <td>0</td>\n",
       "      <td>0</td>\n",
       "      <td>0</td>\n",
       "      <td>0</td>\n",
       "      <td>0</td>\n",
       "      <td>0</td>\n",
       "      <td>0</td>\n",
       "      <td>0</td>\n",
       "      <td>0</td>\n",
       "      <td>0</td>\n",
       "    </tr>\n",
       "    <tr>\n",
       "      <th>1</th>\n",
       "      <td>1</td>\n",
       "      <td>0</td>\n",
       "      <td>0</td>\n",
       "      <td>0</td>\n",
       "      <td>0</td>\n",
       "      <td>0</td>\n",
       "      <td>0</td>\n",
       "      <td>0</td>\n",
       "      <td>0</td>\n",
       "      <td>0</td>\n",
       "      <td>...</td>\n",
       "      <td>0</td>\n",
       "      <td>0</td>\n",
       "      <td>0</td>\n",
       "      <td>0</td>\n",
       "      <td>0</td>\n",
       "      <td>0</td>\n",
       "      <td>0</td>\n",
       "      <td>0</td>\n",
       "      <td>0</td>\n",
       "      <td>0</td>\n",
       "    </tr>\n",
       "    <tr>\n",
       "      <th>2</th>\n",
       "      <td>1</td>\n",
       "      <td>0</td>\n",
       "      <td>0</td>\n",
       "      <td>0</td>\n",
       "      <td>0</td>\n",
       "      <td>0</td>\n",
       "      <td>0</td>\n",
       "      <td>0</td>\n",
       "      <td>0</td>\n",
       "      <td>0</td>\n",
       "      <td>...</td>\n",
       "      <td>0</td>\n",
       "      <td>0</td>\n",
       "      <td>0</td>\n",
       "      <td>0</td>\n",
       "      <td>0</td>\n",
       "      <td>0</td>\n",
       "      <td>0</td>\n",
       "      <td>0</td>\n",
       "      <td>0</td>\n",
       "      <td>0</td>\n",
       "    </tr>\n",
       "    <tr>\n",
       "      <th>3</th>\n",
       "      <td>1</td>\n",
       "      <td>0</td>\n",
       "      <td>0</td>\n",
       "      <td>0</td>\n",
       "      <td>0</td>\n",
       "      <td>0</td>\n",
       "      <td>0</td>\n",
       "      <td>0</td>\n",
       "      <td>0</td>\n",
       "      <td>0</td>\n",
       "      <td>...</td>\n",
       "      <td>0</td>\n",
       "      <td>0</td>\n",
       "      <td>0</td>\n",
       "      <td>0</td>\n",
       "      <td>0</td>\n",
       "      <td>0</td>\n",
       "      <td>0</td>\n",
       "      <td>0</td>\n",
       "      <td>0</td>\n",
       "      <td>0</td>\n",
       "    </tr>\n",
       "    <tr>\n",
       "      <th>4</th>\n",
       "      <td>1</td>\n",
       "      <td>0</td>\n",
       "      <td>0</td>\n",
       "      <td>0</td>\n",
       "      <td>0</td>\n",
       "      <td>0</td>\n",
       "      <td>0</td>\n",
       "      <td>0</td>\n",
       "      <td>0</td>\n",
       "      <td>0</td>\n",
       "      <td>...</td>\n",
       "      <td>0</td>\n",
       "      <td>0</td>\n",
       "      <td>0</td>\n",
       "      <td>0</td>\n",
       "      <td>0</td>\n",
       "      <td>0</td>\n",
       "      <td>0</td>\n",
       "      <td>0</td>\n",
       "      <td>0</td>\n",
       "      <td>0</td>\n",
       "    </tr>\n",
       "  </tbody>\n",
       "</table>\n",
       "<p>5 rows × 3998 columns</p>\n",
       "</div>"
      ],
      "text/plain": [
       "   tgt  00  000  01  09  10  100  1000  1080p  11  ...  youth  youtu  youtube  \\\n",
       "0    1   0    0   0   0   0    0     0      0   0  ...      0      0        0   \n",
       "1    1   0    0   0   0   0    0     0      0   0  ...      0      0        0   \n",
       "2    1   0    0   0   0   0    0     0      0   0  ...      0      0        0   \n",
       "3    1   0    0   0   0   0    0     0      0   0  ...      0      0        0   \n",
       "4    1   0    0   0   0   0    0     0      0   0  ...      0      0        0   \n",
       "\n",
       "   youtuber  youtubers  yt  yup  yuuzhan  zahn  zero  \n",
       "0         0          0   0    0        0     0     0  \n",
       "1         0          0   0    0        0     0     0  \n",
       "2         0          0   0    0        0     0     0  \n",
       "3         0          0   0    0        0     0     0  \n",
       "4         0          0   0    0        0     0     0  \n",
       "\n",
       "[5 rows x 3998 columns]"
      ]
     },
     "execution_count": 160,
     "metadata": {},
     "output_type": "execute_result"
    }
   ],
   "source": [
    "df_vec.head()"
   ]
  },
  {
   "cell_type": "code",
   "execution_count": 161,
   "metadata": {},
   "outputs": [],
   "source": [
    "# Get a list of all of the word vectors\n",
    "vec_list = list(feature_transform_df.columns)"
   ]
  },
  {
   "cell_type": "code",
   "execution_count": 162,
   "metadata": {},
   "outputs": [
    {
     "data": {
      "image/png": "[encoded data removed]",
      "text/plain": [
       "<Figure size 432x432 with 1 Axes>"
      ]
     },
     "metadata": {
      "needs_background": "light"
     },
     "output_type": "display_data"
    }
   ],
   "source": [
    "# Plot the most common words for Saltier than Crait\n",
    "plt.figure(figsize = (6,6))\n",
    "\n",
    "\n",
    "plt.savefig(\"../figs/word_count.png\")\n",
    "df_vec[df_vec['tgt'] == 1][vec_list].sum().sort_values(ascending = False).head(15).plot(kind= 'barh', color = 'red', alpha = 0.7)\n",
    "#plt.yticks(rotation = 70)\n",
    "plt.xlabel('Word Count')\n",
    "plt.title('Most Common Words: Saltier Than Crait')\n",
    "plt.savefig(\"../figs/salt_words.png\")\n"
   ]
  },
  {
   "cell_type": "code",
   "execution_count": 163,
   "metadata": {},
   "outputs": [
    {
     "data": {
      "image/png": "[encoded data removed]",
      "text/plain": [
       "<Figure size 432x432 with 1 Axes>"
      ]
     },
     "metadata": {
      "needs_background": "light"
     },
     "output_type": "display_data"
    }
   ],
   "source": [
    "# Plot the most common words for Star Wars Cantina\n",
    "plt.figure(figsize = (6,6))\n",
    "\n",
    "\n",
    "plt.savefig(\"../figs/word_count.png\")\n",
    "df_vec[df_vec['tgt'] == 0][vec_list].sum().sort_values(ascending = False).head(15).plot(kind= 'barh', color = 'red', alpha = 0.7)\n",
    "#plt.yticks(rotation = 70)\n",
    "plt.xlabel('Word Count')\n",
    "plt.title('Most Common Words: Star Wars Cantina')\n",
    "plt.savefig(\"../figs/cantina_words.png\")"
   ]
  },
  {
   "cell_type": "markdown",
   "metadata": {},
   "source": [
    "# EDA - sentiment"
   ]
  },
  {
   "cell_type": "code",
   "execution_count": 166,
   "metadata": {},
   "outputs": [],
   "source": [
    "# Grab the features and target variables\n",
    "df_temp = df[['features', 'target']]"
   ]
  },
  {
   "cell_type": "code",
   "execution_count": 167,
   "metadata": {},
   "outputs": [
    {
     "data": {
      "text/html": [
       "<div>\n",
       "<style scoped>\n",
       "    .dataframe tbody tr th:only-of-type {\n",
       "        vertical-align: middle;\n",
       "    }\n",
       "\n",
       "    .dataframe tbody tr th {\n",
       "        vertical-align: top;\n",
       "    }\n",
       "\n",
       "    .dataframe thead th {\n",
       "        text-align: right;\n",
       "    }\n",
       "</style>\n",
       "<table border=\"1\" class=\"dataframe\">\n",
       "  <thead>\n",
       "    <tr style=\"text-align: right;\">\n",
       "      <th></th>\n",
       "      <th>features</th>\n",
       "      <th>target</th>\n",
       "    </tr>\n",
       "  </thead>\n",
       "  <tbody>\n",
       "    <tr>\n",
       "      <th>0</th>\n",
       "      <td>When exactly did this whole Force dyad between...</td>\n",
       "      <td>1</td>\n",
       "    </tr>\n",
       "    <tr>\n",
       "      <th>1</th>\n",
       "      <td>Hol up, can you even jam speeders? Just thinki...</td>\n",
       "      <td>1</td>\n",
       "    </tr>\n",
       "    <tr>\n",
       "      <th>2</th>\n",
       "      <td>Remember in Battlefront 2 (newer one) when you...</td>\n",
       "      <td>1</td>\n",
       "    </tr>\n",
       "    <tr>\n",
       "      <th>3</th>\n",
       "      <td>Just a friendly reminder of how badly Star War...</td>\n",
       "      <td>1</td>\n",
       "    </tr>\n",
       "    <tr>\n",
       "      <th>4</th>\n",
       "      <td>Dark Empire Episode 1: The Destiny of a Jedi (...</td>\n",
       "      <td>1</td>\n",
       "    </tr>\n",
       "  </tbody>\n",
       "</table>\n",
       "</div>"
      ],
      "text/plain": [
       "                                            features  target\n",
       "0  When exactly did this whole Force dyad between...       1\n",
       "1  Hol up, can you even jam speeders? Just thinki...       1\n",
       "2  Remember in Battlefront 2 (newer one) when you...       1\n",
       "3  Just a friendly reminder of how badly Star War...       1\n",
       "4  Dark Empire Episode 1: The Destiny of a Jedi (...       1"
      ]
     },
     "execution_count": 167,
     "metadata": {},
     "output_type": "execute_result"
    }
   ],
   "source": [
    "df_temp.head()"
   ]
  },
  {
   "cell_type": "code",
   "execution_count": 168,
   "metadata": {},
   "outputs": [
    {
     "data": {
      "text/plain": [
       "'When exactly did this whole Force dyad between Rey and Kylo emerge? And why? '"
      ]
     },
     "execution_count": 168,
     "metadata": {},
     "output_type": "execute_result"
    }
   ],
   "source": [
    "# Convert features to a list of strings:\n",
    "\n",
    "corpus = list(df_temp['features'])\n",
    "corpus[0]"
   ]
  },
  {
   "cell_type": "code",
   "execution_count": 169,
   "metadata": {},
   "outputs": [
    {
     "data": {
      "text/plain": [
       "{'neg': 0.0, 'neu': 1.0, 'pos': 0.0, 'compound': 0.0}"
      ]
     },
     "execution_count": 169,
     "metadata": {},
     "output_type": "execute_result"
    }
   ],
   "source": [
    "# Instantiate SIA\n",
    "sia = SentimentIntensityAnalyzer()\n",
    "\n",
    "# Get polarity scores for the first feature\n",
    "sia.polarity_scores(corpus[0])"
   ]
  },
  {
   "cell_type": "code",
   "execution_count": 170,
   "metadata": {},
   "outputs": [
    {
     "data": {
      "text/html": [
       "<div>\n",
       "<style scoped>\n",
       "    .dataframe tbody tr th:only-of-type {\n",
       "        vertical-align: middle;\n",
       "    }\n",
       "\n",
       "    .dataframe tbody tr th {\n",
       "        vertical-align: top;\n",
       "    }\n",
       "\n",
       "    .dataframe thead th {\n",
       "        text-align: right;\n",
       "    }\n",
       "</style>\n",
       "<table border=\"1\" class=\"dataframe\">\n",
       "  <thead>\n",
       "    <tr style=\"text-align: right;\">\n",
       "      <th></th>\n",
       "      <th>neg</th>\n",
       "      <th>neu</th>\n",
       "      <th>pos</th>\n",
       "      <th>compound</th>\n",
       "      <th>features</th>\n",
       "    </tr>\n",
       "  </thead>\n",
       "  <tbody>\n",
       "    <tr>\n",
       "      <th>0</th>\n",
       "      <td>0.000</td>\n",
       "      <td>1.000</td>\n",
       "      <td>0.000</td>\n",
       "      <td>0.0000</td>\n",
       "      <td>When exactly did this whole Force dyad between...</td>\n",
       "    </tr>\n",
       "    <tr>\n",
       "      <th>1</th>\n",
       "      <td>0.101</td>\n",
       "      <td>0.899</td>\n",
       "      <td>0.000</td>\n",
       "      <td>-0.5574</td>\n",
       "      <td>Hol up, can you even jam speeders? Just thinki...</td>\n",
       "    </tr>\n",
       "    <tr>\n",
       "      <th>2</th>\n",
       "      <td>0.190</td>\n",
       "      <td>0.810</td>\n",
       "      <td>0.000</td>\n",
       "      <td>-0.7269</td>\n",
       "      <td>Remember in Battlefront 2 (newer one) when you...</td>\n",
       "    </tr>\n",
       "    <tr>\n",
       "      <th>3</th>\n",
       "      <td>0.433</td>\n",
       "      <td>0.429</td>\n",
       "      <td>0.137</td>\n",
       "      <td>-0.7845</td>\n",
       "      <td>Just a friendly reminder of how badly Star War...</td>\n",
       "    </tr>\n",
       "    <tr>\n",
       "      <th>4</th>\n",
       "      <td>0.000</td>\n",
       "      <td>1.000</td>\n",
       "      <td>0.000</td>\n",
       "      <td>0.0000</td>\n",
       "      <td>Dark Empire Episode 1: The Destiny of a Jedi (...</td>\n",
       "    </tr>\n",
       "  </tbody>\n",
       "</table>\n",
       "</div>"
      ],
      "text/plain": [
       "     neg    neu    pos  compound  \\\n",
       "0  0.000  1.000  0.000    0.0000   \n",
       "1  0.101  0.899  0.000   -0.5574   \n",
       "2  0.190  0.810  0.000   -0.7269   \n",
       "3  0.433  0.429  0.137   -0.7845   \n",
       "4  0.000  1.000  0.000    0.0000   \n",
       "\n",
       "                                            features  \n",
       "0  When exactly did this whole Force dyad between...  \n",
       "1  Hol up, can you even jam speeders? Just thinki...  \n",
       "2  Remember in Battlefront 2 (newer one) when you...  \n",
       "3  Just a friendly reminder of how badly Star War...  \n",
       "4  Dark Empire Episode 1: The Destiny of a Jedi (...  "
      ]
     },
     "execution_count": 170,
     "metadata": {},
     "output_type": "execute_result"
    }
   ],
   "source": [
    "# Create dataframe that contains text and the polarity scores for each feature\n",
    "\n",
    "dicts = []    \n",
    "\n",
    "for post in corpus:\n",
    "    scores = sia.polarity_scores(post)\n",
    "    scores['features'] = post\n",
    "    dicts.append(scores)\n",
    "\n",
    "df_vader = pd.DataFrame(dicts)\n",
    "df_vader.head()"
   ]
  },
  {
   "cell_type": "code",
   "execution_count": 171,
   "metadata": {},
   "outputs": [
    {
     "data": {
      "text/html": [
       "<div>\n",
       "<style scoped>\n",
       "    .dataframe tbody tr th:only-of-type {\n",
       "        vertical-align: middle;\n",
       "    }\n",
       "\n",
       "    .dataframe tbody tr th {\n",
       "        vertical-align: top;\n",
       "    }\n",
       "\n",
       "    .dataframe thead th {\n",
       "        text-align: right;\n",
       "    }\n",
       "</style>\n",
       "<table border=\"1\" class=\"dataframe\">\n",
       "  <thead>\n",
       "    <tr style=\"text-align: right;\">\n",
       "      <th></th>\n",
       "      <th>neg</th>\n",
       "      <th>neu</th>\n",
       "      <th>pos</th>\n",
       "      <th>compound</th>\n",
       "      <th>features</th>\n",
       "      <th>target</th>\n",
       "    </tr>\n",
       "  </thead>\n",
       "  <tbody>\n",
       "    <tr>\n",
       "      <th>0</th>\n",
       "      <td>0.000</td>\n",
       "      <td>1.000</td>\n",
       "      <td>0.000</td>\n",
       "      <td>0.0000</td>\n",
       "      <td>When exactly did this whole Force dyad between...</td>\n",
       "      <td>1</td>\n",
       "    </tr>\n",
       "    <tr>\n",
       "      <th>1</th>\n",
       "      <td>0.101</td>\n",
       "      <td>0.899</td>\n",
       "      <td>0.000</td>\n",
       "      <td>-0.5574</td>\n",
       "      <td>Hol up, can you even jam speeders? Just thinki...</td>\n",
       "      <td>1</td>\n",
       "    </tr>\n",
       "    <tr>\n",
       "      <th>2</th>\n",
       "      <td>0.190</td>\n",
       "      <td>0.810</td>\n",
       "      <td>0.000</td>\n",
       "      <td>-0.7269</td>\n",
       "      <td>Remember in Battlefront 2 (newer one) when you...</td>\n",
       "      <td>1</td>\n",
       "    </tr>\n",
       "    <tr>\n",
       "      <th>3</th>\n",
       "      <td>0.433</td>\n",
       "      <td>0.429</td>\n",
       "      <td>0.137</td>\n",
       "      <td>-0.7845</td>\n",
       "      <td>Just a friendly reminder of how badly Star War...</td>\n",
       "      <td>1</td>\n",
       "    </tr>\n",
       "    <tr>\n",
       "      <th>4</th>\n",
       "      <td>0.000</td>\n",
       "      <td>1.000</td>\n",
       "      <td>0.000</td>\n",
       "      <td>0.0000</td>\n",
       "      <td>Dark Empire Episode 1: The Destiny of a Jedi (...</td>\n",
       "      <td>1</td>\n",
       "    </tr>\n",
       "  </tbody>\n",
       "</table>\n",
       "</div>"
      ],
      "text/plain": [
       "     neg    neu    pos  compound  \\\n",
       "0  0.000  1.000  0.000    0.0000   \n",
       "1  0.101  0.899  0.000   -0.5574   \n",
       "2  0.190  0.810  0.000   -0.7269   \n",
       "3  0.433  0.429  0.137   -0.7845   \n",
       "4  0.000  1.000  0.000    0.0000   \n",
       "\n",
       "                                            features  target  \n",
       "0  When exactly did this whole Force dyad between...       1  \n",
       "1  Hol up, can you even jam speeders? Just thinki...       1  \n",
       "2  Remember in Battlefront 2 (newer one) when you...       1  \n",
       "3  Just a friendly reminder of how badly Star War...       1  \n",
       "4  Dark Empire Episode 1: The Destiny of a Jedi (...       1  "
      ]
     },
     "execution_count": 171,
     "metadata": {},
     "output_type": "execute_result"
    }
   ],
   "source": [
    "# Get the subreddit target info into the VADER dataframe\n",
    "df_vader['target'] = df['target'].values\n",
    "df_vader.head(5)"
   ]
  },
  {
   "cell_type": "code",
   "execution_count": 172,
   "metadata": {},
   "outputs": [],
   "source": [
    "# Create a dataframe with just the Saltier Than Crait Vader info\n",
    "df_stc = df_vader[df_vader['target'] == 1]"
   ]
  },
  {
   "cell_type": "code",
   "execution_count": 173,
   "metadata": {},
   "outputs": [
    {
     "data": {
      "text/html": [
       "<div>\n",
       "<style scoped>\n",
       "    .dataframe tbody tr th:only-of-type {\n",
       "        vertical-align: middle;\n",
       "    }\n",
       "\n",
       "    .dataframe tbody tr th {\n",
       "        vertical-align: top;\n",
       "    }\n",
       "\n",
       "    .dataframe thead th {\n",
       "        text-align: right;\n",
       "    }\n",
       "</style>\n",
       "<table border=\"1\" class=\"dataframe\">\n",
       "  <thead>\n",
       "    <tr style=\"text-align: right;\">\n",
       "      <th></th>\n",
       "      <th>neg</th>\n",
       "      <th>neu</th>\n",
       "      <th>pos</th>\n",
       "      <th>compound</th>\n",
       "      <th>features</th>\n",
       "      <th>target</th>\n",
       "    </tr>\n",
       "  </thead>\n",
       "  <tbody>\n",
       "    <tr>\n",
       "      <th>857</th>\n",
       "      <td>0.0</td>\n",
       "      <td>0.194</td>\n",
       "      <td>0.806</td>\n",
       "      <td>0.8519</td>\n",
       "      <td>What a great love story</td>\n",
       "      <td>1</td>\n",
       "    </tr>\n",
       "    <tr>\n",
       "      <th>938</th>\n",
       "      <td>0.0</td>\n",
       "      <td>0.250</td>\n",
       "      <td>0.750</td>\n",
       "      <td>0.7184</td>\n",
       "      <td>Lmao. This aged well.</td>\n",
       "      <td>1</td>\n",
       "    </tr>\n",
       "    <tr>\n",
       "      <th>73</th>\n",
       "      <td>0.0</td>\n",
       "      <td>0.286</td>\n",
       "      <td>0.714</td>\n",
       "      <td>0.3612</td>\n",
       "      <td>Y’all agree?</td>\n",
       "      <td>1</td>\n",
       "    </tr>\n",
       "    <tr>\n",
       "      <th>746</th>\n",
       "      <td>0.0</td>\n",
       "      <td>0.316</td>\n",
       "      <td>0.684</td>\n",
       "      <td>0.9538</td>\n",
       "      <td>Ahmed Best sharing some black Jedi love today ...</td>\n",
       "      <td>1</td>\n",
       "    </tr>\n",
       "    <tr>\n",
       "      <th>656</th>\n",
       "      <td>0.0</td>\n",
       "      <td>0.360</td>\n",
       "      <td>0.640</td>\n",
       "      <td>0.7964</td>\n",
       "      <td>Still a better love story than reylo</td>\n",
       "      <td>1</td>\n",
       "    </tr>\n",
       "  </tbody>\n",
       "</table>\n",
       "</div>"
      ],
      "text/plain": [
       "     neg    neu    pos  compound  \\\n",
       "857  0.0  0.194  0.806    0.8519   \n",
       "938  0.0  0.250  0.750    0.7184   \n",
       "73   0.0  0.286  0.714    0.3612   \n",
       "746  0.0  0.316  0.684    0.9538   \n",
       "656  0.0  0.360  0.640    0.7964   \n",
       "\n",
       "                                              features  target  \n",
       "857                           What a great love story        1  \n",
       "938                             Lmao. This aged well.        1  \n",
       "73                                       Y’all agree?        1  \n",
       "746  Ahmed Best sharing some black Jedi love today ...       1  \n",
       "656              Still a better love story than reylo        1  "
      ]
     },
     "execution_count": 173,
     "metadata": {},
     "output_type": "execute_result"
    }
   ],
   "source": [
    "# Find the most postivie comments in Saltier Than Crait\n",
    "df_stc.sort_values(by='pos', ascending=False).head()"
   ]
  },
  {
   "cell_type": "code",
   "execution_count": 174,
   "metadata": {},
   "outputs": [
    {
     "data": {
      "text/html": [
       "<div>\n",
       "<style scoped>\n",
       "    .dataframe tbody tr th:only-of-type {\n",
       "        vertical-align: middle;\n",
       "    }\n",
       "\n",
       "    .dataframe tbody tr th {\n",
       "        vertical-align: top;\n",
       "    }\n",
       "\n",
       "    .dataframe thead th {\n",
       "        text-align: right;\n",
       "    }\n",
       "</style>\n",
       "<table border=\"1\" class=\"dataframe\">\n",
       "  <thead>\n",
       "    <tr style=\"text-align: right;\">\n",
       "      <th></th>\n",
       "      <th>neg</th>\n",
       "      <th>neu</th>\n",
       "      <th>pos</th>\n",
       "      <th>compound</th>\n",
       "      <th>features</th>\n",
       "      <th>target</th>\n",
       "    </tr>\n",
       "  </thead>\n",
       "  <tbody>\n",
       "    <tr>\n",
       "      <th>533</th>\n",
       "      <td>1.000</td>\n",
       "      <td>0.000</td>\n",
       "      <td>0.0</td>\n",
       "      <td>-0.3612</td>\n",
       "      <td>Ridiculous.</td>\n",
       "      <td>1</td>\n",
       "    </tr>\n",
       "    <tr>\n",
       "      <th>178</th>\n",
       "      <td>0.722</td>\n",
       "      <td>0.278</td>\n",
       "      <td>0.0</td>\n",
       "      <td>-0.6369</td>\n",
       "      <td>It *was* a trap :(</td>\n",
       "      <td>1</td>\n",
       "    </tr>\n",
       "    <tr>\n",
       "      <th>524</th>\n",
       "      <td>0.674</td>\n",
       "      <td>0.326</td>\n",
       "      <td>0.0</td>\n",
       "      <td>-0.7351</td>\n",
       "      <td>RIP this poor poor cast</td>\n",
       "      <td>1</td>\n",
       "    </tr>\n",
       "    <tr>\n",
       "      <th>289</th>\n",
       "      <td>0.669</td>\n",
       "      <td>0.331</td>\n",
       "      <td>0.0</td>\n",
       "      <td>-0.8442</td>\n",
       "      <td>The People Who Killed Star Wars</td>\n",
       "      <td>1</td>\n",
       "    </tr>\n",
       "    <tr>\n",
       "      <th>57</th>\n",
       "      <td>0.629</td>\n",
       "      <td>0.371</td>\n",
       "      <td>0.0</td>\n",
       "      <td>-0.5255</td>\n",
       "      <td>I had a goddamn PLAN!</td>\n",
       "      <td>1</td>\n",
       "    </tr>\n",
       "  </tbody>\n",
       "</table>\n",
       "</div>"
      ],
      "text/plain": [
       "       neg    neu  pos  compound                          features  target\n",
       "533  1.000  0.000  0.0   -0.3612                      Ridiculous.        1\n",
       "178  0.722  0.278  0.0   -0.6369               It *was* a trap :(        1\n",
       "524  0.674  0.326  0.0   -0.7351          RIP this poor poor cast        1\n",
       "289  0.669  0.331  0.0   -0.8442  The People Who Killed Star Wars        1\n",
       "57   0.629  0.371  0.0   -0.5255            I had a goddamn PLAN!        1"
      ]
     },
     "execution_count": 174,
     "metadata": {},
     "output_type": "execute_result"
    }
   ],
   "source": [
    "# Find the most negative comments in Saltier Than Crait\n",
    "df_stc.sort_values(by='neg', ascending=False).head()\n"
   ]
  },
  {
   "cell_type": "code",
   "execution_count": 175,
   "metadata": {},
   "outputs": [],
   "source": [
    "# Create a dataframe with just the Star Wars Cantina VADER data\n",
    "df_swc = df_vader[df_vader['target'] == 0]"
   ]
  },
  {
   "cell_type": "code",
   "execution_count": 176,
   "metadata": {},
   "outputs": [
    {
     "data": {
      "text/html": [
       "<div>\n",
       "<style scoped>\n",
       "    .dataframe tbody tr th:only-of-type {\n",
       "        vertical-align: middle;\n",
       "    }\n",
       "\n",
       "    .dataframe tbody tr th {\n",
       "        vertical-align: top;\n",
       "    }\n",
       "\n",
       "    .dataframe thead th {\n",
       "        text-align: right;\n",
       "    }\n",
       "</style>\n",
       "<table border=\"1\" class=\"dataframe\">\n",
       "  <thead>\n",
       "    <tr style=\"text-align: right;\">\n",
       "      <th></th>\n",
       "      <th>neg</th>\n",
       "      <th>neu</th>\n",
       "      <th>pos</th>\n",
       "      <th>compound</th>\n",
       "      <th>features</th>\n",
       "      <th>target</th>\n",
       "    </tr>\n",
       "  </thead>\n",
       "  <tbody>\n",
       "    <tr>\n",
       "      <th>1183</th>\n",
       "      <td>0.0</td>\n",
       "      <td>0.133</td>\n",
       "      <td>0.867</td>\n",
       "      <td>0.7579</td>\n",
       "      <td>Good for a laugh</td>\n",
       "      <td>0</td>\n",
       "    </tr>\n",
       "    <tr>\n",
       "      <th>1136</th>\n",
       "      <td>0.0</td>\n",
       "      <td>0.238</td>\n",
       "      <td>0.762</td>\n",
       "      <td>0.4939</td>\n",
       "      <td>Friendly Reminder</td>\n",
       "      <td>0</td>\n",
       "    </tr>\n",
       "    <tr>\n",
       "      <th>1404</th>\n",
       "      <td>0.0</td>\n",
       "      <td>0.263</td>\n",
       "      <td>0.737</td>\n",
       "      <td>0.4215</td>\n",
       "      <td>True Jedi</td>\n",
       "      <td>0</td>\n",
       "    </tr>\n",
       "    <tr>\n",
       "      <th>1526</th>\n",
       "      <td>0.0</td>\n",
       "      <td>0.263</td>\n",
       "      <td>0.737</td>\n",
       "      <td>0.8555</td>\n",
       "      <td>Ahmed Best is the best.</td>\n",
       "      <td>0</td>\n",
       "    </tr>\n",
       "    <tr>\n",
       "      <th>1671</th>\n",
       "      <td>0.0</td>\n",
       "      <td>0.303</td>\n",
       "      <td>0.697</td>\n",
       "      <td>0.3182</td>\n",
       "      <td>PLEASE READ</td>\n",
       "      <td>0</td>\n",
       "    </tr>\n",
       "  </tbody>\n",
       "</table>\n",
       "</div>"
      ],
      "text/plain": [
       "      neg    neu    pos  compound                  features  target\n",
       "1183  0.0  0.133  0.867    0.7579         Good for a laugh        0\n",
       "1136  0.0  0.238  0.762    0.4939        Friendly Reminder        0\n",
       "1404  0.0  0.263  0.737    0.4215                True Jedi        0\n",
       "1526  0.0  0.263  0.737    0.8555  Ahmed Best is the best.        0\n",
       "1671  0.0  0.303  0.697    0.3182              PLEASE READ        0"
      ]
     },
     "execution_count": 176,
     "metadata": {},
     "output_type": "execute_result"
    }
   ],
   "source": [
    "# Find the most postive comments in Star Wars Cantina\n",
    "df_swc.sort_values(by='pos', ascending = False).head()"
   ]
  },
  {
   "cell_type": "code",
   "execution_count": 177,
   "metadata": {},
   "outputs": [
    {
     "data": {
      "text/html": [
       "<div>\n",
       "<style scoped>\n",
       "    .dataframe tbody tr th:only-of-type {\n",
       "        vertical-align: middle;\n",
       "    }\n",
       "\n",
       "    .dataframe tbody tr th {\n",
       "        vertical-align: top;\n",
       "    }\n",
       "\n",
       "    .dataframe thead th {\n",
       "        text-align: right;\n",
       "    }\n",
       "</style>\n",
       "<table border=\"1\" class=\"dataframe\">\n",
       "  <thead>\n",
       "    <tr style=\"text-align: right;\">\n",
       "      <th></th>\n",
       "      <th>neg</th>\n",
       "      <th>neu</th>\n",
       "      <th>pos</th>\n",
       "      <th>compound</th>\n",
       "      <th>features</th>\n",
       "      <th>target</th>\n",
       "    </tr>\n",
       "  </thead>\n",
       "  <tbody>\n",
       "    <tr>\n",
       "      <th>1497</th>\n",
       "      <td>1.000</td>\n",
       "      <td>0.000</td>\n",
       "      <td>0.0</td>\n",
       "      <td>-0.2244</td>\n",
       "      <td>Badass !</td>\n",
       "      <td>0</td>\n",
       "    </tr>\n",
       "    <tr>\n",
       "      <th>1903</th>\n",
       "      <td>0.756</td>\n",
       "      <td>0.244</td>\n",
       "      <td>0.0</td>\n",
       "      <td>-0.4767</td>\n",
       "      <td>Wallpaper accident</td>\n",
       "      <td>0</td>\n",
       "    </tr>\n",
       "    <tr>\n",
       "      <th>1047</th>\n",
       "      <td>0.625</td>\n",
       "      <td>0.375</td>\n",
       "      <td>0.0</td>\n",
       "      <td>-0.6124</td>\n",
       "      <td>Hard Star Wars Knowledge Quiz</td>\n",
       "      <td>0</td>\n",
       "    </tr>\n",
       "    <tr>\n",
       "      <th>1467</th>\n",
       "      <td>0.621</td>\n",
       "      <td>0.379</td>\n",
       "      <td>0.0</td>\n",
       "      <td>-0.8481</td>\n",
       "      <td>Star Wars #6 Was Wild as Hell</td>\n",
       "      <td>0</td>\n",
       "    </tr>\n",
       "    <tr>\n",
       "      <th>1541</th>\n",
       "      <td>0.608</td>\n",
       "      <td>0.392</td>\n",
       "      <td>0.0</td>\n",
       "      <td>-0.8971</td>\n",
       "      <td>There Really Are Things Worse Than Death [Star...</td>\n",
       "      <td>0</td>\n",
       "    </tr>\n",
       "  </tbody>\n",
       "</table>\n",
       "</div>"
      ],
      "text/plain": [
       "        neg    neu  pos  compound  \\\n",
       "1497  1.000  0.000  0.0   -0.2244   \n",
       "1903  0.756  0.244  0.0   -0.4767   \n",
       "1047  0.625  0.375  0.0   -0.6124   \n",
       "1467  0.621  0.379  0.0   -0.8481   \n",
       "1541  0.608  0.392  0.0   -0.8971   \n",
       "\n",
       "                                               features  target  \n",
       "1497                                          Badass !        0  \n",
       "1903                                Wallpaper accident        0  \n",
       "1047                     Hard Star Wars Knowledge Quiz        0  \n",
       "1467                     Star Wars #6 Was Wild as Hell        0  \n",
       "1541  There Really Are Things Worse Than Death [Star...       0  "
      ]
     },
     "execution_count": 177,
     "metadata": {},
     "output_type": "execute_result"
    }
   ],
   "source": [
    "# Find the most negative comments in Star Wars Cantina\n",
    "df_swc.sort_values(by='neg', ascending = False).head()"
   ]
  },
  {
   "cell_type": "code",
   "execution_count": 179,
   "metadata": {},
   "outputs": [
    {
     "data": {
      "text/html": [
       "<div>\n",
       "<style scoped>\n",
       "    .dataframe tbody tr th:only-of-type {\n",
       "        vertical-align: middle;\n",
       "    }\n",
       "\n",
       "    .dataframe tbody tr th {\n",
       "        vertical-align: top;\n",
       "    }\n",
       "\n",
       "    .dataframe thead th {\n",
       "        text-align: right;\n",
       "    }\n",
       "</style>\n",
       "<table border=\"1\" class=\"dataframe\">\n",
       "  <thead>\n",
       "    <tr style=\"text-align: right;\">\n",
       "      <th></th>\n",
       "      <th>neg</th>\n",
       "      <th>neu</th>\n",
       "      <th>pos</th>\n",
       "      <th>compound</th>\n",
       "    </tr>\n",
       "  </thead>\n",
       "  <tbody>\n",
       "    <tr>\n",
       "      <th>0</th>\n",
       "      <td>0.000</td>\n",
       "      <td>1.000</td>\n",
       "      <td>0.000</td>\n",
       "      <td>0.0000</td>\n",
       "    </tr>\n",
       "    <tr>\n",
       "      <th>1</th>\n",
       "      <td>0.101</td>\n",
       "      <td>0.899</td>\n",
       "      <td>0.000</td>\n",
       "      <td>-0.5574</td>\n",
       "    </tr>\n",
       "    <tr>\n",
       "      <th>2</th>\n",
       "      <td>0.190</td>\n",
       "      <td>0.810</td>\n",
       "      <td>0.000</td>\n",
       "      <td>-0.7269</td>\n",
       "    </tr>\n",
       "    <tr>\n",
       "      <th>3</th>\n",
       "      <td>0.433</td>\n",
       "      <td>0.429</td>\n",
       "      <td>0.137</td>\n",
       "      <td>-0.7845</td>\n",
       "    </tr>\n",
       "    <tr>\n",
       "      <th>4</th>\n",
       "      <td>0.000</td>\n",
       "      <td>1.000</td>\n",
       "      <td>0.000</td>\n",
       "      <td>0.0000</td>\n",
       "    </tr>\n",
       "  </tbody>\n",
       "</table>\n",
       "</div>"
      ],
      "text/plain": [
       "     neg    neu    pos  compound\n",
       "0  0.000  1.000  0.000    0.0000\n",
       "1  0.101  0.899  0.000   -0.5574\n",
       "2  0.190  0.810  0.000   -0.7269\n",
       "3  0.433  0.429  0.137   -0.7845\n",
       "4  0.000  1.000  0.000    0.0000"
      ]
     },
     "execution_count": 179,
     "metadata": {},
     "output_type": "execute_result"
    }
   ],
   "source": [
    "# Limit the dataset to only the VADER scores\n",
    "df_vader.drop(columns=['features', 'target'], inplace = True)\n",
    "df_vader.head()"
   ]
  },
  {
   "cell_type": "code",
   "execution_count": 180,
   "metadata": {},
   "outputs": [
    {
     "data": {
      "text/html": [
       "<div>\n",
       "<style scoped>\n",
       "    .dataframe tbody tr th:only-of-type {\n",
       "        vertical-align: middle;\n",
       "    }\n",
       "\n",
       "    .dataframe tbody tr th {\n",
       "        vertical-align: top;\n",
       "    }\n",
       "\n",
       "    .dataframe thead th {\n",
       "        text-align: right;\n",
       "    }\n",
       "</style>\n",
       "<table border=\"1\" class=\"dataframe\">\n",
       "  <thead>\n",
       "    <tr style=\"text-align: right;\">\n",
       "      <th></th>\n",
       "      <th>title</th>\n",
       "      <th>score</th>\n",
       "      <th>id</th>\n",
       "      <th>url</th>\n",
       "      <th>comms_num</th>\n",
       "      <th>created</th>\n",
       "      <th>body</th>\n",
       "      <th>subreddit</th>\n",
       "      <th>features</th>\n",
       "      <th>target</th>\n",
       "      <th>feature_length</th>\n",
       "      <th>feature_word_count</th>\n",
       "      <th>tgt</th>\n",
       "    </tr>\n",
       "  </thead>\n",
       "  <tbody>\n",
       "    <tr>\n",
       "      <th>0</th>\n",
       "      <td>When exactly did this whole Force dyad between...</td>\n",
       "      <td>5</td>\n",
       "      <td>jakk3z</td>\n",
       "      <td>https://www.reddit.com/r/saltierthancrait/comm...</td>\n",
       "      <td>9</td>\n",
       "      <td>1.602646e+09</td>\n",
       "      <td></td>\n",
       "      <td>saltierthancrait</td>\n",
       "      <td>When exactly did this whole Force dyad between...</td>\n",
       "      <td>1</td>\n",
       "      <td>77</td>\n",
       "      <td>14</td>\n",
       "      <td>1</td>\n",
       "    </tr>\n",
       "    <tr>\n",
       "      <th>1</th>\n",
       "      <td>Hol up, can you even jam speeders?</td>\n",
       "      <td>5</td>\n",
       "      <td>jaj49d</td>\n",
       "      <td>https://www.reddit.com/r/saltierthancrait/comm...</td>\n",
       "      <td>10</td>\n",
       "      <td>1.602642e+09</td>\n",
       "      <td>Just thinking about that scene and how massive...</td>\n",
       "      <td>saltierthancrait</td>\n",
       "      <td>Hol up, can you even jam speeders? Just thinki...</td>\n",
       "      <td>1</td>\n",
       "      <td>185</td>\n",
       "      <td>35</td>\n",
       "      <td>1</td>\n",
       "    </tr>\n",
       "    <tr>\n",
       "      <th>2</th>\n",
       "      <td>Remember in Battlefront 2 (newer one) when you...</td>\n",
       "      <td>86</td>\n",
       "      <td>jah2m7</td>\n",
       "      <td>https://www.reddit.com/r/saltierthancrait/comm...</td>\n",
       "      <td>13</td>\n",
       "      <td>1.602636e+09</td>\n",
       "      <td>Because The Rise of Skywalker doesn't seem to</td>\n",
       "      <td>saltierthancrait</td>\n",
       "      <td>Remember in Battlefront 2 (newer one) when you...</td>\n",
       "      <td>1</td>\n",
       "      <td>171</td>\n",
       "      <td>30</td>\n",
       "      <td>1</td>\n",
       "    </tr>\n",
       "    <tr>\n",
       "      <th>3</th>\n",
       "      <td>Just a friendly reminder of how badly Star War...</td>\n",
       "      <td>324</td>\n",
       "      <td>jah1uf</td>\n",
       "      <td>https://i.redd.it/nlzsftux3ws51.png</td>\n",
       "      <td>45</td>\n",
       "      <td>1.602636e+09</td>\n",
       "      <td></td>\n",
       "      <td>saltierthancrait</td>\n",
       "      <td>Just a friendly reminder of how badly Star War...</td>\n",
       "      <td>1</td>\n",
       "      <td>85</td>\n",
       "      <td>16</td>\n",
       "      <td>1</td>\n",
       "    </tr>\n",
       "    <tr>\n",
       "      <th>4</th>\n",
       "      <td>Dark Empire Episode 1: The Destiny of a Jedi (...</td>\n",
       "      <td>5</td>\n",
       "      <td>jaflwe</td>\n",
       "      <td>https://www.youtube.com/watch?v=lADCO-Ar76U</td>\n",
       "      <td>2</td>\n",
       "      <td>1.602631e+09</td>\n",
       "      <td></td>\n",
       "      <td>saltierthancrait</td>\n",
       "      <td>Dark Empire Episode 1: The Destiny of a Jedi (...</td>\n",
       "      <td>1</td>\n",
       "      <td>61</td>\n",
       "      <td>11</td>\n",
       "      <td>1</td>\n",
       "    </tr>\n",
       "  </tbody>\n",
       "</table>\n",
       "</div>"
      ],
      "text/plain": [
       "                                               title  score      id  \\\n",
       "0  When exactly did this whole Force dyad between...      5  jakk3z   \n",
       "1                 Hol up, can you even jam speeders?      5  jaj49d   \n",
       "2  Remember in Battlefront 2 (newer one) when you...     86  jah2m7   \n",
       "3  Just a friendly reminder of how badly Star War...    324  jah1uf   \n",
       "4  Dark Empire Episode 1: The Destiny of a Jedi (...      5  jaflwe   \n",
       "\n",
       "                                                 url  comms_num       created  \\\n",
       "0  https://www.reddit.com/r/saltierthancrait/comm...          9  1.602646e+09   \n",
       "1  https://www.reddit.com/r/saltierthancrait/comm...         10  1.602642e+09   \n",
       "2  https://www.reddit.com/r/saltierthancrait/comm...         13  1.602636e+09   \n",
       "3                https://i.redd.it/nlzsftux3ws51.png         45  1.602636e+09   \n",
       "4        https://www.youtube.com/watch?v=lADCO-Ar76U          2  1.602631e+09   \n",
       "\n",
       "                                                body         subreddit  \\\n",
       "0                                                     saltierthancrait   \n",
       "1  Just thinking about that scene and how massive...  saltierthancrait   \n",
       "2      Because The Rise of Skywalker doesn't seem to  saltierthancrait   \n",
       "3                                                     saltierthancrait   \n",
       "4                                                     saltierthancrait   \n",
       "\n",
       "                                            features  target  feature_length  \\\n",
       "0  When exactly did this whole Force dyad between...       1              77   \n",
       "1  Hol up, can you even jam speeders? Just thinki...       1             185   \n",
       "2  Remember in Battlefront 2 (newer one) when you...       1             171   \n",
       "3  Just a friendly reminder of how badly Star War...       1              85   \n",
       "4  Dark Empire Episode 1: The Destiny of a Jedi (...       1              61   \n",
       "\n",
       "   feature_word_count  tgt  \n",
       "0                  14    1  \n",
       "1                  35    1  \n",
       "2                  30    1  \n",
       "3                  16    1  \n",
       "4                  11    1  "
      ]
     },
     "execution_count": 180,
     "metadata": {},
     "output_type": "execute_result"
    }
   ],
   "source": [
    "df1.head()"
   ]
  },
  {
   "cell_type": "code",
   "execution_count": 181,
   "metadata": {},
   "outputs": [
    {
     "data": {
      "text/html": [
       "<div>\n",
       "<style scoped>\n",
       "    .dataframe tbody tr th:only-of-type {\n",
       "        vertical-align: middle;\n",
       "    }\n",
       "\n",
       "    .dataframe tbody tr th {\n",
       "        vertical-align: top;\n",
       "    }\n",
       "\n",
       "    .dataframe thead th {\n",
       "        text-align: right;\n",
       "    }\n",
       "</style>\n",
       "<table border=\"1\" class=\"dataframe\">\n",
       "  <thead>\n",
       "    <tr style=\"text-align: right;\">\n",
       "      <th></th>\n",
       "      <th>title</th>\n",
       "      <th>score</th>\n",
       "      <th>id</th>\n",
       "      <th>url</th>\n",
       "      <th>comms_num</th>\n",
       "      <th>created</th>\n",
       "      <th>body</th>\n",
       "      <th>subreddit</th>\n",
       "      <th>features</th>\n",
       "      <th>target</th>\n",
       "      <th>feature_length</th>\n",
       "      <th>feature_word_count</th>\n",
       "      <th>tgt</th>\n",
       "      <th>neg</th>\n",
       "      <th>neu</th>\n",
       "      <th>pos</th>\n",
       "      <th>compound</th>\n",
       "    </tr>\n",
       "  </thead>\n",
       "  <tbody>\n",
       "    <tr>\n",
       "      <th>0</th>\n",
       "      <td>When exactly did this whole Force dyad between...</td>\n",
       "      <td>5</td>\n",
       "      <td>jakk3z</td>\n",
       "      <td>https://www.reddit.com/r/saltierthancrait/comm...</td>\n",
       "      <td>9</td>\n",
       "      <td>1.602646e+09</td>\n",
       "      <td></td>\n",
       "      <td>saltierthancrait</td>\n",
       "      <td>When exactly did this whole Force dyad between...</td>\n",
       "      <td>1</td>\n",
       "      <td>77</td>\n",
       "      <td>14</td>\n",
       "      <td>1</td>\n",
       "      <td>0.0</td>\n",
       "      <td>1.0</td>\n",
       "      <td>0.0</td>\n",
       "      <td>0.0</td>\n",
       "    </tr>\n",
       "  </tbody>\n",
       "</table>\n",
       "</div>"
      ],
      "text/plain": [
       "                                               title  score      id  \\\n",
       "0  When exactly did this whole Force dyad between...      5  jakk3z   \n",
       "\n",
       "                                                 url  comms_num       created  \\\n",
       "0  https://www.reddit.com/r/saltierthancrait/comm...          9  1.602646e+09   \n",
       "\n",
       "  body         subreddit                                           features  \\\n",
       "0       saltierthancrait  When exactly did this whole Force dyad between...   \n",
       "\n",
       "   target  feature_length  feature_word_count  tgt  neg  neu  pos  compound  \n",
       "0       1              77                  14    1  0.0  1.0  0.0       0.0  "
      ]
     },
     "execution_count": 181,
     "metadata": {},
     "output_type": "execute_result"
    }
   ],
   "source": [
    "# Add the VADER scores to our dataframe\n",
    "df2 = pd.concat([df1, df_vader], axis =1)\n",
    "df2.head(1)"
   ]
  },
  {
   "cell_type": "code",
   "execution_count": 182,
   "metadata": {},
   "outputs": [
    {
     "data": {
      "text/plain": [
       "<Figure size 720x360 with 0 Axes>"
      ]
     },
     "metadata": {},
     "output_type": "display_data"
    },
    {
     "data": {
      "image/png": "[encoded data removed]",
      "text/plain": [
       "<Figure size 720x360 with 1 Axes>"
      ]
     },
     "metadata": {
      "needs_background": "light"
     },
     "output_type": "display_data"
    }
   ],
   "source": [
    "# Plot the VADER scores for the two subreddits\n",
    "plt.figure(figsize = (10, 5))\n",
    "df2.groupby('subreddit').mean()[['pos', 'neg', 'compound']].plot(kind='barh', color = ['grey', 'black', 'red'], figsize = (10, 5))\n",
    "plt.title('Average Positive, Negative & Compound Scores')\n",
    "\n",
    "plt.savefig(\"../figs/vader.png\");"
   ]
  },
  {
   "cell_type": "markdown",
   "metadata": {},
   "source": [
    "# Data Cleaning"
   ]
  },
  {
   "cell_type": "code",
   "execution_count": 183,
   "metadata": {},
   "outputs": [],
   "source": [
    "# Get rid of HTML\n",
    "df2['features'] = df2['features'].replace('http\\S+', '', regex=True).replace('www\\S+', '', regex=True).replace('#\\S+', '', regex=True).replace('\\n\\n\\S+', '', regex=True)"
   ]
  },
  {
   "cell_type": "code",
   "execution_count": 184,
   "metadata": {},
   "outputs": [],
   "source": [
    "# This function is going to remove punctuation and make the text lower case\n",
    "\n",
    "def remove_punctuation(text):\n",
    "    lower = text.lower()  \n",
    "    exclude = string.punctuation  #identifies punctuation marks\n",
    "    return \"\".join(ch for ch in lower if ch not in exclude) \n",
    "   #this iterates through each character, if the character is not a punctuation mark it will join to the empty string"
   ]
  },
  {
   "cell_type": "code",
   "execution_count": 185,
   "metadata": {},
   "outputs": [],
   "source": [
    "df2['features'] = df2['features'].apply(remove_punctuation)"
   ]
  },
  {
   "cell_type": "code",
   "execution_count": 186,
   "metadata": {},
   "outputs": [],
   "source": [
    "# Instantiate Porter Stemmer\n",
    "stemmer = PorterStemmer()  #instantiate stemmer"
   ]
  },
  {
   "cell_type": "code",
   "execution_count": 187,
   "metadata": {},
   "outputs": [],
   "source": [
    "# This function will stem all the words in our features\n",
    "def split_and_stem(string):\n",
    "    word = \"\"   #empty string\n",
    "    string = string.split(' ') #creates list of words\n",
    "    for i in string: #iterates through that list of words\n",
    "        word += (stemmer.stem(i) + \" \")  #stems each word and adds to empty string\n",
    "    return word  #returns string with stemmed words"
   ]
  },
  {
   "cell_type": "code",
   "execution_count": 188,
   "metadata": {},
   "outputs": [],
   "source": [
    "# Stemming didn't seem to do much for my models so I'm taking it out for now\n",
    "#df2['features'] = df['features'].apply(split_and_stem)"
   ]
  },
  {
   "cell_type": "code",
   "execution_count": 189,
   "metadata": {},
   "outputs": [
    {
     "data": {
      "text/html": [
       "<div>\n",
       "<style scoped>\n",
       "    .dataframe tbody tr th:only-of-type {\n",
       "        vertical-align: middle;\n",
       "    }\n",
       "\n",
       "    .dataframe tbody tr th {\n",
       "        vertical-align: top;\n",
       "    }\n",
       "\n",
       "    .dataframe thead th {\n",
       "        text-align: right;\n",
       "    }\n",
       "</style>\n",
       "<table border=\"1\" class=\"dataframe\">\n",
       "  <thead>\n",
       "    <tr style=\"text-align: right;\">\n",
       "      <th></th>\n",
       "      <th>title</th>\n",
       "      <th>score</th>\n",
       "      <th>id</th>\n",
       "      <th>url</th>\n",
       "      <th>comms_num</th>\n",
       "      <th>created</th>\n",
       "      <th>body</th>\n",
       "      <th>subreddit</th>\n",
       "      <th>features</th>\n",
       "      <th>target</th>\n",
       "      <th>feature_length</th>\n",
       "      <th>feature_word_count</th>\n",
       "      <th>tgt</th>\n",
       "      <th>neg</th>\n",
       "      <th>neu</th>\n",
       "      <th>pos</th>\n",
       "      <th>compound</th>\n",
       "    </tr>\n",
       "  </thead>\n",
       "  <tbody>\n",
       "    <tr>\n",
       "      <th>0</th>\n",
       "      <td>When exactly did this whole Force dyad between...</td>\n",
       "      <td>5</td>\n",
       "      <td>jakk3z</td>\n",
       "      <td>https://www.reddit.com/r/saltierthancrait/comm...</td>\n",
       "      <td>9</td>\n",
       "      <td>1.602646e+09</td>\n",
       "      <td></td>\n",
       "      <td>saltierthancrait</td>\n",
       "      <td>when exactly did this whole force dyad between...</td>\n",
       "      <td>1</td>\n",
       "      <td>77</td>\n",
       "      <td>14</td>\n",
       "      <td>1</td>\n",
       "      <td>0.000</td>\n",
       "      <td>1.000</td>\n",
       "      <td>0.000</td>\n",
       "      <td>0.0000</td>\n",
       "    </tr>\n",
       "    <tr>\n",
       "      <th>1</th>\n",
       "      <td>Hol up, can you even jam speeders?</td>\n",
       "      <td>5</td>\n",
       "      <td>jaj49d</td>\n",
       "      <td>https://www.reddit.com/r/saltierthancrait/comm...</td>\n",
       "      <td>10</td>\n",
       "      <td>1.602642e+09</td>\n",
       "      <td>Just thinking about that scene and how massive...</td>\n",
       "      <td>saltierthancrait</td>\n",
       "      <td>hol up can you even jam speeders just thinking...</td>\n",
       "      <td>1</td>\n",
       "      <td>185</td>\n",
       "      <td>35</td>\n",
       "      <td>1</td>\n",
       "      <td>0.101</td>\n",
       "      <td>0.899</td>\n",
       "      <td>0.000</td>\n",
       "      <td>-0.5574</td>\n",
       "    </tr>\n",
       "    <tr>\n",
       "      <th>2</th>\n",
       "      <td>Remember in Battlefront 2 (newer one) when you...</td>\n",
       "      <td>86</td>\n",
       "      <td>jah2m7</td>\n",
       "      <td>https://www.reddit.com/r/saltierthancrait/comm...</td>\n",
       "      <td>13</td>\n",
       "      <td>1.602636e+09</td>\n",
       "      <td>Because The Rise of Skywalker doesn't seem to</td>\n",
       "      <td>saltierthancrait</td>\n",
       "      <td>remember in battlefront 2 newer one when you f...</td>\n",
       "      <td>1</td>\n",
       "      <td>171</td>\n",
       "      <td>30</td>\n",
       "      <td>1</td>\n",
       "      <td>0.190</td>\n",
       "      <td>0.810</td>\n",
       "      <td>0.000</td>\n",
       "      <td>-0.7269</td>\n",
       "    </tr>\n",
       "    <tr>\n",
       "      <th>3</th>\n",
       "      <td>Just a friendly reminder of how badly Star War...</td>\n",
       "      <td>324</td>\n",
       "      <td>jah1uf</td>\n",
       "      <td>https://i.redd.it/nlzsftux3ws51.png</td>\n",
       "      <td>45</td>\n",
       "      <td>1.602636e+09</td>\n",
       "      <td></td>\n",
       "      <td>saltierthancrait</td>\n",
       "      <td>just a friendly reminder of how badly star war...</td>\n",
       "      <td>1</td>\n",
       "      <td>85</td>\n",
       "      <td>16</td>\n",
       "      <td>1</td>\n",
       "      <td>0.433</td>\n",
       "      <td>0.429</td>\n",
       "      <td>0.137</td>\n",
       "      <td>-0.7845</td>\n",
       "    </tr>\n",
       "    <tr>\n",
       "      <th>4</th>\n",
       "      <td>Dark Empire Episode 1: The Destiny of a Jedi (...</td>\n",
       "      <td>5</td>\n",
       "      <td>jaflwe</td>\n",
       "      <td>https://www.youtube.com/watch?v=lADCO-Ar76U</td>\n",
       "      <td>2</td>\n",
       "      <td>1.602631e+09</td>\n",
       "      <td></td>\n",
       "      <td>saltierthancrait</td>\n",
       "      <td>dark empire episode 1 the destiny of a jedi fa...</td>\n",
       "      <td>1</td>\n",
       "      <td>61</td>\n",
       "      <td>11</td>\n",
       "      <td>1</td>\n",
       "      <td>0.000</td>\n",
       "      <td>1.000</td>\n",
       "      <td>0.000</td>\n",
       "      <td>0.0000</td>\n",
       "    </tr>\n",
       "  </tbody>\n",
       "</table>\n",
       "</div>"
      ],
      "text/plain": [
       "                                               title  score      id  \\\n",
       "0  When exactly did this whole Force dyad between...      5  jakk3z   \n",
       "1                 Hol up, can you even jam speeders?      5  jaj49d   \n",
       "2  Remember in Battlefront 2 (newer one) when you...     86  jah2m7   \n",
       "3  Just a friendly reminder of how badly Star War...    324  jah1uf   \n",
       "4  Dark Empire Episode 1: The Destiny of a Jedi (...      5  jaflwe   \n",
       "\n",
       "                                                 url  comms_num       created  \\\n",
       "0  https://www.reddit.com/r/saltierthancrait/comm...          9  1.602646e+09   \n",
       "1  https://www.reddit.com/r/saltierthancrait/comm...         10  1.602642e+09   \n",
       "2  https://www.reddit.com/r/saltierthancrait/comm...         13  1.602636e+09   \n",
       "3                https://i.redd.it/nlzsftux3ws51.png         45  1.602636e+09   \n",
       "4        https://www.youtube.com/watch?v=lADCO-Ar76U          2  1.602631e+09   \n",
       "\n",
       "                                                body         subreddit  \\\n",
       "0                                                     saltierthancrait   \n",
       "1  Just thinking about that scene and how massive...  saltierthancrait   \n",
       "2      Because The Rise of Skywalker doesn't seem to  saltierthancrait   \n",
       "3                                                     saltierthancrait   \n",
       "4                                                     saltierthancrait   \n",
       "\n",
       "                                            features  target  feature_length  \\\n",
       "0  when exactly did this whole force dyad between...       1              77   \n",
       "1  hol up can you even jam speeders just thinking...       1             185   \n",
       "2  remember in battlefront 2 newer one when you f...       1             171   \n",
       "3  just a friendly reminder of how badly star war...       1              85   \n",
       "4  dark empire episode 1 the destiny of a jedi fa...       1              61   \n",
       "\n",
       "   feature_word_count  tgt    neg    neu    pos  compound  \n",
       "0                  14    1  0.000  1.000  0.000    0.0000  \n",
       "1                  35    1  0.101  0.899  0.000   -0.5574  \n",
       "2                  30    1  0.190  0.810  0.000   -0.7269  \n",
       "3                  16    1  0.433  0.429  0.137   -0.7845  \n",
       "4                  11    1  0.000  1.000  0.000    0.0000  "
      ]
     },
     "execution_count": 189,
     "metadata": {},
     "output_type": "execute_result"
    }
   ],
   "source": [
    "df2.head()"
   ]
  },
  {
   "cell_type": "code",
   "execution_count": 192,
   "metadata": {},
   "outputs": [
    {
     "data": {
      "text/plain": [
       "(1909, 17)"
      ]
     },
     "execution_count": 192,
     "metadata": {},
     "output_type": "execute_result"
    }
   ],
   "source": [
    "# I also tried to get rid of short features, but this made my models worse - perhaps because I'm using word count as a feature\n",
    "#df2 = df2[df2['feature_word_count'] > 3]\n",
    "#df2.shape"
   ]
  },
  {
   "cell_type": "code",
   "execution_count": 193,
   "metadata": {},
   "outputs": [],
   "source": [
    "# Save the model training dataset to CSV\n",
    "df2.to_csv('../data/text_count_sentiment.csv')"
   ]
  },
  {
   "cell_type": "code",
   "execution_count": null,
   "metadata": {},
   "outputs": [],
   "source": []
  }
 ],
 "metadata": {
  "kernelspec": {
   "display_name": "Python 3",
   "language": "python",
   "name": "python3"
  },
  "language_info": {
   "codemirror_mode": {
    "name": "ipython",
    "version": 3
   },
   "file_extension": ".py",
   "mimetype": "text/x-python",
   "name": "python",
   "nbconvert_exporter": "python",
   "pygments_lexer": "ipython3",
   "version": "3.8.5"
  }
 },
 "nbformat": 4,
 "nbformat_minor": 4
}
