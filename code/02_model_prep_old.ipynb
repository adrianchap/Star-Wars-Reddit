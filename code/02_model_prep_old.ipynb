{
 "cells": [
  {
   "cell_type": "code",
   "execution_count": 1,
   "metadata": {},
   "outputs": [],
   "source": [
    "# imports\n",
    "import numpy as np\n",
    "import pandas as pd\n",
    "import matplotlib.pyplot as plt\n",
    "import seaborn as sns\n",
    "\n",
    "# Import train_test_split. Crossval score. Gridsearch CV\n",
    "from sklearn.model_selection import train_test_split, cross_val_score, GridSearchCV\n",
    "\n",
    "# Import Standard Scaller\n",
    "from sklearn.preprocessing import StandardScaler\n",
    "\n",
    "\n",
    "# Import logistic regression. KNN.\n",
    "from sklearn.linear_model import LogisticRegression\n",
    "from sklearn.neighbors import KNeighborsClassifier\n",
    "\n",
    "# Import metrics\n",
    "from sklearn import metrics\n",
    "\n",
    "#Import Pipeline\n",
    "from sklearn.pipeline import Pipeline\n",
    "\n",
    "from sklearn.feature_extraction.text import CountVectorizer, TfidfVectorizer\n",
    "\n",
    "\n",
    "# imports\n",
    "\n",
    "from sklearn.ensemble import RandomForestClassifier, ExtraTreesClassifier\n",
    "\n",
    "from nltk.stem.porter import PorterStemmer\n",
    "import string\n",
    "\n",
    "\n",
    "\n",
    "\n",
    "\n",
    "from sklearn.naive_bayes import MultinomialNB\n",
    "from sklearn.metrics import confusion_matrix, plot_confusion_matrix\n",
    "\n",
    "\n",
    "# Import CountVectorizer and TFIDFVectorizer from feature_extraction.text.\n",
    "from sklearn.feature_extraction.text import CountVectorizer, TfidfVectorizer"
   ]
  },
  {
   "cell_type": "code",
   "execution_count": 2,
   "metadata": {},
   "outputs": [],
   "source": [
    "# Read in the Reddit data\n",
    "df = pd.read_csv('./data/redditproject.csv')"
   ]
  },
  {
   "cell_type": "code",
   "execution_count": 3,
   "metadata": {},
   "outputs": [
    {
     "data": {
      "text/html": [
       "<div>\n",
       "<style scoped>\n",
       "    .dataframe tbody tr th:only-of-type {\n",
       "        vertical-align: middle;\n",
       "    }\n",
       "\n",
       "    .dataframe tbody tr th {\n",
       "        vertical-align: top;\n",
       "    }\n",
       "\n",
       "    .dataframe thead th {\n",
       "        text-align: right;\n",
       "    }\n",
       "</style>\n",
       "<table border=\"1\" class=\"dataframe\">\n",
       "  <thead>\n",
       "    <tr style=\"text-align: right;\">\n",
       "      <th></th>\n",
       "      <th>title</th>\n",
       "      <th>score</th>\n",
       "      <th>id</th>\n",
       "      <th>url</th>\n",
       "      <th>comms_num</th>\n",
       "      <th>created</th>\n",
       "      <th>body</th>\n",
       "      <th>subreddit</th>\n",
       "    </tr>\n",
       "  </thead>\n",
       "  <tbody>\n",
       "    <tr>\n",
       "      <th>0</th>\n",
       "      <td>When exactly did this whole Force dyad between...</td>\n",
       "      <td>5</td>\n",
       "      <td>jakk3z</td>\n",
       "      <td>https://www.reddit.com/r/saltierthancrait/comm...</td>\n",
       "      <td>9</td>\n",
       "      <td>1.602646e+09</td>\n",
       "      <td>NaN</td>\n",
       "      <td>saltierthancrait</td>\n",
       "    </tr>\n",
       "    <tr>\n",
       "      <th>1</th>\n",
       "      <td>Hol up, can you even jam speeders?</td>\n",
       "      <td>5</td>\n",
       "      <td>jaj49d</td>\n",
       "      <td>https://www.reddit.com/r/saltierthancrait/comm...</td>\n",
       "      <td>10</td>\n",
       "      <td>1.602642e+09</td>\n",
       "      <td>Just thinking about that scene and how massive...</td>\n",
       "      <td>saltierthancrait</td>\n",
       "    </tr>\n",
       "    <tr>\n",
       "      <th>2</th>\n",
       "      <td>Remember in Battlefront 2 (newer one) when you...</td>\n",
       "      <td>86</td>\n",
       "      <td>jah2m7</td>\n",
       "      <td>https://www.reddit.com/r/saltierthancrait/comm...</td>\n",
       "      <td>13</td>\n",
       "      <td>1.602636e+09</td>\n",
       "      <td>Because The Rise of Skywalker doesn't seem to</td>\n",
       "      <td>saltierthancrait</td>\n",
       "    </tr>\n",
       "    <tr>\n",
       "      <th>3</th>\n",
       "      <td>Just a friendly reminder of how badly Star War...</td>\n",
       "      <td>324</td>\n",
       "      <td>jah1uf</td>\n",
       "      <td>https://i.redd.it/nlzsftux3ws51.png</td>\n",
       "      <td>45</td>\n",
       "      <td>1.602636e+09</td>\n",
       "      <td>NaN</td>\n",
       "      <td>saltierthancrait</td>\n",
       "    </tr>\n",
       "    <tr>\n",
       "      <th>4</th>\n",
       "      <td>Dark Empire Episode 1: The Destiny of a Jedi (...</td>\n",
       "      <td>5</td>\n",
       "      <td>jaflwe</td>\n",
       "      <td>https://www.youtube.com/watch?v=lADCO-Ar76U</td>\n",
       "      <td>2</td>\n",
       "      <td>1.602631e+09</td>\n",
       "      <td>NaN</td>\n",
       "      <td>saltierthancrait</td>\n",
       "    </tr>\n",
       "  </tbody>\n",
       "</table>\n",
       "</div>"
      ],
      "text/plain": [
       "                                               title  score      id  \\\n",
       "0  When exactly did this whole Force dyad between...      5  jakk3z   \n",
       "1                 Hol up, can you even jam speeders?      5  jaj49d   \n",
       "2  Remember in Battlefront 2 (newer one) when you...     86  jah2m7   \n",
       "3  Just a friendly reminder of how badly Star War...    324  jah1uf   \n",
       "4  Dark Empire Episode 1: The Destiny of a Jedi (...      5  jaflwe   \n",
       "\n",
       "                                                 url  comms_num       created  \\\n",
       "0  https://www.reddit.com/r/saltierthancrait/comm...          9  1.602646e+09   \n",
       "1  https://www.reddit.com/r/saltierthancrait/comm...         10  1.602642e+09   \n",
       "2  https://www.reddit.com/r/saltierthancrait/comm...         13  1.602636e+09   \n",
       "3                https://i.redd.it/nlzsftux3ws51.png         45  1.602636e+09   \n",
       "4        https://www.youtube.com/watch?v=lADCO-Ar76U          2  1.602631e+09   \n",
       "\n",
       "                                                body         subreddit  \n",
       "0                                                NaN  saltierthancrait  \n",
       "1  Just thinking about that scene and how massive...  saltierthancrait  \n",
       "2      Because The Rise of Skywalker doesn't seem to  saltierthancrait  \n",
       "3                                                NaN  saltierthancrait  \n",
       "4                                                NaN  saltierthancrait  "
      ]
     },
     "execution_count": 3,
     "metadata": {},
     "output_type": "execute_result"
    }
   ],
   "source": [
    "df.head()"
   ]
  },
  {
   "cell_type": "code",
   "execution_count": 4,
   "metadata": {},
   "outputs": [
    {
     "name": "stdout",
     "output_type": "stream",
     "text": [
      "<class 'pandas.core.frame.DataFrame'>\n",
      "RangeIndex: 1993 entries, 0 to 1992\n",
      "Data columns (total 8 columns):\n",
      " #   Column     Non-Null Count  Dtype  \n",
      "---  ------     --------------  -----  \n",
      " 0   title      1993 non-null   object \n",
      " 1   score      1993 non-null   int64  \n",
      " 2   id         1993 non-null   object \n",
      " 3   url        1993 non-null   object \n",
      " 4   comms_num  1993 non-null   int64  \n",
      " 5   created    1993 non-null   float64\n",
      " 6   body       817 non-null    object \n",
      " 7   subreddit  1993 non-null   object \n",
      "dtypes: float64(1), int64(2), object(5)\n",
      "memory usage: 124.7+ KB\n"
     ]
    }
   ],
   "source": [
    "df.info()"
   ]
  },
  {
   "cell_type": "code",
   "execution_count": 5,
   "metadata": {},
   "outputs": [],
   "source": [
    "# Replace NaN with empty string\n",
    "df = df.replace(np.nan, '', regex=True)"
   ]
  },
  {
   "cell_type": "code",
   "execution_count": 6,
   "metadata": {},
   "outputs": [],
   "source": [
    "# Create a text feature category with title and body\n",
    "df['features'] = df['title'] + ' ' + df['body']"
   ]
  },
  {
   "cell_type": "code",
   "execution_count": 7,
   "metadata": {},
   "outputs": [],
   "source": [
    "# Recode the target variable with a binary. Our positive class is saltierthancrait\n",
    "df['target'] = df['subreddit'].map({'StarWarsCantina': 0, 'saltierthancrait': 1})"
   ]
  },
  {
   "cell_type": "code",
   "execution_count": 8,
   "metadata": {},
   "outputs": [
    {
     "data": {
      "text/plain": [
       "1    0.501254\n",
       "0    0.498746\n",
       "Name: target, dtype: float64"
      ]
     },
     "execution_count": 8,
     "metadata": {},
     "output_type": "execute_result"
    }
   ],
   "source": [
    "df.target.value_counts(normalize = True)"
   ]
  },
  {
   "cell_type": "markdown",
   "metadata": {},
   "source": [
    "# EDA - wordcount!"
   ]
  },
  {
   "cell_type": "code",
   "execution_count": 9,
   "metadata": {},
   "outputs": [],
   "source": [
    "df1 = df.copy()"
   ]
  },
  {
   "cell_type": "code",
   "execution_count": 10,
   "metadata": {},
   "outputs": [
    {
     "data": {
      "text/html": [
       "<div>\n",
       "<style scoped>\n",
       "    .dataframe tbody tr th:only-of-type {\n",
       "        vertical-align: middle;\n",
       "    }\n",
       "\n",
       "    .dataframe tbody tr th {\n",
       "        vertical-align: top;\n",
       "    }\n",
       "\n",
       "    .dataframe thead th {\n",
       "        text-align: right;\n",
       "    }\n",
       "</style>\n",
       "<table border=\"1\" class=\"dataframe\">\n",
       "  <thead>\n",
       "    <tr style=\"text-align: right;\">\n",
       "      <th></th>\n",
       "      <th>title</th>\n",
       "      <th>score</th>\n",
       "      <th>id</th>\n",
       "      <th>url</th>\n",
       "      <th>comms_num</th>\n",
       "      <th>created</th>\n",
       "      <th>body</th>\n",
       "      <th>subreddit</th>\n",
       "      <th>features</th>\n",
       "      <th>target</th>\n",
       "    </tr>\n",
       "  </thead>\n",
       "  <tbody>\n",
       "    <tr>\n",
       "      <th>0</th>\n",
       "      <td>When exactly did this whole Force dyad between...</td>\n",
       "      <td>5</td>\n",
       "      <td>jakk3z</td>\n",
       "      <td>https://www.reddit.com/r/saltierthancrait/comm...</td>\n",
       "      <td>9</td>\n",
       "      <td>1.602646e+09</td>\n",
       "      <td></td>\n",
       "      <td>saltierthancrait</td>\n",
       "      <td>When exactly did this whole Force dyad between...</td>\n",
       "      <td>1</td>\n",
       "    </tr>\n",
       "    <tr>\n",
       "      <th>1</th>\n",
       "      <td>Hol up, can you even jam speeders?</td>\n",
       "      <td>5</td>\n",
       "      <td>jaj49d</td>\n",
       "      <td>https://www.reddit.com/r/saltierthancrait/comm...</td>\n",
       "      <td>10</td>\n",
       "      <td>1.602642e+09</td>\n",
       "      <td>Just thinking about that scene and how massive...</td>\n",
       "      <td>saltierthancrait</td>\n",
       "      <td>Hol up, can you even jam speeders? Just thinki...</td>\n",
       "      <td>1</td>\n",
       "    </tr>\n",
       "    <tr>\n",
       "      <th>2</th>\n",
       "      <td>Remember in Battlefront 2 (newer one) when you...</td>\n",
       "      <td>86</td>\n",
       "      <td>jah2m7</td>\n",
       "      <td>https://www.reddit.com/r/saltierthancrait/comm...</td>\n",
       "      <td>13</td>\n",
       "      <td>1.602636e+09</td>\n",
       "      <td>Because The Rise of Skywalker doesn't seem to</td>\n",
       "      <td>saltierthancrait</td>\n",
       "      <td>Remember in Battlefront 2 (newer one) when you...</td>\n",
       "      <td>1</td>\n",
       "    </tr>\n",
       "    <tr>\n",
       "      <th>3</th>\n",
       "      <td>Just a friendly reminder of how badly Star War...</td>\n",
       "      <td>324</td>\n",
       "      <td>jah1uf</td>\n",
       "      <td>https://i.redd.it/nlzsftux3ws51.png</td>\n",
       "      <td>45</td>\n",
       "      <td>1.602636e+09</td>\n",
       "      <td></td>\n",
       "      <td>saltierthancrait</td>\n",
       "      <td>Just a friendly reminder of how badly Star War...</td>\n",
       "      <td>1</td>\n",
       "    </tr>\n",
       "    <tr>\n",
       "      <th>4</th>\n",
       "      <td>Dark Empire Episode 1: The Destiny of a Jedi (...</td>\n",
       "      <td>5</td>\n",
       "      <td>jaflwe</td>\n",
       "      <td>https://www.youtube.com/watch?v=lADCO-Ar76U</td>\n",
       "      <td>2</td>\n",
       "      <td>1.602631e+09</td>\n",
       "      <td></td>\n",
       "      <td>saltierthancrait</td>\n",
       "      <td>Dark Empire Episode 1: The Destiny of a Jedi (...</td>\n",
       "      <td>1</td>\n",
       "    </tr>\n",
       "  </tbody>\n",
       "</table>\n",
       "</div>"
      ],
      "text/plain": [
       "                                               title  score      id  \\\n",
       "0  When exactly did this whole Force dyad between...      5  jakk3z   \n",
       "1                 Hol up, can you even jam speeders?      5  jaj49d   \n",
       "2  Remember in Battlefront 2 (newer one) when you...     86  jah2m7   \n",
       "3  Just a friendly reminder of how badly Star War...    324  jah1uf   \n",
       "4  Dark Empire Episode 1: The Destiny of a Jedi (...      5  jaflwe   \n",
       "\n",
       "                                                 url  comms_num       created  \\\n",
       "0  https://www.reddit.com/r/saltierthancrait/comm...          9  1.602646e+09   \n",
       "1  https://www.reddit.com/r/saltierthancrait/comm...         10  1.602642e+09   \n",
       "2  https://www.reddit.com/r/saltierthancrait/comm...         13  1.602636e+09   \n",
       "3                https://i.redd.it/nlzsftux3ws51.png         45  1.602636e+09   \n",
       "4        https://www.youtube.com/watch?v=lADCO-Ar76U          2  1.602631e+09   \n",
       "\n",
       "                                                body         subreddit  \\\n",
       "0                                                     saltierthancrait   \n",
       "1  Just thinking about that scene and how massive...  saltierthancrait   \n",
       "2      Because The Rise of Skywalker doesn't seem to  saltierthancrait   \n",
       "3                                                     saltierthancrait   \n",
       "4                                                     saltierthancrait   \n",
       "\n",
       "                                            features  target  \n",
       "0  When exactly did this whole Force dyad between...       1  \n",
       "1  Hol up, can you even jam speeders? Just thinki...       1  \n",
       "2  Remember in Battlefront 2 (newer one) when you...       1  \n",
       "3  Just a friendly reminder of how badly Star War...       1  \n",
       "4  Dark Empire Episode 1: The Destiny of a Jedi (...       1  "
      ]
     },
     "execution_count": 10,
     "metadata": {},
     "output_type": "execute_result"
    }
   ],
   "source": [
    "df1.head()"
   ]
  },
  {
   "cell_type": "code",
   "execution_count": 11,
   "metadata": {},
   "outputs": [],
   "source": [
    "df1['feature_length'] = df1['features'].str.len()"
   ]
  },
  {
   "cell_type": "code",
   "execution_count": 12,
   "metadata": {},
   "outputs": [],
   "source": [
    "df1['feature_word_count'] = df1['features'].str.split().str.len()"
   ]
  },
  {
   "cell_type": "code",
   "execution_count": 13,
   "metadata": {},
   "outputs": [],
   "source": [
    "df1['feature_word_count'] = df1['feature_word_count'].mask(df1['feature_word_count'] > 500, 500)\n"
   ]
  },
  {
   "cell_type": "code",
   "execution_count": 14,
   "metadata": {},
   "outputs": [
    {
     "data": {
      "text/plain": [
       "(array([1115.,  288.,  105.,   50.,   60.,   52.,   48.,   29.,   26.,\n",
       "          18.,   22.,   17.,   12.,   15.,   12.,   13.,   13.,    9.,\n",
       "           6.,   83.]),\n",
       " array([  1.  ,  25.95,  50.9 ,  75.85, 100.8 , 125.75, 150.7 , 175.65,\n",
       "        200.6 , 225.55, 250.5 , 275.45, 300.4 , 325.35, 350.3 , 375.25,\n",
       "        400.2 , 425.15, 450.1 , 475.05, 500.  ]),\n",
       " <BarContainer object of 20 artists>)"
      ]
     },
     "execution_count": 14,
     "metadata": {},
     "output_type": "execute_result"
    },
    {
     "data": {
      "image/png": "[encoded data removed]",
      "text/plain": [
       "<Figure size 432x288 with 1 Axes>"
      ]
     },
     "metadata": {
      "needs_background": "light"
     },
     "output_type": "display_data"
    }
   ],
   "source": [
    "plt.hist(df1.feature_word_count, bins=20)"
   ]
  },
  {
   "cell_type": "code",
   "execution_count": 15,
   "metadata": {},
   "outputs": [
    {
     "data": {
      "text/plain": [
       "(array([1.451e+03, 1.510e+02, 1.180e+02, 6.000e+01, 4.300e+01, 3.100e+01,\n",
       "        3.400e+01, 2.000e+01, 1.800e+01, 1.100e+01, 6.000e+00, 6.000e+00,\n",
       "        2.000e+00, 8.000e+00, 3.000e+00, 2.000e+00, 2.000e+00, 2.000e+00,\n",
       "        1.000e+00, 1.000e+00, 4.000e+00, 2.000e+00, 1.000e+00, 2.000e+00,\n",
       "        0.000e+00, 2.000e+00, 1.000e+00, 1.000e+00, 0.000e+00, 1.000e+00,\n",
       "        1.000e+00, 1.000e+00, 0.000e+00, 2.000e+00, 0.000e+00, 0.000e+00,\n",
       "        0.000e+00, 1.000e+00, 0.000e+00, 0.000e+00, 1.000e+00, 1.000e+00,\n",
       "        1.000e+00, 0.000e+00, 0.000e+00, 0.000e+00, 0.000e+00, 0.000e+00,\n",
       "        0.000e+00, 1.000e+00]),\n",
       " array([3.00000e+00, 3.26700e+02, 6.50400e+02, 9.74100e+02, 1.29780e+03,\n",
       "        1.62150e+03, 1.94520e+03, 2.26890e+03, 2.59260e+03, 2.91630e+03,\n",
       "        3.24000e+03, 3.56370e+03, 3.88740e+03, 4.21110e+03, 4.53480e+03,\n",
       "        4.85850e+03, 5.18220e+03, 5.50590e+03, 5.82960e+03, 6.15330e+03,\n",
       "        6.47700e+03, 6.80070e+03, 7.12440e+03, 7.44810e+03, 7.77180e+03,\n",
       "        8.09550e+03, 8.41920e+03, 8.74290e+03, 9.06660e+03, 9.39030e+03,\n",
       "        9.71400e+03, 1.00377e+04, 1.03614e+04, 1.06851e+04, 1.10088e+04,\n",
       "        1.13325e+04, 1.16562e+04, 1.19799e+04, 1.23036e+04, 1.26273e+04,\n",
       "        1.29510e+04, 1.32747e+04, 1.35984e+04, 1.39221e+04, 1.42458e+04,\n",
       "        1.45695e+04, 1.48932e+04, 1.52169e+04, 1.55406e+04, 1.58643e+04,\n",
       "        1.61880e+04]),\n",
       " <BarContainer object of 50 artists>)"
      ]
     },
     "execution_count": 15,
     "metadata": {},
     "output_type": "execute_result"
    },
    {
     "data": {
      "image/png": "[encoded data removed]",
      "text/plain": [
       "<Figure size 432x288 with 1 Axes>"
      ]
     },
     "metadata": {
      "needs_background": "light"
     },
     "output_type": "display_data"
    }
   ],
   "source": [
    "plt.hist(df1.feature_length, bins=50)"
   ]
  },
  {
   "cell_type": "code",
   "execution_count": 16,
   "metadata": {},
   "outputs": [
    {
     "ename": "FileNotFoundError",
     "evalue": "[Errno 2] No such file or directory: '../figs/word_count.png'",
     "output_type": "error",
     "traceback": [
      "\u001b[0;31m---------------------------------------------------------------------------\u001b[0m",
      "\u001b[0;31mFileNotFoundError\u001b[0m                         Traceback (most recent call last)",
      "\u001b[0;32m<ipython-input-16-64d56d18b437>\u001b[0m in \u001b[0;36m<module>\u001b[0;34m\u001b[0m\n\u001b[1;32m      5\u001b[0m \u001b[0mplt\u001b[0m\u001b[0;34m.\u001b[0m\u001b[0mtitle\u001b[0m\u001b[0;34m(\u001b[0m\u001b[0;34m'Average Word Count by Subreddit'\u001b[0m\u001b[0;34m)\u001b[0m\u001b[0;34m\u001b[0m\u001b[0;34m\u001b[0m\u001b[0m\n\u001b[1;32m      6\u001b[0m \u001b[0;34m\u001b[0m\u001b[0m\n\u001b[0;32m----> 7\u001b[0;31m \u001b[0mplt\u001b[0m\u001b[0;34m.\u001b[0m\u001b[0msavefig\u001b[0m\u001b[0;34m(\u001b[0m\u001b[0;34m\"../figs/word_count.png\"\u001b[0m\u001b[0;34m)\u001b[0m\u001b[0;34m\u001b[0m\u001b[0;34m\u001b[0m\u001b[0m\n\u001b[0m",
      "\u001b[0;32m~/Dev/virtualenvs/py3/lib/python3.8/site-packages/matplotlib/pyplot.py\u001b[0m in \u001b[0;36msavefig\u001b[0;34m(*args, **kwargs)\u001b[0m\n\u001b[1;32m    840\u001b[0m \u001b[0;32mdef\u001b[0m \u001b[0msavefig\u001b[0m\u001b[0;34m(\u001b[0m\u001b[0;34m*\u001b[0m\u001b[0margs\u001b[0m\u001b[0;34m,\u001b[0m \u001b[0;34m**\u001b[0m\u001b[0mkwargs\u001b[0m\u001b[0;34m)\u001b[0m\u001b[0;34m:\u001b[0m\u001b[0;34m\u001b[0m\u001b[0;34m\u001b[0m\u001b[0m\n\u001b[1;32m    841\u001b[0m     \u001b[0mfig\u001b[0m \u001b[0;34m=\u001b[0m \u001b[0mgcf\u001b[0m\u001b[0;34m(\u001b[0m\u001b[0;34m)\u001b[0m\u001b[0;34m\u001b[0m\u001b[0;34m\u001b[0m\u001b[0m\n\u001b[0;32m--> 842\u001b[0;31m     \u001b[0mres\u001b[0m \u001b[0;34m=\u001b[0m \u001b[0mfig\u001b[0m\u001b[0;34m.\u001b[0m\u001b[0msavefig\u001b[0m\u001b[0;34m(\u001b[0m\u001b[0;34m*\u001b[0m\u001b[0margs\u001b[0m\u001b[0;34m,\u001b[0m \u001b[0;34m**\u001b[0m\u001b[0mkwargs\u001b[0m\u001b[0;34m)\u001b[0m\u001b[0;34m\u001b[0m\u001b[0;34m\u001b[0m\u001b[0m\n\u001b[0m\u001b[1;32m    843\u001b[0m     \u001b[0mfig\u001b[0m\u001b[0;34m.\u001b[0m\u001b[0mcanvas\u001b[0m\u001b[0;34m.\u001b[0m\u001b[0mdraw_idle\u001b[0m\u001b[0;34m(\u001b[0m\u001b[0;34m)\u001b[0m   \u001b[0;31m# need this if 'transparent=True' to reset colors\u001b[0m\u001b[0;34m\u001b[0m\u001b[0;34m\u001b[0m\u001b[0m\n\u001b[1;32m    844\u001b[0m     \u001b[0;32mreturn\u001b[0m \u001b[0mres\u001b[0m\u001b[0;34m\u001b[0m\u001b[0;34m\u001b[0m\u001b[0m\n",
      "\u001b[0;32m~/Dev/virtualenvs/py3/lib/python3.8/site-packages/matplotlib/figure.py\u001b[0m in \u001b[0;36msavefig\u001b[0;34m(self, fname, transparent, **kwargs)\u001b[0m\n\u001b[1;32m   2309\u001b[0m                 \u001b[0mpatch\u001b[0m\u001b[0;34m.\u001b[0m\u001b[0mset_edgecolor\u001b[0m\u001b[0;34m(\u001b[0m\u001b[0;34m'none'\u001b[0m\u001b[0;34m)\u001b[0m\u001b[0;34m\u001b[0m\u001b[0;34m\u001b[0m\u001b[0m\n\u001b[1;32m   2310\u001b[0m \u001b[0;34m\u001b[0m\u001b[0m\n\u001b[0;32m-> 2311\u001b[0;31m         \u001b[0mself\u001b[0m\u001b[0;34m.\u001b[0m\u001b[0mcanvas\u001b[0m\u001b[0;34m.\u001b[0m\u001b[0mprint_figure\u001b[0m\u001b[0;34m(\u001b[0m\u001b[0mfname\u001b[0m\u001b[0;34m,\u001b[0m \u001b[0;34m**\u001b[0m\u001b[0mkwargs\u001b[0m\u001b[0;34m)\u001b[0m\u001b[0;34m\u001b[0m\u001b[0;34m\u001b[0m\u001b[0m\n\u001b[0m\u001b[1;32m   2312\u001b[0m \u001b[0;34m\u001b[0m\u001b[0m\n\u001b[1;32m   2313\u001b[0m         \u001b[0;32mif\u001b[0m \u001b[0mtransparent\u001b[0m\u001b[0;34m:\u001b[0m\u001b[0;34m\u001b[0m\u001b[0;34m\u001b[0m\u001b[0m\n",
      "\u001b[0;32m~/Dev/virtualenvs/py3/lib/python3.8/site-packages/matplotlib/backend_bases.py\u001b[0m in \u001b[0;36mprint_figure\u001b[0;34m(self, filename, dpi, facecolor, edgecolor, orientation, format, bbox_inches, pad_inches, bbox_extra_artists, backend, **kwargs)\u001b[0m\n\u001b[1;32m   2208\u001b[0m \u001b[0;34m\u001b[0m\u001b[0m\n\u001b[1;32m   2209\u001b[0m             \u001b[0;32mtry\u001b[0m\u001b[0;34m:\u001b[0m\u001b[0;34m\u001b[0m\u001b[0;34m\u001b[0m\u001b[0m\n\u001b[0;32m-> 2210\u001b[0;31m                 result = print_method(\n\u001b[0m\u001b[1;32m   2211\u001b[0m                     \u001b[0mfilename\u001b[0m\u001b[0;34m,\u001b[0m\u001b[0;34m\u001b[0m\u001b[0;34m\u001b[0m\u001b[0m\n\u001b[1;32m   2212\u001b[0m                     \u001b[0mdpi\u001b[0m\u001b[0;34m=\u001b[0m\u001b[0mdpi\u001b[0m\u001b[0;34m,\u001b[0m\u001b[0;34m\u001b[0m\u001b[0;34m\u001b[0m\u001b[0m\n",
      "\u001b[0;32m~/Dev/virtualenvs/py3/lib/python3.8/site-packages/matplotlib/backend_bases.py\u001b[0m in \u001b[0;36mwrapper\u001b[0;34m(*args, **kwargs)\u001b[0m\n\u001b[1;32m   1637\u001b[0m             \u001b[0mkwargs\u001b[0m\u001b[0;34m.\u001b[0m\u001b[0mpop\u001b[0m\u001b[0;34m(\u001b[0m\u001b[0marg\u001b[0m\u001b[0;34m)\u001b[0m\u001b[0;34m\u001b[0m\u001b[0;34m\u001b[0m\u001b[0m\n\u001b[1;32m   1638\u001b[0m \u001b[0;34m\u001b[0m\u001b[0m\n\u001b[0;32m-> 1639\u001b[0;31m         \u001b[0;32mreturn\u001b[0m \u001b[0mfunc\u001b[0m\u001b[0;34m(\u001b[0m\u001b[0;34m*\u001b[0m\u001b[0margs\u001b[0m\u001b[0;34m,\u001b[0m \u001b[0;34m**\u001b[0m\u001b[0mkwargs\u001b[0m\u001b[0;34m)\u001b[0m\u001b[0;34m\u001b[0m\u001b[0;34m\u001b[0m\u001b[0m\n\u001b[0m\u001b[1;32m   1640\u001b[0m \u001b[0;34m\u001b[0m\u001b[0m\n\u001b[1;32m   1641\u001b[0m     \u001b[0;32mreturn\u001b[0m \u001b[0mwrapper\u001b[0m\u001b[0;34m\u001b[0m\u001b[0;34m\u001b[0m\u001b[0m\n",
      "\u001b[0;32m~/Dev/virtualenvs/py3/lib/python3.8/site-packages/matplotlib/backends/backend_agg.py\u001b[0m in \u001b[0;36mprint_png\u001b[0;34m(self, filename_or_obj, metadata, pil_kwargs, *args)\u001b[0m\n\u001b[1;32m    508\u001b[0m         \"\"\"\n\u001b[1;32m    509\u001b[0m         \u001b[0mFigureCanvasAgg\u001b[0m\u001b[0;34m.\u001b[0m\u001b[0mdraw\u001b[0m\u001b[0;34m(\u001b[0m\u001b[0mself\u001b[0m\u001b[0;34m)\u001b[0m\u001b[0;34m\u001b[0m\u001b[0;34m\u001b[0m\u001b[0m\n\u001b[0;32m--> 510\u001b[0;31m         mpl.image.imsave(\n\u001b[0m\u001b[1;32m    511\u001b[0m             \u001b[0mfilename_or_obj\u001b[0m\u001b[0;34m,\u001b[0m \u001b[0mself\u001b[0m\u001b[0;34m.\u001b[0m\u001b[0mbuffer_rgba\u001b[0m\u001b[0;34m(\u001b[0m\u001b[0;34m)\u001b[0m\u001b[0;34m,\u001b[0m \u001b[0mformat\u001b[0m\u001b[0;34m=\u001b[0m\u001b[0;34m\"png\"\u001b[0m\u001b[0;34m,\u001b[0m \u001b[0morigin\u001b[0m\u001b[0;34m=\u001b[0m\u001b[0;34m\"upper\"\u001b[0m\u001b[0;34m,\u001b[0m\u001b[0;34m\u001b[0m\u001b[0;34m\u001b[0m\u001b[0m\n\u001b[1;32m    512\u001b[0m             dpi=self.figure.dpi, metadata=metadata, pil_kwargs=pil_kwargs)\n",
      "\u001b[0;32m~/Dev/virtualenvs/py3/lib/python3.8/site-packages/matplotlib/image.py\u001b[0m in \u001b[0;36mimsave\u001b[0;34m(fname, arr, vmin, vmax, cmap, format, origin, dpi, metadata, pil_kwargs)\u001b[0m\n\u001b[1;32m   1589\u001b[0m         \u001b[0mpil_kwargs\u001b[0m\u001b[0;34m.\u001b[0m\u001b[0msetdefault\u001b[0m\u001b[0;34m(\u001b[0m\u001b[0;34m\"format\"\u001b[0m\u001b[0;34m,\u001b[0m \u001b[0mformat\u001b[0m\u001b[0;34m)\u001b[0m\u001b[0;34m\u001b[0m\u001b[0;34m\u001b[0m\u001b[0m\n\u001b[1;32m   1590\u001b[0m         \u001b[0mpil_kwargs\u001b[0m\u001b[0;34m.\u001b[0m\u001b[0msetdefault\u001b[0m\u001b[0;34m(\u001b[0m\u001b[0;34m\"dpi\"\u001b[0m\u001b[0;34m,\u001b[0m \u001b[0;34m(\u001b[0m\u001b[0mdpi\u001b[0m\u001b[0;34m,\u001b[0m \u001b[0mdpi\u001b[0m\u001b[0;34m)\u001b[0m\u001b[0;34m)\u001b[0m\u001b[0;34m\u001b[0m\u001b[0;34m\u001b[0m\u001b[0m\n\u001b[0;32m-> 1591\u001b[0;31m         \u001b[0mimage\u001b[0m\u001b[0;34m.\u001b[0m\u001b[0msave\u001b[0m\u001b[0;34m(\u001b[0m\u001b[0mfname\u001b[0m\u001b[0;34m,\u001b[0m \u001b[0;34m**\u001b[0m\u001b[0mpil_kwargs\u001b[0m\u001b[0;34m)\u001b[0m\u001b[0;34m\u001b[0m\u001b[0;34m\u001b[0m\u001b[0m\n\u001b[0m\u001b[1;32m   1592\u001b[0m \u001b[0;34m\u001b[0m\u001b[0m\n\u001b[1;32m   1593\u001b[0m \u001b[0;34m\u001b[0m\u001b[0m\n",
      "\u001b[0;32m~/Dev/virtualenvs/py3/lib/python3.8/site-packages/PIL/Image.py\u001b[0m in \u001b[0;36msave\u001b[0;34m(self, fp, format, **params)\u001b[0m\n\u001b[1;32m   2153\u001b[0m                 \u001b[0mfp\u001b[0m \u001b[0;34m=\u001b[0m \u001b[0mbuiltins\u001b[0m\u001b[0;34m.\u001b[0m\u001b[0mopen\u001b[0m\u001b[0;34m(\u001b[0m\u001b[0mfilename\u001b[0m\u001b[0;34m,\u001b[0m \u001b[0;34m\"r+b\"\u001b[0m\u001b[0;34m)\u001b[0m\u001b[0;34m\u001b[0m\u001b[0;34m\u001b[0m\u001b[0m\n\u001b[1;32m   2154\u001b[0m             \u001b[0;32melse\u001b[0m\u001b[0;34m:\u001b[0m\u001b[0;34m\u001b[0m\u001b[0;34m\u001b[0m\u001b[0m\n\u001b[0;32m-> 2155\u001b[0;31m                 \u001b[0mfp\u001b[0m \u001b[0;34m=\u001b[0m \u001b[0mbuiltins\u001b[0m\u001b[0;34m.\u001b[0m\u001b[0mopen\u001b[0m\u001b[0;34m(\u001b[0m\u001b[0mfilename\u001b[0m\u001b[0;34m,\u001b[0m \u001b[0;34m\"w+b\"\u001b[0m\u001b[0;34m)\u001b[0m\u001b[0;34m\u001b[0m\u001b[0;34m\u001b[0m\u001b[0m\n\u001b[0m\u001b[1;32m   2156\u001b[0m \u001b[0;34m\u001b[0m\u001b[0m\n\u001b[1;32m   2157\u001b[0m         \u001b[0;32mtry\u001b[0m\u001b[0;34m:\u001b[0m\u001b[0;34m\u001b[0m\u001b[0;34m\u001b[0m\u001b[0m\n",
      "\u001b[0;31mFileNotFoundError\u001b[0m: [Errno 2] No such file or directory: '../figs/word_count.png'"
     ]
    },
    {
     "data": {
      "image/png": "[encoded data removed]",
      "text/plain": [
       "<Figure size 720x360 with 1 Axes>"
      ]
     },
     "metadata": {
      "needs_background": "light"
     },
     "output_type": "display_data"
    }
   ],
   "source": [
    "plt.figure(figsize = (10,5))\n",
    "df1.groupby('subreddit').feature_word_count.mean().plot(kind= 'barh', color = 'red', alpha = 0.5)\n",
    "#plt.yticks(rotation = 70)\n",
    "plt.xlabel('Average Word Count')\n",
    "plt.title('Average Word Count by Subreddit')\n",
    "\n",
    "plt.savefig(\"../figs/word_count.png\")"
   ]
  },
  {
   "cell_type": "code",
   "execution_count": 16,
   "metadata": {},
   "outputs": [],
   "source": [
    "# Instantiate a CountVectorizer.\n",
    "cvec = CountVectorizer(stop_words = 'english', min_df=3)"
   ]
  },
  {
   "cell_type": "code",
   "execution_count": 17,
   "metadata": {},
   "outputs": [
    {
     "data": {
      "text/plain": [
       "CountVectorizer(min_df=3, stop_words='english')"
      ]
     },
     "execution_count": 17,
     "metadata": {},
     "output_type": "execute_result"
    }
   ],
   "source": [
    "cvec.fit(df1['features'])"
   ]
  },
  {
   "cell_type": "code",
   "execution_count": 18,
   "metadata": {},
   "outputs": [],
   "source": [
    "feature_transform = cvec.transform(df['features'])"
   ]
  },
  {
   "cell_type": "code",
   "execution_count": 19,
   "metadata": {},
   "outputs": [],
   "source": [
    "feature_transform_df = pd.DataFrame(feature_transform.todense(), \n",
    "                          columns=cvec.get_feature_names())\n"
   ]
  },
  {
   "cell_type": "code",
   "execution_count": 20,
   "metadata": {},
   "outputs": [
    {
     "data": {
      "text/plain": [
       "star         1000\n",
       "wars          991\n",
       "like          836\n",
       "just          811\n",
       "luke          724\n",
       "jedi          656\n",
       "rey           596\n",
       "new           550\n",
       "force         488\n",
       "movie         438\n",
       "think         399\n",
       "people        391\n",
       "trilogy       377\n",
       "palpatine     369\n",
       "time          367\n",
       "dtype: int64"
      ]
     },
     "execution_count": 20,
     "metadata": {},
     "output_type": "execute_result"
    }
   ],
   "source": [
    "# plot top occuring words\n",
    "feature_transform_df.sum().sort_values(ascending = False).head(15)"
   ]
  },
  {
   "cell_type": "code",
   "execution_count": 49,
   "metadata": {},
   "outputs": [
    {
     "data": {
      "text/plain": [
       "<AxesSubplot:>"
      ]
     },
     "execution_count": 49,
     "metadata": {},
     "output_type": "execute_result"
    },
    {
     "data": {
      "image/png": "[encoded data removed]",
      "text/plain": [
       "<Figure size 432x288 with 1 Axes>"
      ]
     },
     "metadata": {
      "needs_background": "light"
     },
     "output_type": "display_data"
    }
   ],
   "source": [
    "# plot top occuring words\n",
    "feature_transform_df.sum().sort_values(ascending = False).head(15).plot(kind= 'barh', color = 'red', alpha = 0.5)"
   ]
  },
  {
   "cell_type": "code",
   "execution_count": 35,
   "metadata": {},
   "outputs": [],
   "source": [
    "df1['tgt'] = df1['target']"
   ]
  },
  {
   "cell_type": "code",
   "execution_count": 36,
   "metadata": {},
   "outputs": [],
   "source": [
    "df_vec = pd.concat([df1['tgt'], feature_transform_df], axis =1)\n",
    "\n"
   ]
  },
  {
   "cell_type": "code",
   "execution_count": 38,
   "metadata": {},
   "outputs": [
    {
     "data": {
      "text/plain": [
       "0       1\n",
       "1       1\n",
       "2       1\n",
       "3       1\n",
       "4       1\n",
       "       ..\n",
       "1988    0\n",
       "1989    0\n",
       "1990    0\n",
       "1991    0\n",
       "1992    0\n",
       "Name: tgt, Length: 1993, dtype: int64"
      ]
     },
     "execution_count": 38,
     "metadata": {},
     "output_type": "execute_result"
    }
   ],
   "source": [
    "df_vec.tgt"
   ]
  },
  {
   "cell_type": "code",
   "execution_count": 39,
   "metadata": {},
   "outputs": [
    {
     "data": {
      "text/html": [
       "<div>\n",
       "<style scoped>\n",
       "    .dataframe tbody tr th:only-of-type {\n",
       "        vertical-align: middle;\n",
       "    }\n",
       "\n",
       "    .dataframe tbody tr th {\n",
       "        vertical-align: top;\n",
       "    }\n",
       "\n",
       "    .dataframe thead th {\n",
       "        text-align: right;\n",
       "    }\n",
       "</style>\n",
       "<table border=\"1\" class=\"dataframe\">\n",
       "  <thead>\n",
       "    <tr style=\"text-align: right;\">\n",
       "      <th></th>\n",
       "      <th>tgt</th>\n",
       "      <th>00</th>\n",
       "      <th>000</th>\n",
       "      <th>01</th>\n",
       "      <th>09</th>\n",
       "      <th>10</th>\n",
       "      <th>100</th>\n",
       "      <th>1000</th>\n",
       "      <th>1080p</th>\n",
       "      <th>11</th>\n",
       "      <th>...</th>\n",
       "      <th>youth</th>\n",
       "      <th>youtu</th>\n",
       "      <th>youtube</th>\n",
       "      <th>youtuber</th>\n",
       "      <th>youtubers</th>\n",
       "      <th>yt</th>\n",
       "      <th>yup</th>\n",
       "      <th>yuuzhan</th>\n",
       "      <th>zahn</th>\n",
       "      <th>zero</th>\n",
       "    </tr>\n",
       "  </thead>\n",
       "  <tbody>\n",
       "    <tr>\n",
       "      <th>0</th>\n",
       "      <td>1</td>\n",
       "      <td>0</td>\n",
       "      <td>0</td>\n",
       "      <td>0</td>\n",
       "      <td>0</td>\n",
       "      <td>0</td>\n",
       "      <td>0</td>\n",
       "      <td>0</td>\n",
       "      <td>0</td>\n",
       "      <td>0</td>\n",
       "      <td>...</td>\n",
       "      <td>0</td>\n",
       "      <td>0</td>\n",
       "      <td>0</td>\n",
       "      <td>0</td>\n",
       "      <td>0</td>\n",
       "      <td>0</td>\n",
       "      <td>0</td>\n",
       "      <td>0</td>\n",
       "      <td>0</td>\n",
       "      <td>0</td>\n",
       "    </tr>\n",
       "    <tr>\n",
       "      <th>1</th>\n",
       "      <td>1</td>\n",
       "      <td>0</td>\n",
       "      <td>0</td>\n",
       "      <td>0</td>\n",
       "      <td>0</td>\n",
       "      <td>0</td>\n",
       "      <td>0</td>\n",
       "      <td>0</td>\n",
       "      <td>0</td>\n",
       "      <td>0</td>\n",
       "      <td>...</td>\n",
       "      <td>0</td>\n",
       "      <td>0</td>\n",
       "      <td>0</td>\n",
       "      <td>0</td>\n",
       "      <td>0</td>\n",
       "      <td>0</td>\n",
       "      <td>0</td>\n",
       "      <td>0</td>\n",
       "      <td>0</td>\n",
       "      <td>0</td>\n",
       "    </tr>\n",
       "    <tr>\n",
       "      <th>2</th>\n",
       "      <td>1</td>\n",
       "      <td>0</td>\n",
       "      <td>0</td>\n",
       "      <td>0</td>\n",
       "      <td>0</td>\n",
       "      <td>0</td>\n",
       "      <td>0</td>\n",
       "      <td>0</td>\n",
       "      <td>0</td>\n",
       "      <td>0</td>\n",
       "      <td>...</td>\n",
       "      <td>0</td>\n",
       "      <td>0</td>\n",
       "      <td>0</td>\n",
       "      <td>0</td>\n",
       "      <td>0</td>\n",
       "      <td>0</td>\n",
       "      <td>0</td>\n",
       "      <td>0</td>\n",
       "      <td>0</td>\n",
       "      <td>0</td>\n",
       "    </tr>\n",
       "    <tr>\n",
       "      <th>3</th>\n",
       "      <td>1</td>\n",
       "      <td>0</td>\n",
       "      <td>0</td>\n",
       "      <td>0</td>\n",
       "      <td>0</td>\n",
       "      <td>0</td>\n",
       "      <td>0</td>\n",
       "      <td>0</td>\n",
       "      <td>0</td>\n",
       "      <td>0</td>\n",
       "      <td>...</td>\n",
       "      <td>0</td>\n",
       "      <td>0</td>\n",
       "      <td>0</td>\n",
       "      <td>0</td>\n",
       "      <td>0</td>\n",
       "      <td>0</td>\n",
       "      <td>0</td>\n",
       "      <td>0</td>\n",
       "      <td>0</td>\n",
       "      <td>0</td>\n",
       "    </tr>\n",
       "    <tr>\n",
       "      <th>4</th>\n",
       "      <td>1</td>\n",
       "      <td>0</td>\n",
       "      <td>0</td>\n",
       "      <td>0</td>\n",
       "      <td>0</td>\n",
       "      <td>0</td>\n",
       "      <td>0</td>\n",
       "      <td>0</td>\n",
       "      <td>0</td>\n",
       "      <td>0</td>\n",
       "      <td>...</td>\n",
       "      <td>0</td>\n",
       "      <td>0</td>\n",
       "      <td>0</td>\n",
       "      <td>0</td>\n",
       "      <td>0</td>\n",
       "      <td>0</td>\n",
       "      <td>0</td>\n",
       "      <td>0</td>\n",
       "      <td>0</td>\n",
       "      <td>0</td>\n",
       "    </tr>\n",
       "  </tbody>\n",
       "</table>\n",
       "<p>5 rows × 3998 columns</p>\n",
       "</div>"
      ],
      "text/plain": [
       "   tgt  00  000  01  09  10  100  1000  1080p  11  ...  youth  youtu  youtube  \\\n",
       "0    1   0    0   0   0   0    0     0      0   0  ...      0      0        0   \n",
       "1    1   0    0   0   0   0    0     0      0   0  ...      0      0        0   \n",
       "2    1   0    0   0   0   0    0     0      0   0  ...      0      0        0   \n",
       "3    1   0    0   0   0   0    0     0      0   0  ...      0      0        0   \n",
       "4    1   0    0   0   0   0    0     0      0   0  ...      0      0        0   \n",
       "\n",
       "   youtuber  youtubers  yt  yup  yuuzhan  zahn  zero  \n",
       "0         0          0   0    0        0     0     0  \n",
       "1         0          0   0    0        0     0     0  \n",
       "2         0          0   0    0        0     0     0  \n",
       "3         0          0   0    0        0     0     0  \n",
       "4         0          0   0    0        0     0     0  \n",
       "\n",
       "[5 rows x 3998 columns]"
      ]
     },
     "execution_count": 39,
     "metadata": {},
     "output_type": "execute_result"
    }
   ],
   "source": [
    "df_vec.head()"
   ]
  },
  {
   "cell_type": "code",
   "execution_count": 40,
   "metadata": {},
   "outputs": [],
   "source": [
    "vec_list = list(feature_transform_df.columns)"
   ]
  },
  {
   "cell_type": "code",
   "execution_count": 50,
   "metadata": {},
   "outputs": [
    {
     "data": {
      "text/plain": [
       "<AxesSubplot:>"
      ]
     },
     "execution_count": 50,
     "metadata": {},
     "output_type": "execute_result"
    },
    {
     "data": {
      "image/png": "[encoded data removed]",
      "text/plain": [
       "<Figure size 432x288 with 1 Axes>"
      ]
     },
     "metadata": {
      "needs_background": "light"
     },
     "output_type": "display_data"
    }
   ],
   "source": [
    "df_vec[df_vec['tgt'] == 1][vec_list].sum().sort_values(ascending = False).head(15).plot(kind= 'barh', color = 'red', alpha = 0.5)"
   ]
  },
  {
   "cell_type": "code",
   "execution_count": 51,
   "metadata": {},
   "outputs": [
    {
     "data": {
      "text/plain": [
       "<AxesSubplot:>"
      ]
     },
     "execution_count": 51,
     "metadata": {},
     "output_type": "execute_result"
    },
    {
     "data": {
      "image/png": "[encoded data removed]",
      "text/plain": [
       "<Figure size 432x288 with 1 Axes>"
      ]
     },
     "metadata": {
      "needs_background": "light"
     },
     "output_type": "display_data"
    }
   ],
   "source": [
    "df_vec[df_vec['tgt'] == 0][vec_list].sum().sort_values(ascending = False).head(15).plot(kind= 'barh', color = 'red', alpha = 0.5)"
   ]
  },
  {
   "cell_type": "code",
   "execution_count": 54,
   "metadata": {},
   "outputs": [
    {
     "data": {
      "text/plain": [
       "(1993, 12096)"
      ]
     },
     "execution_count": 54,
     "metadata": {},
     "output_type": "execute_result"
    }
   ],
   "source": [
    "df_vec.shape"
   ]
  },
  {
   "cell_type": "markdown",
   "metadata": {},
   "source": [
    "# EDA - sentiment!"
   ]
  },
  {
   "cell_type": "code",
   "execution_count": 28,
   "metadata": {},
   "outputs": [],
   "source": [
    "from nltk.sentiment.vader import SentimentIntensityAnalyzer"
   ]
  },
  {
   "cell_type": "code",
   "execution_count": 29,
   "metadata": {},
   "outputs": [],
   "source": [
    "df_temp = df[['features', 'target']]"
   ]
  },
  {
   "cell_type": "code",
   "execution_count": 30,
   "metadata": {},
   "outputs": [
    {
     "data": {
      "text/html": [
       "<div>\n",
       "<style scoped>\n",
       "    .dataframe tbody tr th:only-of-type {\n",
       "        vertical-align: middle;\n",
       "    }\n",
       "\n",
       "    .dataframe tbody tr th {\n",
       "        vertical-align: top;\n",
       "    }\n",
       "\n",
       "    .dataframe thead th {\n",
       "        text-align: right;\n",
       "    }\n",
       "</style>\n",
       "<table border=\"1\" class=\"dataframe\">\n",
       "  <thead>\n",
       "    <tr style=\"text-align: right;\">\n",
       "      <th></th>\n",
       "      <th>features</th>\n",
       "      <th>target</th>\n",
       "    </tr>\n",
       "  </thead>\n",
       "  <tbody>\n",
       "    <tr>\n",
       "      <th>0</th>\n",
       "      <td>When exactly did this whole Force dyad between...</td>\n",
       "      <td>1</td>\n",
       "    </tr>\n",
       "    <tr>\n",
       "      <th>1</th>\n",
       "      <td>Hol up, can you even jam speeders? Just thinki...</td>\n",
       "      <td>1</td>\n",
       "    </tr>\n",
       "    <tr>\n",
       "      <th>2</th>\n",
       "      <td>Remember in Battlefront 2 (newer one) when you...</td>\n",
       "      <td>1</td>\n",
       "    </tr>\n",
       "    <tr>\n",
       "      <th>3</th>\n",
       "      <td>Just a friendly reminder of how badly Star War...</td>\n",
       "      <td>1</td>\n",
       "    </tr>\n",
       "    <tr>\n",
       "      <th>4</th>\n",
       "      <td>Dark Empire Episode 1: The Destiny of a Jedi (...</td>\n",
       "      <td>1</td>\n",
       "    </tr>\n",
       "  </tbody>\n",
       "</table>\n",
       "</div>"
      ],
      "text/plain": [
       "                                            features  target\n",
       "0  When exactly did this whole Force dyad between...       1\n",
       "1  Hol up, can you even jam speeders? Just thinki...       1\n",
       "2  Remember in Battlefront 2 (newer one) when you...       1\n",
       "3  Just a friendly reminder of how badly Star War...       1\n",
       "4  Dark Empire Episode 1: The Destiny of a Jedi (...       1"
      ]
     },
     "execution_count": 30,
     "metadata": {},
     "output_type": "execute_result"
    }
   ],
   "source": [
    "df_temp.head()"
   ]
  },
  {
   "cell_type": "code",
   "execution_count": 31,
   "metadata": {},
   "outputs": [
    {
     "data": {
      "text/plain": [
       "'When exactly did this whole Force dyad between Rey and Kylo emerge? And why? '"
      ]
     },
     "execution_count": 31,
     "metadata": {},
     "output_type": "execute_result"
    }
   ],
   "source": [
    "#convert to a list of strings:\n",
    "\n",
    "corpus = list(df_temp['features'])\n",
    "corpus[0]"
   ]
  },
  {
   "cell_type": "code",
   "execution_count": 32,
   "metadata": {},
   "outputs": [
    {
     "data": {
      "text/plain": [
       "{'neg': 0.0, 'neu': 1.0, 'pos': 0.0, 'compound': 0.0}"
      ]
     },
     "execution_count": 32,
     "metadata": {},
     "output_type": "execute_result"
    }
   ],
   "source": [
    "#instantiate SIA\n",
    "sia = SentimentIntensityAnalyzer()\n",
    "\n",
    "#Get polarity scores for the first tweet\n",
    "sia.polarity_scores(corpus[0])"
   ]
  },
  {
   "cell_type": "code",
   "execution_count": 33,
   "metadata": {},
   "outputs": [
    {
     "data": {
      "text/html": [
       "<div>\n",
       "<style scoped>\n",
       "    .dataframe tbody tr th:only-of-type {\n",
       "        vertical-align: middle;\n",
       "    }\n",
       "\n",
       "    .dataframe tbody tr th {\n",
       "        vertical-align: top;\n",
       "    }\n",
       "\n",
       "    .dataframe thead th {\n",
       "        text-align: right;\n",
       "    }\n",
       "</style>\n",
       "<table border=\"1\" class=\"dataframe\">\n",
       "  <thead>\n",
       "    <tr style=\"text-align: right;\">\n",
       "      <th></th>\n",
       "      <th>neg</th>\n",
       "      <th>neu</th>\n",
       "      <th>pos</th>\n",
       "      <th>compound</th>\n",
       "      <th>features</th>\n",
       "    </tr>\n",
       "  </thead>\n",
       "  <tbody>\n",
       "    <tr>\n",
       "      <th>0</th>\n",
       "      <td>0.000</td>\n",
       "      <td>1.000</td>\n",
       "      <td>0.000</td>\n",
       "      <td>0.0000</td>\n",
       "      <td>When exactly did this whole Force dyad between...</td>\n",
       "    </tr>\n",
       "    <tr>\n",
       "      <th>1</th>\n",
       "      <td>0.101</td>\n",
       "      <td>0.899</td>\n",
       "      <td>0.000</td>\n",
       "      <td>-0.5574</td>\n",
       "      <td>Hol up, can you even jam speeders? Just thinki...</td>\n",
       "    </tr>\n",
       "    <tr>\n",
       "      <th>2</th>\n",
       "      <td>0.190</td>\n",
       "      <td>0.810</td>\n",
       "      <td>0.000</td>\n",
       "      <td>-0.7269</td>\n",
       "      <td>Remember in Battlefront 2 (newer one) when you...</td>\n",
       "    </tr>\n",
       "    <tr>\n",
       "      <th>3</th>\n",
       "      <td>0.433</td>\n",
       "      <td>0.429</td>\n",
       "      <td>0.137</td>\n",
       "      <td>-0.7845</td>\n",
       "      <td>Just a friendly reminder of how badly Star War...</td>\n",
       "    </tr>\n",
       "    <tr>\n",
       "      <th>4</th>\n",
       "      <td>0.000</td>\n",
       "      <td>1.000</td>\n",
       "      <td>0.000</td>\n",
       "      <td>0.0000</td>\n",
       "      <td>Dark Empire Episode 1: The Destiny of a Jedi (...</td>\n",
       "    </tr>\n",
       "  </tbody>\n",
       "</table>\n",
       "</div>"
      ],
      "text/plain": [
       "     neg    neu    pos  compound  \\\n",
       "0  0.000  1.000  0.000    0.0000   \n",
       "1  0.101  0.899  0.000   -0.5574   \n",
       "2  0.190  0.810  0.000   -0.7269   \n",
       "3  0.433  0.429  0.137   -0.7845   \n",
       "4  0.000  1.000  0.000    0.0000   \n",
       "\n",
       "                                            features  \n",
       "0  When exactly did this whole Force dyad between...  \n",
       "1  Hol up, can you even jam speeders? Just thinki...  \n",
       "2  Remember in Battlefront 2 (newer one) when you...  \n",
       "3  Just a friendly reminder of how badly Star War...  \n",
       "4  Dark Empire Episode 1: The Destiny of a Jedi (...  "
      ]
     },
     "execution_count": 33,
     "metadata": {},
     "output_type": "execute_result"
    }
   ],
   "source": [
    "#create dataframe that contains text and the polarity scores for each tweet\n",
    "\n",
    "dicts = []    \n",
    "\n",
    "for post in corpus:\n",
    "    scores = sia.polarity_scores(post)\n",
    "    scores['features'] = post\n",
    "    dicts.append(scores)\n",
    "\n",
    "df_vader = pd.DataFrame(dicts)\n",
    "df_vader.head()"
   ]
  },
  {
   "cell_type": "code",
   "execution_count": 34,
   "metadata": {},
   "outputs": [
    {
     "data": {
      "text/html": [
       "<div>\n",
       "<style scoped>\n",
       "    .dataframe tbody tr th:only-of-type {\n",
       "        vertical-align: middle;\n",
       "    }\n",
       "\n",
       "    .dataframe tbody tr th {\n",
       "        vertical-align: top;\n",
       "    }\n",
       "\n",
       "    .dataframe thead th {\n",
       "        text-align: right;\n",
       "    }\n",
       "</style>\n",
       "<table border=\"1\" class=\"dataframe\">\n",
       "  <thead>\n",
       "    <tr style=\"text-align: right;\">\n",
       "      <th></th>\n",
       "      <th>neg</th>\n",
       "      <th>neu</th>\n",
       "      <th>pos</th>\n",
       "      <th>compound</th>\n",
       "      <th>features</th>\n",
       "      <th>target</th>\n",
       "    </tr>\n",
       "  </thead>\n",
       "  <tbody>\n",
       "    <tr>\n",
       "      <th>0</th>\n",
       "      <td>0.000</td>\n",
       "      <td>1.000</td>\n",
       "      <td>0.000</td>\n",
       "      <td>0.0000</td>\n",
       "      <td>When exactly did this whole Force dyad between...</td>\n",
       "      <td>1</td>\n",
       "    </tr>\n",
       "    <tr>\n",
       "      <th>1</th>\n",
       "      <td>0.101</td>\n",
       "      <td>0.899</td>\n",
       "      <td>0.000</td>\n",
       "      <td>-0.5574</td>\n",
       "      <td>Hol up, can you even jam speeders? Just thinki...</td>\n",
       "      <td>1</td>\n",
       "    </tr>\n",
       "    <tr>\n",
       "      <th>2</th>\n",
       "      <td>0.190</td>\n",
       "      <td>0.810</td>\n",
       "      <td>0.000</td>\n",
       "      <td>-0.7269</td>\n",
       "      <td>Remember in Battlefront 2 (newer one) when you...</td>\n",
       "      <td>1</td>\n",
       "    </tr>\n",
       "    <tr>\n",
       "      <th>3</th>\n",
       "      <td>0.433</td>\n",
       "      <td>0.429</td>\n",
       "      <td>0.137</td>\n",
       "      <td>-0.7845</td>\n",
       "      <td>Just a friendly reminder of how badly Star War...</td>\n",
       "      <td>1</td>\n",
       "    </tr>\n",
       "    <tr>\n",
       "      <th>4</th>\n",
       "      <td>0.000</td>\n",
       "      <td>1.000</td>\n",
       "      <td>0.000</td>\n",
       "      <td>0.0000</td>\n",
       "      <td>Dark Empire Episode 1: The Destiny of a Jedi (...</td>\n",
       "      <td>1</td>\n",
       "    </tr>\n",
       "  </tbody>\n",
       "</table>\n",
       "</div>"
      ],
      "text/plain": [
       "     neg    neu    pos  compound  \\\n",
       "0  0.000  1.000  0.000    0.0000   \n",
       "1  0.101  0.899  0.000   -0.5574   \n",
       "2  0.190  0.810  0.000   -0.7269   \n",
       "3  0.433  0.429  0.137   -0.7845   \n",
       "4  0.000  1.000  0.000    0.0000   \n",
       "\n",
       "                                            features  target  \n",
       "0  When exactly did this whole Force dyad between...       1  \n",
       "1  Hol up, can you even jam speeders? Just thinki...       1  \n",
       "2  Remember in Battlefront 2 (newer one) when you...       1  \n",
       "3  Just a friendly reminder of how badly Star War...       1  \n",
       "4  Dark Empire Episode 1: The Destiny of a Jedi (...       1  "
      ]
     },
     "execution_count": 34,
     "metadata": {},
     "output_type": "execute_result"
    }
   ],
   "source": [
    "df_vader['target'] = df['target'].values\n",
    "df_vader.head(5)"
   ]
  },
  {
   "cell_type": "code",
   "execution_count": 35,
   "metadata": {},
   "outputs": [],
   "source": [
    "df_stc = df_vader[df_vader['target'] == 1]"
   ]
  },
  {
   "cell_type": "code",
   "execution_count": 36,
   "metadata": {},
   "outputs": [
    {
     "data": {
      "text/html": [
       "<div>\n",
       "<style scoped>\n",
       "    .dataframe tbody tr th:only-of-type {\n",
       "        vertical-align: middle;\n",
       "    }\n",
       "\n",
       "    .dataframe tbody tr th {\n",
       "        vertical-align: top;\n",
       "    }\n",
       "\n",
       "    .dataframe thead th {\n",
       "        text-align: right;\n",
       "    }\n",
       "</style>\n",
       "<table border=\"1\" class=\"dataframe\">\n",
       "  <thead>\n",
       "    <tr style=\"text-align: right;\">\n",
       "      <th></th>\n",
       "      <th>neg</th>\n",
       "      <th>neu</th>\n",
       "      <th>pos</th>\n",
       "      <th>compound</th>\n",
       "      <th>features</th>\n",
       "      <th>target</th>\n",
       "    </tr>\n",
       "  </thead>\n",
       "  <tbody>\n",
       "    <tr>\n",
       "      <th>857</th>\n",
       "      <td>0.0</td>\n",
       "      <td>0.194</td>\n",
       "      <td>0.806</td>\n",
       "      <td>0.8519</td>\n",
       "      <td>What a great love story</td>\n",
       "      <td>1</td>\n",
       "    </tr>\n",
       "    <tr>\n",
       "      <th>938</th>\n",
       "      <td>0.0</td>\n",
       "      <td>0.250</td>\n",
       "      <td>0.750</td>\n",
       "      <td>0.7184</td>\n",
       "      <td>Lmao. This aged well.</td>\n",
       "      <td>1</td>\n",
       "    </tr>\n",
       "    <tr>\n",
       "      <th>73</th>\n",
       "      <td>0.0</td>\n",
       "      <td>0.286</td>\n",
       "      <td>0.714</td>\n",
       "      <td>0.3612</td>\n",
       "      <td>Y’all agree?</td>\n",
       "      <td>1</td>\n",
       "    </tr>\n",
       "    <tr>\n",
       "      <th>746</th>\n",
       "      <td>0.0</td>\n",
       "      <td>0.316</td>\n",
       "      <td>0.684</td>\n",
       "      <td>0.9538</td>\n",
       "      <td>Ahmed Best sharing some black Jedi love today ...</td>\n",
       "      <td>1</td>\n",
       "    </tr>\n",
       "    <tr>\n",
       "      <th>656</th>\n",
       "      <td>0.0</td>\n",
       "      <td>0.360</td>\n",
       "      <td>0.640</td>\n",
       "      <td>0.7964</td>\n",
       "      <td>Still a better love story than reylo</td>\n",
       "      <td>1</td>\n",
       "    </tr>\n",
       "  </tbody>\n",
       "</table>\n",
       "</div>"
      ],
      "text/plain": [
       "     neg    neu    pos  compound  \\\n",
       "857  0.0  0.194  0.806    0.8519   \n",
       "938  0.0  0.250  0.750    0.7184   \n",
       "73   0.0  0.286  0.714    0.3612   \n",
       "746  0.0  0.316  0.684    0.9538   \n",
       "656  0.0  0.360  0.640    0.7964   \n",
       "\n",
       "                                              features  target  \n",
       "857                           What a great love story        1  \n",
       "938                             Lmao. This aged well.        1  \n",
       "73                                       Y’all agree?        1  \n",
       "746  Ahmed Best sharing some black Jedi love today ...       1  \n",
       "656              Still a better love story than reylo        1  "
      ]
     },
     "execution_count": 36,
     "metadata": {},
     "output_type": "execute_result"
    }
   ],
   "source": [
    "df_stc.sort_values(by='pos', ascending=False).head()"
   ]
  },
  {
   "cell_type": "code",
   "execution_count": 37,
   "metadata": {},
   "outputs": [
    {
     "data": {
      "text/html": [
       "<div>\n",
       "<style scoped>\n",
       "    .dataframe tbody tr th:only-of-type {\n",
       "        vertical-align: middle;\n",
       "    }\n",
       "\n",
       "    .dataframe tbody tr th {\n",
       "        vertical-align: top;\n",
       "    }\n",
       "\n",
       "    .dataframe thead th {\n",
       "        text-align: right;\n",
       "    }\n",
       "</style>\n",
       "<table border=\"1\" class=\"dataframe\">\n",
       "  <thead>\n",
       "    <tr style=\"text-align: right;\">\n",
       "      <th></th>\n",
       "      <th>neg</th>\n",
       "      <th>neu</th>\n",
       "      <th>pos</th>\n",
       "      <th>compound</th>\n",
       "      <th>features</th>\n",
       "      <th>target</th>\n",
       "    </tr>\n",
       "  </thead>\n",
       "  <tbody>\n",
       "    <tr>\n",
       "      <th>533</th>\n",
       "      <td>1.000</td>\n",
       "      <td>0.000</td>\n",
       "      <td>0.0</td>\n",
       "      <td>-0.3612</td>\n",
       "      <td>Ridiculous.</td>\n",
       "      <td>1</td>\n",
       "    </tr>\n",
       "    <tr>\n",
       "      <th>178</th>\n",
       "      <td>0.722</td>\n",
       "      <td>0.278</td>\n",
       "      <td>0.0</td>\n",
       "      <td>-0.6369</td>\n",
       "      <td>It *was* a trap :(</td>\n",
       "      <td>1</td>\n",
       "    </tr>\n",
       "    <tr>\n",
       "      <th>524</th>\n",
       "      <td>0.674</td>\n",
       "      <td>0.326</td>\n",
       "      <td>0.0</td>\n",
       "      <td>-0.7351</td>\n",
       "      <td>RIP this poor poor cast</td>\n",
       "      <td>1</td>\n",
       "    </tr>\n",
       "    <tr>\n",
       "      <th>289</th>\n",
       "      <td>0.669</td>\n",
       "      <td>0.331</td>\n",
       "      <td>0.0</td>\n",
       "      <td>-0.8442</td>\n",
       "      <td>The People Who Killed Star Wars</td>\n",
       "      <td>1</td>\n",
       "    </tr>\n",
       "    <tr>\n",
       "      <th>57</th>\n",
       "      <td>0.629</td>\n",
       "      <td>0.371</td>\n",
       "      <td>0.0</td>\n",
       "      <td>-0.5255</td>\n",
       "      <td>I had a goddamn PLAN!</td>\n",
       "      <td>1</td>\n",
       "    </tr>\n",
       "  </tbody>\n",
       "</table>\n",
       "</div>"
      ],
      "text/plain": [
       "       neg    neu  pos  compound                          features  target\n",
       "533  1.000  0.000  0.0   -0.3612                      Ridiculous.        1\n",
       "178  0.722  0.278  0.0   -0.6369               It *was* a trap :(        1\n",
       "524  0.674  0.326  0.0   -0.7351          RIP this poor poor cast        1\n",
       "289  0.669  0.331  0.0   -0.8442  The People Who Killed Star Wars        1\n",
       "57   0.629  0.371  0.0   -0.5255            I had a goddamn PLAN!        1"
      ]
     },
     "execution_count": 37,
     "metadata": {},
     "output_type": "execute_result"
    }
   ],
   "source": [
    "df_stc.sort_values(by='neg', ascending=False).head()"
   ]
  },
  {
   "cell_type": "code",
   "execution_count": 38,
   "metadata": {},
   "outputs": [],
   "source": [
    "df_swc = df_vader[df_vader['target'] == 0]"
   ]
  },
  {
   "cell_type": "code",
   "execution_count": 39,
   "metadata": {},
   "outputs": [
    {
     "data": {
      "text/html": [
       "<div>\n",
       "<style scoped>\n",
       "    .dataframe tbody tr th:only-of-type {\n",
       "        vertical-align: middle;\n",
       "    }\n",
       "\n",
       "    .dataframe tbody tr th {\n",
       "        vertical-align: top;\n",
       "    }\n",
       "\n",
       "    .dataframe thead th {\n",
       "        text-align: right;\n",
       "    }\n",
       "</style>\n",
       "<table border=\"1\" class=\"dataframe\">\n",
       "  <thead>\n",
       "    <tr style=\"text-align: right;\">\n",
       "      <th></th>\n",
       "      <th>neg</th>\n",
       "      <th>neu</th>\n",
       "      <th>pos</th>\n",
       "      <th>compound</th>\n",
       "      <th>features</th>\n",
       "      <th>target</th>\n",
       "    </tr>\n",
       "  </thead>\n",
       "  <tbody>\n",
       "    <tr>\n",
       "      <th>1183</th>\n",
       "      <td>0.0</td>\n",
       "      <td>0.133</td>\n",
       "      <td>0.867</td>\n",
       "      <td>0.7579</td>\n",
       "      <td>Good for a laugh</td>\n",
       "      <td>0</td>\n",
       "    </tr>\n",
       "    <tr>\n",
       "      <th>1136</th>\n",
       "      <td>0.0</td>\n",
       "      <td>0.238</td>\n",
       "      <td>0.762</td>\n",
       "      <td>0.4939</td>\n",
       "      <td>Friendly Reminder</td>\n",
       "      <td>0</td>\n",
       "    </tr>\n",
       "    <tr>\n",
       "      <th>1404</th>\n",
       "      <td>0.0</td>\n",
       "      <td>0.263</td>\n",
       "      <td>0.737</td>\n",
       "      <td>0.4215</td>\n",
       "      <td>True Jedi</td>\n",
       "      <td>0</td>\n",
       "    </tr>\n",
       "    <tr>\n",
       "      <th>1526</th>\n",
       "      <td>0.0</td>\n",
       "      <td>0.263</td>\n",
       "      <td>0.737</td>\n",
       "      <td>0.8555</td>\n",
       "      <td>Ahmed Best is the best.</td>\n",
       "      <td>0</td>\n",
       "    </tr>\n",
       "    <tr>\n",
       "      <th>1671</th>\n",
       "      <td>0.0</td>\n",
       "      <td>0.303</td>\n",
       "      <td>0.697</td>\n",
       "      <td>0.3182</td>\n",
       "      <td>PLEASE READ</td>\n",
       "      <td>0</td>\n",
       "    </tr>\n",
       "  </tbody>\n",
       "</table>\n",
       "</div>"
      ],
      "text/plain": [
       "      neg    neu    pos  compound                  features  target\n",
       "1183  0.0  0.133  0.867    0.7579         Good for a laugh        0\n",
       "1136  0.0  0.238  0.762    0.4939        Friendly Reminder        0\n",
       "1404  0.0  0.263  0.737    0.4215                True Jedi        0\n",
       "1526  0.0  0.263  0.737    0.8555  Ahmed Best is the best.        0\n",
       "1671  0.0  0.303  0.697    0.3182              PLEASE READ        0"
      ]
     },
     "execution_count": 39,
     "metadata": {},
     "output_type": "execute_result"
    }
   ],
   "source": [
    "df_swc.sort_values(by='pos', ascending = False).head()"
   ]
  },
  {
   "cell_type": "code",
   "execution_count": 40,
   "metadata": {},
   "outputs": [
    {
     "data": {
      "text/html": [
       "<div>\n",
       "<style scoped>\n",
       "    .dataframe tbody tr th:only-of-type {\n",
       "        vertical-align: middle;\n",
       "    }\n",
       "\n",
       "    .dataframe tbody tr th {\n",
       "        vertical-align: top;\n",
       "    }\n",
       "\n",
       "    .dataframe thead th {\n",
       "        text-align: right;\n",
       "    }\n",
       "</style>\n",
       "<table border=\"1\" class=\"dataframe\">\n",
       "  <thead>\n",
       "    <tr style=\"text-align: right;\">\n",
       "      <th></th>\n",
       "      <th>neg</th>\n",
       "      <th>neu</th>\n",
       "      <th>pos</th>\n",
       "      <th>compound</th>\n",
       "      <th>features</th>\n",
       "      <th>target</th>\n",
       "    </tr>\n",
       "  </thead>\n",
       "  <tbody>\n",
       "    <tr>\n",
       "      <th>1497</th>\n",
       "      <td>1.000</td>\n",
       "      <td>0.000</td>\n",
       "      <td>0.0</td>\n",
       "      <td>-0.2244</td>\n",
       "      <td>Badass !</td>\n",
       "      <td>0</td>\n",
       "    </tr>\n",
       "    <tr>\n",
       "      <th>1903</th>\n",
       "      <td>0.756</td>\n",
       "      <td>0.244</td>\n",
       "      <td>0.0</td>\n",
       "      <td>-0.4767</td>\n",
       "      <td>Wallpaper accident</td>\n",
       "      <td>0</td>\n",
       "    </tr>\n",
       "    <tr>\n",
       "      <th>1047</th>\n",
       "      <td>0.625</td>\n",
       "      <td>0.375</td>\n",
       "      <td>0.0</td>\n",
       "      <td>-0.6124</td>\n",
       "      <td>Hard Star Wars Knowledge Quiz</td>\n",
       "      <td>0</td>\n",
       "    </tr>\n",
       "    <tr>\n",
       "      <th>1467</th>\n",
       "      <td>0.621</td>\n",
       "      <td>0.379</td>\n",
       "      <td>0.0</td>\n",
       "      <td>-0.8481</td>\n",
       "      <td>Star Wars #6 Was Wild as Hell</td>\n",
       "      <td>0</td>\n",
       "    </tr>\n",
       "    <tr>\n",
       "      <th>1541</th>\n",
       "      <td>0.608</td>\n",
       "      <td>0.392</td>\n",
       "      <td>0.0</td>\n",
       "      <td>-0.8971</td>\n",
       "      <td>There Really Are Things Worse Than Death [Star...</td>\n",
       "      <td>0</td>\n",
       "    </tr>\n",
       "  </tbody>\n",
       "</table>\n",
       "</div>"
      ],
      "text/plain": [
       "        neg    neu  pos  compound  \\\n",
       "1497  1.000  0.000  0.0   -0.2244   \n",
       "1903  0.756  0.244  0.0   -0.4767   \n",
       "1047  0.625  0.375  0.0   -0.6124   \n",
       "1467  0.621  0.379  0.0   -0.8481   \n",
       "1541  0.608  0.392  0.0   -0.8971   \n",
       "\n",
       "                                               features  target  \n",
       "1497                                          Badass !        0  \n",
       "1903                                Wallpaper accident        0  \n",
       "1047                     Hard Star Wars Knowledge Quiz        0  \n",
       "1467                     Star Wars #6 Was Wild as Hell        0  \n",
       "1541  There Really Are Things Worse Than Death [Star...       0  "
      ]
     },
     "execution_count": 40,
     "metadata": {},
     "output_type": "execute_result"
    }
   ],
   "source": [
    "df_swc.sort_values(by='neg', ascending = False).head()"
   ]
  },
  {
   "cell_type": "code",
   "execution_count": 41,
   "metadata": {},
   "outputs": [
    {
     "data": {
      "image/png": "[encoded data removed]",
      "text/plain": [
       "<Figure size 432x288 with 1 Axes>"
      ]
     },
     "metadata": {
      "needs_background": "light"
     },
     "output_type": "display_data"
    }
   ],
   "source": [
    "df_vader.groupby('target').mean()[['pos', 'neg', 'compound']].plot(kind='barh')\n",
    "plt.title('Average Positive, Negative & Compound Scores');\n"
   ]
  },
  {
   "cell_type": "code",
   "execution_count": 42,
   "metadata": {},
   "outputs": [
    {
     "data": {
      "text/html": [
       "<div>\n",
       "<style scoped>\n",
       "    .dataframe tbody tr th:only-of-type {\n",
       "        vertical-align: middle;\n",
       "    }\n",
       "\n",
       "    .dataframe tbody tr th {\n",
       "        vertical-align: top;\n",
       "    }\n",
       "\n",
       "    .dataframe thead th {\n",
       "        text-align: right;\n",
       "    }\n",
       "</style>\n",
       "<table border=\"1\" class=\"dataframe\">\n",
       "  <thead>\n",
       "    <tr style=\"text-align: right;\">\n",
       "      <th></th>\n",
       "      <th>neg</th>\n",
       "      <th>neu</th>\n",
       "      <th>pos</th>\n",
       "      <th>compound</th>\n",
       "    </tr>\n",
       "  </thead>\n",
       "  <tbody>\n",
       "    <tr>\n",
       "      <th>0</th>\n",
       "      <td>0.000</td>\n",
       "      <td>1.000</td>\n",
       "      <td>0.000</td>\n",
       "      <td>0.0000</td>\n",
       "    </tr>\n",
       "    <tr>\n",
       "      <th>1</th>\n",
       "      <td>0.101</td>\n",
       "      <td>0.899</td>\n",
       "      <td>0.000</td>\n",
       "      <td>-0.5574</td>\n",
       "    </tr>\n",
       "    <tr>\n",
       "      <th>2</th>\n",
       "      <td>0.190</td>\n",
       "      <td>0.810</td>\n",
       "      <td>0.000</td>\n",
       "      <td>-0.7269</td>\n",
       "    </tr>\n",
       "    <tr>\n",
       "      <th>3</th>\n",
       "      <td>0.433</td>\n",
       "      <td>0.429</td>\n",
       "      <td>0.137</td>\n",
       "      <td>-0.7845</td>\n",
       "    </tr>\n",
       "    <tr>\n",
       "      <th>4</th>\n",
       "      <td>0.000</td>\n",
       "      <td>1.000</td>\n",
       "      <td>0.000</td>\n",
       "      <td>0.0000</td>\n",
       "    </tr>\n",
       "  </tbody>\n",
       "</table>\n",
       "</div>"
      ],
      "text/plain": [
       "     neg    neu    pos  compound\n",
       "0  0.000  1.000  0.000    0.0000\n",
       "1  0.101  0.899  0.000   -0.5574\n",
       "2  0.190  0.810  0.000   -0.7269\n",
       "3  0.433  0.429  0.137   -0.7845\n",
       "4  0.000  1.000  0.000    0.0000"
      ]
     },
     "execution_count": 42,
     "metadata": {},
     "output_type": "execute_result"
    }
   ],
   "source": [
    "df_vader.drop(columns=['features', 'target'], inplace = True)\n",
    "df_vader.head()"
   ]
  },
  {
   "cell_type": "code",
   "execution_count": 43,
   "metadata": {},
   "outputs": [
    {
     "data": {
      "text/html": [
       "<div>\n",
       "<style scoped>\n",
       "    .dataframe tbody tr th:only-of-type {\n",
       "        vertical-align: middle;\n",
       "    }\n",
       "\n",
       "    .dataframe tbody tr th {\n",
       "        vertical-align: top;\n",
       "    }\n",
       "\n",
       "    .dataframe thead th {\n",
       "        text-align: right;\n",
       "    }\n",
       "</style>\n",
       "<table border=\"1\" class=\"dataframe\">\n",
       "  <thead>\n",
       "    <tr style=\"text-align: right;\">\n",
       "      <th></th>\n",
       "      <th>title</th>\n",
       "      <th>score</th>\n",
       "      <th>id</th>\n",
       "      <th>url</th>\n",
       "      <th>comms_num</th>\n",
       "      <th>created</th>\n",
       "      <th>body</th>\n",
       "      <th>subreddit</th>\n",
       "      <th>features</th>\n",
       "      <th>target</th>\n",
       "      <th>feature_length</th>\n",
       "      <th>feature_word_count</th>\n",
       "    </tr>\n",
       "  </thead>\n",
       "  <tbody>\n",
       "    <tr>\n",
       "      <th>0</th>\n",
       "      <td>When exactly did this whole Force dyad between...</td>\n",
       "      <td>5</td>\n",
       "      <td>jakk3z</td>\n",
       "      <td>https://www.reddit.com/r/saltierthancrait/comm...</td>\n",
       "      <td>9</td>\n",
       "      <td>1.602646e+09</td>\n",
       "      <td></td>\n",
       "      <td>saltierthancrait</td>\n",
       "      <td>When exactly did this whole Force dyad between...</td>\n",
       "      <td>1</td>\n",
       "      <td>77</td>\n",
       "      <td>14</td>\n",
       "    </tr>\n",
       "    <tr>\n",
       "      <th>1</th>\n",
       "      <td>Hol up, can you even jam speeders?</td>\n",
       "      <td>5</td>\n",
       "      <td>jaj49d</td>\n",
       "      <td>https://www.reddit.com/r/saltierthancrait/comm...</td>\n",
       "      <td>10</td>\n",
       "      <td>1.602642e+09</td>\n",
       "      <td>Just thinking about that scene and how massive...</td>\n",
       "      <td>saltierthancrait</td>\n",
       "      <td>Hol up, can you even jam speeders? Just thinki...</td>\n",
       "      <td>1</td>\n",
       "      <td>185</td>\n",
       "      <td>35</td>\n",
       "    </tr>\n",
       "    <tr>\n",
       "      <th>2</th>\n",
       "      <td>Remember in Battlefront 2 (newer one) when you...</td>\n",
       "      <td>86</td>\n",
       "      <td>jah2m7</td>\n",
       "      <td>https://www.reddit.com/r/saltierthancrait/comm...</td>\n",
       "      <td>13</td>\n",
       "      <td>1.602636e+09</td>\n",
       "      <td>Because The Rise of Skywalker doesn't seem to</td>\n",
       "      <td>saltierthancrait</td>\n",
       "      <td>Remember in Battlefront 2 (newer one) when you...</td>\n",
       "      <td>1</td>\n",
       "      <td>171</td>\n",
       "      <td>30</td>\n",
       "    </tr>\n",
       "    <tr>\n",
       "      <th>3</th>\n",
       "      <td>Just a friendly reminder of how badly Star War...</td>\n",
       "      <td>324</td>\n",
       "      <td>jah1uf</td>\n",
       "      <td>https://i.redd.it/nlzsftux3ws51.png</td>\n",
       "      <td>45</td>\n",
       "      <td>1.602636e+09</td>\n",
       "      <td></td>\n",
       "      <td>saltierthancrait</td>\n",
       "      <td>Just a friendly reminder of how badly Star War...</td>\n",
       "      <td>1</td>\n",
       "      <td>85</td>\n",
       "      <td>16</td>\n",
       "    </tr>\n",
       "    <tr>\n",
       "      <th>4</th>\n",
       "      <td>Dark Empire Episode 1: The Destiny of a Jedi (...</td>\n",
       "      <td>5</td>\n",
       "      <td>jaflwe</td>\n",
       "      <td>https://www.youtube.com/watch?v=lADCO-Ar76U</td>\n",
       "      <td>2</td>\n",
       "      <td>1.602631e+09</td>\n",
       "      <td></td>\n",
       "      <td>saltierthancrait</td>\n",
       "      <td>Dark Empire Episode 1: The Destiny of a Jedi (...</td>\n",
       "      <td>1</td>\n",
       "      <td>61</td>\n",
       "      <td>11</td>\n",
       "    </tr>\n",
       "  </tbody>\n",
       "</table>\n",
       "</div>"
      ],
      "text/plain": [
       "                                               title  score      id  \\\n",
       "0  When exactly did this whole Force dyad between...      5  jakk3z   \n",
       "1                 Hol up, can you even jam speeders?      5  jaj49d   \n",
       "2  Remember in Battlefront 2 (newer one) when you...     86  jah2m7   \n",
       "3  Just a friendly reminder of how badly Star War...    324  jah1uf   \n",
       "4  Dark Empire Episode 1: The Destiny of a Jedi (...      5  jaflwe   \n",
       "\n",
       "                                                 url  comms_num       created  \\\n",
       "0  https://www.reddit.com/r/saltierthancrait/comm...          9  1.602646e+09   \n",
       "1  https://www.reddit.com/r/saltierthancrait/comm...         10  1.602642e+09   \n",
       "2  https://www.reddit.com/r/saltierthancrait/comm...         13  1.602636e+09   \n",
       "3                https://i.redd.it/nlzsftux3ws51.png         45  1.602636e+09   \n",
       "4        https://www.youtube.com/watch?v=lADCO-Ar76U          2  1.602631e+09   \n",
       "\n",
       "                                                body         subreddit  \\\n",
       "0                                                     saltierthancrait   \n",
       "1  Just thinking about that scene and how massive...  saltierthancrait   \n",
       "2      Because The Rise of Skywalker doesn't seem to  saltierthancrait   \n",
       "3                                                     saltierthancrait   \n",
       "4                                                     saltierthancrait   \n",
       "\n",
       "                                            features  target  feature_length  \\\n",
       "0  When exactly did this whole Force dyad between...       1              77   \n",
       "1  Hol up, can you even jam speeders? Just thinki...       1             185   \n",
       "2  Remember in Battlefront 2 (newer one) when you...       1             171   \n",
       "3  Just a friendly reminder of how badly Star War...       1              85   \n",
       "4  Dark Empire Episode 1: The Destiny of a Jedi (...       1              61   \n",
       "\n",
       "   feature_word_count  \n",
       "0                  14  \n",
       "1                  35  \n",
       "2                  30  \n",
       "3                  16  \n",
       "4                  11  "
      ]
     },
     "execution_count": 43,
     "metadata": {},
     "output_type": "execute_result"
    }
   ],
   "source": [
    "df1.head()"
   ]
  },
  {
   "cell_type": "code",
   "execution_count": 44,
   "metadata": {},
   "outputs": [
    {
     "data": {
      "text/html": [
       "<div>\n",
       "<style scoped>\n",
       "    .dataframe tbody tr th:only-of-type {\n",
       "        vertical-align: middle;\n",
       "    }\n",
       "\n",
       "    .dataframe tbody tr th {\n",
       "        vertical-align: top;\n",
       "    }\n",
       "\n",
       "    .dataframe thead th {\n",
       "        text-align: right;\n",
       "    }\n",
       "</style>\n",
       "<table border=\"1\" class=\"dataframe\">\n",
       "  <thead>\n",
       "    <tr style=\"text-align: right;\">\n",
       "      <th></th>\n",
       "      <th>title</th>\n",
       "      <th>score</th>\n",
       "      <th>id</th>\n",
       "      <th>url</th>\n",
       "      <th>comms_num</th>\n",
       "      <th>created</th>\n",
       "      <th>body</th>\n",
       "      <th>subreddit</th>\n",
       "      <th>features</th>\n",
       "      <th>target</th>\n",
       "      <th>feature_length</th>\n",
       "      <th>feature_word_count</th>\n",
       "      <th>neg</th>\n",
       "      <th>neu</th>\n",
       "      <th>pos</th>\n",
       "      <th>compound</th>\n",
       "    </tr>\n",
       "  </thead>\n",
       "  <tbody>\n",
       "    <tr>\n",
       "      <th>0</th>\n",
       "      <td>When exactly did this whole Force dyad between...</td>\n",
       "      <td>5</td>\n",
       "      <td>jakk3z</td>\n",
       "      <td>https://www.reddit.com/r/saltierthancrait/comm...</td>\n",
       "      <td>9</td>\n",
       "      <td>1.602646e+09</td>\n",
       "      <td></td>\n",
       "      <td>saltierthancrait</td>\n",
       "      <td>When exactly did this whole Force dyad between...</td>\n",
       "      <td>1</td>\n",
       "      <td>77</td>\n",
       "      <td>14</td>\n",
       "      <td>0.0</td>\n",
       "      <td>1.0</td>\n",
       "      <td>0.0</td>\n",
       "      <td>0.0</td>\n",
       "    </tr>\n",
       "  </tbody>\n",
       "</table>\n",
       "</div>"
      ],
      "text/plain": [
       "                                               title  score      id  \\\n",
       "0  When exactly did this whole Force dyad between...      5  jakk3z   \n",
       "\n",
       "                                                 url  comms_num       created  \\\n",
       "0  https://www.reddit.com/r/saltierthancrait/comm...          9  1.602646e+09   \n",
       "\n",
       "  body         subreddit                                           features  \\\n",
       "0       saltierthancrait  When exactly did this whole Force dyad between...   \n",
       "\n",
       "   target  feature_length  feature_word_count  neg  neu  pos  compound  \n",
       "0       1              77                  14  0.0  1.0  0.0       0.0  "
      ]
     },
     "execution_count": 44,
     "metadata": {},
     "output_type": "execute_result"
    }
   ],
   "source": [
    "df2 = pd.concat([df1, df_vader], axis =1)\n",
    "df2.head(1)"
   ]
  },
  {
   "cell_type": "code",
   "execution_count": 45,
   "metadata": {},
   "outputs": [],
   "source": [
    "df2['features'] = df2['features'].replace('http\\S+', '', regex=True).replace('www\\S+', '', regex=True).replace('#\\S+', '', regex=True).replace('\\n\\n\\S+', '', regex=True)"
   ]
  },
  {
   "cell_type": "code",
   "execution_count": 46,
   "metadata": {},
   "outputs": [],
   "source": [
    "# This function is going to remove punctuation and make the text lower case\n",
    "\n",
    "def remove_punctuation(text):\n",
    "    lower = text.lower()  \n",
    "    exclude = string.punctuation  #identifies punctuation marks\n",
    "    return \"\".join(ch for ch in lower if ch not in exclude) \n",
    "   #this iterates through each character, if the character is not a punctuation mark it will join to the empty string"
   ]
  },
  {
   "cell_type": "code",
   "execution_count": 47,
   "metadata": {},
   "outputs": [],
   "source": [
    "df2['features'] = df2['features'].apply(remove_punctuation)"
   ]
  },
  {
   "cell_type": "code",
   "execution_count": 48,
   "metadata": {},
   "outputs": [],
   "source": [
    "stemmer = PorterStemmer()  #instantiate stemmer"
   ]
  },
  {
   "cell_type": "code",
   "execution_count": 49,
   "metadata": {},
   "outputs": [],
   "source": [
    "def split_and_stem(string):\n",
    "    word = \"\"   #empty string\n",
    "    string = string.split(' ') #creates list of words\n",
    "    for i in string: #iterates through that list of words\n",
    "        word += (stemmer.stem(i) + \" \")  #stems each word and adds to empty string\n",
    "    return word  #returns string with stemmed words"
   ]
  },
  {
   "cell_type": "code",
   "execution_count": 50,
   "metadata": {},
   "outputs": [],
   "source": [
    "df2['features'] = df['features'].apply(split_and_stem)"
   ]
  },
  {
   "cell_type": "code",
   "execution_count": 51,
   "metadata": {},
   "outputs": [
    {
     "data": {
      "text/html": [
       "<div>\n",
       "<style scoped>\n",
       "    .dataframe tbody tr th:only-of-type {\n",
       "        vertical-align: middle;\n",
       "    }\n",
       "\n",
       "    .dataframe tbody tr th {\n",
       "        vertical-align: top;\n",
       "    }\n",
       "\n",
       "    .dataframe thead th {\n",
       "        text-align: right;\n",
       "    }\n",
       "</style>\n",
       "<table border=\"1\" class=\"dataframe\">\n",
       "  <thead>\n",
       "    <tr style=\"text-align: right;\">\n",
       "      <th></th>\n",
       "      <th>title</th>\n",
       "      <th>score</th>\n",
       "      <th>id</th>\n",
       "      <th>url</th>\n",
       "      <th>comms_num</th>\n",
       "      <th>created</th>\n",
       "      <th>body</th>\n",
       "      <th>subreddit</th>\n",
       "      <th>features</th>\n",
       "      <th>target</th>\n",
       "      <th>feature_length</th>\n",
       "      <th>feature_word_count</th>\n",
       "      <th>neg</th>\n",
       "      <th>neu</th>\n",
       "      <th>pos</th>\n",
       "      <th>compound</th>\n",
       "    </tr>\n",
       "  </thead>\n",
       "  <tbody>\n",
       "    <tr>\n",
       "      <th>0</th>\n",
       "      <td>When exactly did this whole Force dyad between...</td>\n",
       "      <td>5</td>\n",
       "      <td>jakk3z</td>\n",
       "      <td>https://www.reddit.com/r/saltierthancrait/comm...</td>\n",
       "      <td>9</td>\n",
       "      <td>1.602646e+09</td>\n",
       "      <td></td>\n",
       "      <td>saltierthancrait</td>\n",
       "      <td>when exactli did thi whole forc dyad between r...</td>\n",
       "      <td>1</td>\n",
       "      <td>77</td>\n",
       "      <td>14</td>\n",
       "      <td>0.000</td>\n",
       "      <td>1.000</td>\n",
       "      <td>0.000</td>\n",
       "      <td>0.0000</td>\n",
       "    </tr>\n",
       "    <tr>\n",
       "      <th>1</th>\n",
       "      <td>Hol up, can you even jam speeders?</td>\n",
       "      <td>5</td>\n",
       "      <td>jaj49d</td>\n",
       "      <td>https://www.reddit.com/r/saltierthancrait/comm...</td>\n",
       "      <td>10</td>\n",
       "      <td>1.602642e+09</td>\n",
       "      <td>Just thinking about that scene and how massive...</td>\n",
       "      <td>saltierthancrait</td>\n",
       "      <td>hol up, can you even jam speeders? just think ...</td>\n",
       "      <td>1</td>\n",
       "      <td>185</td>\n",
       "      <td>35</td>\n",
       "      <td>0.101</td>\n",
       "      <td>0.899</td>\n",
       "      <td>0.000</td>\n",
       "      <td>-0.5574</td>\n",
       "    </tr>\n",
       "    <tr>\n",
       "      <th>2</th>\n",
       "      <td>Remember in Battlefront 2 (newer one) when you...</td>\n",
       "      <td>86</td>\n",
       "      <td>jah2m7</td>\n",
       "      <td>https://www.reddit.com/r/saltierthancrait/comm...</td>\n",
       "      <td>13</td>\n",
       "      <td>1.602636e+09</td>\n",
       "      <td>Because The Rise of Skywalker doesn't seem to</td>\n",
       "      <td>saltierthancrait</td>\n",
       "      <td>rememb in battlefront 2 (newer one) when you f...</td>\n",
       "      <td>1</td>\n",
       "      <td>171</td>\n",
       "      <td>30</td>\n",
       "      <td>0.190</td>\n",
       "      <td>0.810</td>\n",
       "      <td>0.000</td>\n",
       "      <td>-0.7269</td>\n",
       "    </tr>\n",
       "    <tr>\n",
       "      <th>3</th>\n",
       "      <td>Just a friendly reminder of how badly Star War...</td>\n",
       "      <td>324</td>\n",
       "      <td>jah1uf</td>\n",
       "      <td>https://i.redd.it/nlzsftux3ws51.png</td>\n",
       "      <td>45</td>\n",
       "      <td>1.602636e+09</td>\n",
       "      <td></td>\n",
       "      <td>saltierthancrait</td>\n",
       "      <td>just a friendli remind of how badli star war a...</td>\n",
       "      <td>1</td>\n",
       "      <td>85</td>\n",
       "      <td>16</td>\n",
       "      <td>0.433</td>\n",
       "      <td>0.429</td>\n",
       "      <td>0.137</td>\n",
       "      <td>-0.7845</td>\n",
       "    </tr>\n",
       "    <tr>\n",
       "      <th>4</th>\n",
       "      <td>Dark Empire Episode 1: The Destiny of a Jedi (...</td>\n",
       "      <td>5</td>\n",
       "      <td>jaflwe</td>\n",
       "      <td>https://www.youtube.com/watch?v=lADCO-Ar76U</td>\n",
       "      <td>2</td>\n",
       "      <td>1.602631e+09</td>\n",
       "      <td></td>\n",
       "      <td>saltierthancrait</td>\n",
       "      <td>dark empir episod 1: the destini of a jedi (fa...</td>\n",
       "      <td>1</td>\n",
       "      <td>61</td>\n",
       "      <td>11</td>\n",
       "      <td>0.000</td>\n",
       "      <td>1.000</td>\n",
       "      <td>0.000</td>\n",
       "      <td>0.0000</td>\n",
       "    </tr>\n",
       "  </tbody>\n",
       "</table>\n",
       "</div>"
      ],
      "text/plain": [
       "                                               title  score      id  \\\n",
       "0  When exactly did this whole Force dyad between...      5  jakk3z   \n",
       "1                 Hol up, can you even jam speeders?      5  jaj49d   \n",
       "2  Remember in Battlefront 2 (newer one) when you...     86  jah2m7   \n",
       "3  Just a friendly reminder of how badly Star War...    324  jah1uf   \n",
       "4  Dark Empire Episode 1: The Destiny of a Jedi (...      5  jaflwe   \n",
       "\n",
       "                                                 url  comms_num       created  \\\n",
       "0  https://www.reddit.com/r/saltierthancrait/comm...          9  1.602646e+09   \n",
       "1  https://www.reddit.com/r/saltierthancrait/comm...         10  1.602642e+09   \n",
       "2  https://www.reddit.com/r/saltierthancrait/comm...         13  1.602636e+09   \n",
       "3                https://i.redd.it/nlzsftux3ws51.png         45  1.602636e+09   \n",
       "4        https://www.youtube.com/watch?v=lADCO-Ar76U          2  1.602631e+09   \n",
       "\n",
       "                                                body         subreddit  \\\n",
       "0                                                     saltierthancrait   \n",
       "1  Just thinking about that scene and how massive...  saltierthancrait   \n",
       "2      Because The Rise of Skywalker doesn't seem to  saltierthancrait   \n",
       "3                                                     saltierthancrait   \n",
       "4                                                     saltierthancrait   \n",
       "\n",
       "                                            features  target  feature_length  \\\n",
       "0  when exactli did thi whole forc dyad between r...       1              77   \n",
       "1  hol up, can you even jam speeders? just think ...       1             185   \n",
       "2  rememb in battlefront 2 (newer one) when you f...       1             171   \n",
       "3  just a friendli remind of how badli star war a...       1              85   \n",
       "4  dark empir episod 1: the destini of a jedi (fa...       1              61   \n",
       "\n",
       "   feature_word_count    neg    neu    pos  compound  \n",
       "0                  14  0.000  1.000  0.000    0.0000  \n",
       "1                  35  0.101  0.899  0.000   -0.5574  \n",
       "2                  30  0.190  0.810  0.000   -0.7269  \n",
       "3                  16  0.433  0.429  0.137   -0.7845  \n",
       "4                  11  0.000  1.000  0.000    0.0000  "
      ]
     },
     "execution_count": 51,
     "metadata": {},
     "output_type": "execute_result"
    }
   ],
   "source": [
    "df2.head()"
   ]
  },
  {
   "cell_type": "code",
   "execution_count": 52,
   "metadata": {},
   "outputs": [],
   "source": [
    "df2.to_csv('./data/stemtext_count_sentiment.csv')"
   ]
  },
  {
   "cell_type": "code",
   "execution_count": null,
   "metadata": {},
   "outputs": [],
   "source": []
  }
 ],
 "metadata": {
  "kernelspec": {
   "display_name": "Python 3",
   "language": "python",
   "name": "python3"
  },
  "language_info": {
   "codemirror_mode": {
    "name": "ipython",
    "version": 3
   },
   "file_extension": ".py",
   "mimetype": "text/x-python",
   "name": "python",
   "nbconvert_exporter": "python",
   "pygments_lexer": "ipython3",
   "version": "3.8.5"
  }
 },
 "nbformat": 4,
 "nbformat_minor": 4
}
